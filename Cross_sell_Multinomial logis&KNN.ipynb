{
 "cells": [
  {
   "cell_type": "code",
   "execution_count": null,
   "metadata": {},
   "outputs": [],
   "source": [
    "##### MAC AND LINUX INSTALL PACKAGES #####"
   ]
  },
  {
   "cell_type": "code",
   "execution_count": null,
   "metadata": {},
   "outputs": [],
   "source": [
    "##### WINDOWS INSTALL PACKAGES #####"
   ]
  },
  {
   "cell_type": "code",
   "execution_count": 1,
   "metadata": {},
   "outputs": [],
   "source": [
    "# import the required packages\n",
    "import pandas as pd\n",
    "import numpy as np\n",
    "\n",
    "import matplotlib.pyplot as plt\n",
    "import seaborn as sns\n",
    "\n",
    "from sklearn.model_selection import train_test_split\n",
    "from sklearn.preprocessing import LabelEncoder\n",
    "from sklearn.neighbors import KNeighborsClassifier\n",
    "from sklearn.linear_model import LogisticRegression\n",
    "from sklearn.metrics import accuracy_score,precision_score,recall_score\n",
    "\n",
    "from datetime import timedelta"
   ]
  },
  {
   "cell_type": "code",
   "execution_count": 2,
   "metadata": {},
   "outputs": [],
   "source": [
    "# import the data \n",
    "routes = pd.read_csv(\"/Users/echo/Desktop/ACRM/Team_Assignement/data/HVC_HVROUTETEMPLATE.csv\",sep=\";\")\n",
    "products = pd.read_csv(\"/Users/echo/Desktop/ACRM/Team_Assignement/data/HVC_AR0.csv\",sep=\";\")\n",
    "customers = pd.read_csv(\"/Users/echo/Desktop/ACRM/Team_Assignement/data/HVC_SO0.csv\",sep=\";\")\n",
    "visitdetails = pd.read_csv(\"/Users/echo/Desktop/ACRM/Team_Assignement/data/HVC_VISITRESULTDETAILS.csv\",sep=\";\")\n",
    "visits = pd.read_csv(\"/Users/echo/Desktop/ACRM/Team_Assignement/data/HVC_HVVISITRESULT.csv\",sep=\";\")"
   ]
  },
  {
   "cell_type": "markdown",
   "metadata": {},
   "source": [
    "# 0. Introduction to the case"
   ]
  },
  {
   "cell_type": "markdown",
   "metadata": {},
   "source": [
    "This cross-sell case is about a company in the food industry. Sales representatives drive around to visit customers and try to convince them to buy more or new products. Based on the profitability of the customer, sales representatives decide whether they will add them to their route or not. \n",
    "\n",
    "The goal of this case is to construct a model that is able to predict which product a customer will buy next. "
   ]
  },
  {
   "cell_type": "markdown",
   "metadata": {},
   "source": [
    "# 1. Data Exploration"
   ]
  },
  {
   "cell_type": "markdown",
   "metadata": {},
   "source": [
    "## 1.1. Customers"
   ]
  },
  {
   "cell_type": "markdown",
   "metadata": {},
   "source": [
    "Inspect the shape and the first few observations of the customers dataframe"
   ]
  },
  {
   "cell_type": "code",
   "execution_count": 3,
   "metadata": {},
   "outputs": [
    {
     "data": {
      "text/plain": [
       "(5709, 6)"
      ]
     },
     "execution_count": 3,
     "metadata": {},
     "output_type": "execute_result"
    }
   ],
   "source": [
    "# inspect shape\n",
    "customers.shape"
   ]
  },
  {
   "cell_type": "code",
   "execution_count": 4,
   "metadata": {},
   "outputs": [
    {
     "data": {
      "text/html": [
       "<div>\n",
       "<style scoped>\n",
       "    .dataframe tbody tr th:only-of-type {\n",
       "        vertical-align: middle;\n",
       "    }\n",
       "\n",
       "    .dataframe tbody tr th {\n",
       "        vertical-align: top;\n",
       "    }\n",
       "\n",
       "    .dataframe thead th {\n",
       "        text-align: right;\n",
       "    }\n",
       "</style>\n",
       "<table border=\"1\" class=\"dataframe\">\n",
       "  <thead>\n",
       "    <tr style=\"text-align: right;\">\n",
       "      <th></th>\n",
       "      <th>SO0_NRID</th>\n",
       "      <th>HVROUTETEMPLATE_NRID</th>\n",
       "      <th>CUST_TYPE</th>\n",
       "      <th>POSTCODE</th>\n",
       "      <th>LANGUAGE</th>\n",
       "      <th>SEASON_TYPE</th>\n",
       "    </tr>\n",
       "  </thead>\n",
       "  <tbody>\n",
       "    <tr>\n",
       "      <th>0</th>\n",
       "      <td>721104.0</td>\n",
       "      <td>219020601.0</td>\n",
       "      <td>Private</td>\n",
       "      <td>3930</td>\n",
       "      <td>nl-BE</td>\n",
       "      <td>All time</td>\n",
       "    </tr>\n",
       "    <tr>\n",
       "      <th>1</th>\n",
       "      <td>721110.0</td>\n",
       "      <td>219020601.0</td>\n",
       "      <td>Private</td>\n",
       "      <td>3930</td>\n",
       "      <td>nl-BE</td>\n",
       "      <td>All time</td>\n",
       "    </tr>\n",
       "    <tr>\n",
       "      <th>2</th>\n",
       "      <td>721121.0</td>\n",
       "      <td>219020601.0</td>\n",
       "      <td>Private</td>\n",
       "      <td>3930</td>\n",
       "      <td>nl-BE</td>\n",
       "      <td>All time</td>\n",
       "    </tr>\n",
       "    <tr>\n",
       "      <th>3</th>\n",
       "      <td>721126.0</td>\n",
       "      <td>219020601.0</td>\n",
       "      <td>Private</td>\n",
       "      <td>3930</td>\n",
       "      <td>nl-BE</td>\n",
       "      <td>All time</td>\n",
       "    </tr>\n",
       "    <tr>\n",
       "      <th>4</th>\n",
       "      <td>721131.0</td>\n",
       "      <td>219020601.0</td>\n",
       "      <td>Private</td>\n",
       "      <td>3930</td>\n",
       "      <td>nl-BE</td>\n",
       "      <td>All time</td>\n",
       "    </tr>\n",
       "  </tbody>\n",
       "</table>\n",
       "</div>"
      ],
      "text/plain": [
       "   SO0_NRID  HVROUTETEMPLATE_NRID CUST_TYPE  POSTCODE LANGUAGE SEASON_TYPE\n",
       "0  721104.0           219020601.0   Private      3930    nl-BE    All time\n",
       "1  721110.0           219020601.0   Private      3930    nl-BE    All time\n",
       "2  721121.0           219020601.0   Private      3930    nl-BE    All time\n",
       "3  721126.0           219020601.0   Private      3930    nl-BE    All time\n",
       "4  721131.0           219020601.0   Private      3930    nl-BE    All time"
      ]
     },
     "execution_count": 4,
     "metadata": {},
     "output_type": "execute_result"
    }
   ],
   "source": [
    "# check first observations of customers dataset\n",
    "customers.head()"
   ]
  },
  {
   "cell_type": "markdown",
   "metadata": {},
   "source": [
    "The table above contains several pieces of information about customers, i.e. on which route they are located (RouteID), the type of customer they are (CustomerType), the ZIP code of the area they are located in (ZIP), and the season in which they are customers (SeasonType). \n",
    "\n",
    "Based on the table above, we may suspect that the variable 'CustomerID' represents a unique ID for each customer. To make sure that this is the case, we have to check whether 'CustomerID' is unique. "
   ]
  },
  {
   "cell_type": "code",
   "execution_count": 6,
   "metadata": {},
   "outputs": [
    {
     "data": {
      "text/plain": [
       "True"
      ]
     },
     "execution_count": 6,
     "metadata": {},
     "output_type": "execute_result"
    }
   ],
   "source": [
    "# inspect if CustomerID is unique in customers dataset\n",
    "customers[\"SO0_NRID\"].is_unique"
   ]
  },
  {
   "cell_type": "markdown",
   "metadata": {},
   "source": [
    "Furthermore, to gain a better understanding of the variables in the table, we check out the different categories (and the frequency with which the occur) of the variables 'CustomerType' and 'SeasonType'"
   ]
  },
  {
   "cell_type": "code",
   "execution_count": 7,
   "metadata": {},
   "outputs": [
    {
     "data": {
      "text/plain": [
       "All time     5554\n",
       "Summer        150\n",
       "Christmas       3\n",
       "Winter          1\n",
       "Name: SEASON_TYPE, dtype: int64"
      ]
     },
     "execution_count": 7,
     "metadata": {},
     "output_type": "execute_result"
    }
   ],
   "source": [
    "# inspect SeasonType categories and frequencies\n",
    "customers[\"SEASON_TYPE\"].value_counts()"
   ]
  },
  {
   "cell_type": "code",
   "execution_count": 8,
   "metadata": {},
   "outputs": [
    {
     "data": {
      "text/plain": [
       "Private     5579\n",
       "Horeca        97\n",
       "Catering      33\n",
       "Name: CUST_TYPE, dtype: int64"
      ]
     },
     "execution_count": 8,
     "metadata": {},
     "output_type": "execute_result"
    }
   ],
   "source": [
    "# inspect CustomerType categories and frequencies\n",
    "customers[\"CUST_TYPE\"].value_counts()"
   ]
  },
  {
   "cell_type": "markdown",
   "metadata": {},
   "source": [
    "## 1.2. Products"
   ]
  },
  {
   "cell_type": "markdown",
   "metadata": {},
   "source": [
    "Inspect the shape and the first few observations of the products dataframe"
   ]
  },
  {
   "cell_type": "code",
   "execution_count": 9,
   "metadata": {},
   "outputs": [
    {
     "data": {
      "text/plain": [
       "(317, 5)"
      ]
     },
     "execution_count": 9,
     "metadata": {},
     "output_type": "execute_result"
    }
   ],
   "source": [
    "# inspect shape\n",
    "products.shape"
   ]
  },
  {
   "cell_type": "code",
   "execution_count": 10,
   "metadata": {
    "scrolled": true
   },
   "outputs": [
    {
     "data": {
      "text/html": [
       "<div>\n",
       "<style scoped>\n",
       "    .dataframe tbody tr th:only-of-type {\n",
       "        vertical-align: middle;\n",
       "    }\n",
       "\n",
       "    .dataframe tbody tr th {\n",
       "        vertical-align: top;\n",
       "    }\n",
       "\n",
       "    .dataframe thead th {\n",
       "        text-align: right;\n",
       "    }\n",
       "</style>\n",
       "<table border=\"1\" class=\"dataframe\">\n",
       "  <thead>\n",
       "    <tr style=\"text-align: right;\">\n",
       "      <th></th>\n",
       "      <th>AR0_NRID</th>\n",
       "      <th>DESCRIPTION</th>\n",
       "      <th>CATEGORY</th>\n",
       "      <th>FAMILY</th>\n",
       "      <th>PRICE</th>\n",
       "    </tr>\n",
       "  </thead>\n",
       "  <tbody>\n",
       "    <tr>\n",
       "      <th>0</th>\n",
       "      <td>20742288286838</td>\n",
       "      <td>Dessert Caramel/14</td>\n",
       "      <td>Verkoopsartikel</td>\n",
       "      <td>Cups</td>\n",
       "      <td>10.9</td>\n",
       "    </tr>\n",
       "    <tr>\n",
       "      <th>1</th>\n",
       "      <td>20413488326838</td>\n",
       "      <td>Penalty/16</td>\n",
       "      <td>Verkoopsartikel</td>\n",
       "      <td>Hand Ice</td>\n",
       "      <td>6.5</td>\n",
       "    </tr>\n",
       "    <tr>\n",
       "      <th>2</th>\n",
       "      <td>21515648414638</td>\n",
       "      <td>Kriekentaart</td>\n",
       "      <td>Verkoopsartikel</td>\n",
       "      <td>Coffee</td>\n",
       "      <td>7.9</td>\n",
       "    </tr>\n",
       "    <tr>\n",
       "      <th>3</th>\n",
       "      <td>20296288686840</td>\n",
       "      <td>Expo met zachte wafel/12</td>\n",
       "      <td>Verkoopsartikel</td>\n",
       "      <td>Individual Dessert</td>\n",
       "      <td>7.3</td>\n",
       "    </tr>\n",
       "    <tr>\n",
       "      <th>4</th>\n",
       "      <td>21844652504048</td>\n",
       "      <td>Paaseitjes</td>\n",
       "      <td>Verkoopsartikel</td>\n",
       "      <td>Individual Dessert</td>\n",
       "      <td>7.5</td>\n",
       "    </tr>\n",
       "  </tbody>\n",
       "</table>\n",
       "</div>"
      ],
      "text/plain": [
       "         AR0_NRID               DESCRIPTION         CATEGORY  \\\n",
       "0  20742288286838        Dessert Caramel/14  Verkoopsartikel   \n",
       "1  20413488326838                Penalty/16  Verkoopsartikel   \n",
       "2  21515648414638              Kriekentaart  Verkoopsartikel   \n",
       "3  20296288686840  Expo met zachte wafel/12  Verkoopsartikel   \n",
       "4  21844652504048                Paaseitjes  Verkoopsartikel   \n",
       "\n",
       "               FAMILY  PRICE  \n",
       "0                Cups   10.9  \n",
       "1            Hand Ice    6.5  \n",
       "2              Coffee    7.9  \n",
       "3  Individual Dessert    7.3  \n",
       "4  Individual Dessert    7.5  "
      ]
     },
     "execution_count": 10,
     "metadata": {},
     "output_type": "execute_result"
    }
   ],
   "source": [
    "# check first observations of products dataset\n",
    "products.head()"
   ]
  },
  {
   "cell_type": "markdown",
   "metadata": {},
   "source": [
    "Again, we need to verify whether 'ProductID' is unique"
   ]
  },
  {
   "cell_type": "code",
   "execution_count": 11,
   "metadata": {},
   "outputs": [
    {
     "data": {
      "text/plain": [
       "True"
      ]
     },
     "execution_count": 11,
     "metadata": {},
     "output_type": "execute_result"
    }
   ],
   "source": [
    "# check if ProductID is unique in table\n",
    "products[\"AR0_NRID\"].is_unique"
   ]
  },
  {
   "cell_type": "markdown",
   "metadata": {},
   "source": [
    "We also would like to know the number of different categories (and frequencies) for the variables 'Category' and 'Family'. "
   ]
  },
  {
   "cell_type": "code",
   "execution_count": 12,
   "metadata": {},
   "outputs": [
    {
     "data": {
      "text/plain": [
       "Verkoopsartikel    287\n",
       "Kortingsbon         28\n",
       "POS                  2\n",
       "Name: CATEGORY, dtype: int64"
      ]
     },
     "execution_count": 12,
     "metadata": {},
     "output_type": "execute_result"
    }
   ],
   "source": [
    "# inspect Category categories and frequencies\n",
    "products[\"CATEGORY\"].value_counts()"
   ]
  },
  {
   "cell_type": "code",
   "execution_count": 13,
   "metadata": {},
   "outputs": [
    {
     "data": {
      "text/plain": [
       "Scoop Ice             64\n",
       "Hand Ice              46\n",
       "Cups                  37\n",
       "Meals                 36\n",
       "Coffee                23\n",
       "Ice Cakes             23\n",
       "Individual Dessert    22\n",
       "Garniture             12\n",
       "Assortments            8\n",
       "BIG                    2\n",
       "POS inside             2\n",
       "Name: FAMILY, dtype: int64"
      ]
     },
     "execution_count": 13,
     "metadata": {},
     "output_type": "execute_result"
    }
   ],
   "source": [
    "# inspect Family categories and frequencies\n",
    "products[\"FAMILY\"].value_counts()"
   ]
  },
  {
   "cell_type": "markdown",
   "metadata": {},
   "source": [
    "For the variable 'Family', represent this visually by means of a barplot. Thus, the x-axis should represent the the product families and the y-axis should display the number of products in each product family. "
   ]
  },
  {
   "cell_type": "code",
   "execution_count": 14,
   "metadata": {
    "scrolled": true
   },
   "outputs": [
    {
     "data": {
      "text/html": [
       "<div>\n",
       "<style scoped>\n",
       "    .dataframe tbody tr th:only-of-type {\n",
       "        vertical-align: middle;\n",
       "    }\n",
       "\n",
       "    .dataframe tbody tr th {\n",
       "        vertical-align: top;\n",
       "    }\n",
       "\n",
       "    .dataframe thead th {\n",
       "        text-align: right;\n",
       "    }\n",
       "</style>\n",
       "<table border=\"1\" class=\"dataframe\">\n",
       "  <thead>\n",
       "    <tr style=\"text-align: right;\">\n",
       "      <th></th>\n",
       "      <th>index</th>\n",
       "      <th>FAMILY</th>\n",
       "    </tr>\n",
       "  </thead>\n",
       "  <tbody>\n",
       "    <tr>\n",
       "      <th>0</th>\n",
       "      <td>Scoop Ice</td>\n",
       "      <td>64</td>\n",
       "    </tr>\n",
       "    <tr>\n",
       "      <th>1</th>\n",
       "      <td>Hand Ice</td>\n",
       "      <td>46</td>\n",
       "    </tr>\n",
       "    <tr>\n",
       "      <th>2</th>\n",
       "      <td>Cups</td>\n",
       "      <td>37</td>\n",
       "    </tr>\n",
       "    <tr>\n",
       "      <th>3</th>\n",
       "      <td>Meals</td>\n",
       "      <td>36</td>\n",
       "    </tr>\n",
       "    <tr>\n",
       "      <th>4</th>\n",
       "      <td>Coffee</td>\n",
       "      <td>23</td>\n",
       "    </tr>\n",
       "    <tr>\n",
       "      <th>5</th>\n",
       "      <td>Ice Cakes</td>\n",
       "      <td>23</td>\n",
       "    </tr>\n",
       "    <tr>\n",
       "      <th>6</th>\n",
       "      <td>Individual Dessert</td>\n",
       "      <td>22</td>\n",
       "    </tr>\n",
       "    <tr>\n",
       "      <th>7</th>\n",
       "      <td>Garniture</td>\n",
       "      <td>12</td>\n",
       "    </tr>\n",
       "    <tr>\n",
       "      <th>8</th>\n",
       "      <td>Assortments</td>\n",
       "      <td>8</td>\n",
       "    </tr>\n",
       "    <tr>\n",
       "      <th>9</th>\n",
       "      <td>BIG</td>\n",
       "      <td>2</td>\n",
       "    </tr>\n",
       "    <tr>\n",
       "      <th>10</th>\n",
       "      <td>POS inside</td>\n",
       "      <td>2</td>\n",
       "    </tr>\n",
       "  </tbody>\n",
       "</table>\n",
       "</div>"
      ],
      "text/plain": [
       "                 index  FAMILY\n",
       "0            Scoop Ice      64\n",
       "1             Hand Ice      46\n",
       "2                 Cups      37\n",
       "3                Meals      36\n",
       "4               Coffee      23\n",
       "5            Ice Cakes      23\n",
       "6   Individual Dessert      22\n",
       "7            Garniture      12\n",
       "8          Assortments       8\n",
       "9                  BIG       2\n",
       "10          POS inside       2"
      ]
     },
     "execution_count": 14,
     "metadata": {},
     "output_type": "execute_result"
    }
   ],
   "source": [
    "# inspect number of products per product families\n",
    "\n",
    "# get number of products per family\n",
    "family_counts = pd.DataFrame(products[\"FAMILY\"].value_counts().reset_index())\n",
    "family_counts"
   ]
  },
  {
   "cell_type": "code",
   "execution_count": 15,
   "metadata": {},
   "outputs": [
    {
     "data": {
      "image/png": "[encoded data removed]",
      "text/plain": [
       "<Figure size 432x288 with 1 Axes>"
      ]
     },
     "metadata": {
      "needs_background": "light"
     },
     "output_type": "display_data"
    }
   ],
   "source": [
    "# rename columns\n",
    "family_counts.columns = [\"FAMILY\", \"num_products\"]\n",
    "# plot\n",
    "plt.bar(family_counts[\"FAMILY\"], family_counts[\"num_products\"])\n",
    "plt.xticks(range(len(family_counts)), family_counts[\"FAMILY\"], rotation=90)\n",
    "plt.ylabel(\"Number of products\")\n",
    "plt.show()"
   ]
  },
  {
   "cell_type": "markdown",
   "metadata": {},
   "source": [
    "## 1.3. Visits"
   ]
  },
  {
   "cell_type": "markdown",
   "metadata": {},
   "source": [
    "Inspect the shape and the first few observations of the products dataframe"
   ]
  },
  {
   "cell_type": "code",
   "execution_count": 16,
   "metadata": {},
   "outputs": [
    {
     "data": {
      "text/plain": [
       "(240415, 8)"
      ]
     },
     "execution_count": 16,
     "metadata": {},
     "output_type": "execute_result"
    }
   ],
   "source": [
    "# inspect shape\n",
    "visits.shape"
   ]
  },
  {
   "cell_type": "code",
   "execution_count": 17,
   "metadata": {
    "scrolled": true
   },
   "outputs": [
    {
     "data": {
      "text/html": [
       "<div>\n",
       "<style scoped>\n",
       "    .dataframe tbody tr th:only-of-type {\n",
       "        vertical-align: middle;\n",
       "    }\n",
       "\n",
       "    .dataframe tbody tr th {\n",
       "        vertical-align: top;\n",
       "    }\n",
       "\n",
       "    .dataframe thead th {\n",
       "        text-align: right;\n",
       "    }\n",
       "</style>\n",
       "<table border=\"1\" class=\"dataframe\">\n",
       "  <thead>\n",
       "    <tr style=\"text-align: right;\">\n",
       "      <th></th>\n",
       "      <th>HVVISITRESULT_NRID</th>\n",
       "      <th>SO0_NRID</th>\n",
       "      <th>AM0_NRID</th>\n",
       "      <th>HVOUTCOME_NRID</th>\n",
       "      <th>VISITDATE</th>\n",
       "      <th>DATEONLY</th>\n",
       "      <th>AMOUNT</th>\n",
       "      <th>PAYMENTTERM</th>\n",
       "    </tr>\n",
       "  </thead>\n",
       "  <tbody>\n",
       "    <tr>\n",
       "      <th>0</th>\n",
       "      <td>55681456</td>\n",
       "      <td>719952</td>\n",
       "      <td>23186288605042</td>\n",
       "      <td>2</td>\n",
       "      <td>12:20:01,000000000</td>\n",
       "      <td>2019-05-06</td>\n",
       "      <td>16.9</td>\n",
       "      <td>cash</td>\n",
       "    </tr>\n",
       "    <tr>\n",
       "      <th>1</th>\n",
       "      <td>55681507</td>\n",
       "      <td>1453609</td>\n",
       "      <td>19946584592834</td>\n",
       "      <td>2</td>\n",
       "      <td>12:13:50,000000000</td>\n",
       "      <td>2019-05-06</td>\n",
       "      <td>7.4</td>\n",
       "      <td>cash</td>\n",
       "    </tr>\n",
       "    <tr>\n",
       "      <th>2</th>\n",
       "      <td>55681509</td>\n",
       "      <td>1453614</td>\n",
       "      <td>19946584592834</td>\n",
       "      <td>2</td>\n",
       "      <td>12:14:08,000000000</td>\n",
       "      <td>2019-05-06</td>\n",
       "      <td>18.9</td>\n",
       "      <td>cash</td>\n",
       "    </tr>\n",
       "    <tr>\n",
       "      <th>3</th>\n",
       "      <td>55681512</td>\n",
       "      <td>1453602</td>\n",
       "      <td>19946584592834</td>\n",
       "      <td>1</td>\n",
       "      <td>12:16:04,000000000</td>\n",
       "      <td>2019-05-06</td>\n",
       "      <td>0.0</td>\n",
       "      <td>NaN</td>\n",
       "    </tr>\n",
       "    <tr>\n",
       "      <th>4</th>\n",
       "      <td>55674074</td>\n",
       "      <td>1252497</td>\n",
       "      <td>18934048107254</td>\n",
       "      <td>2</td>\n",
       "      <td>10:41:09,000000000</td>\n",
       "      <td>2019-05-06</td>\n",
       "      <td>34.9</td>\n",
       "      <td>tbp</td>\n",
       "    </tr>\n",
       "  </tbody>\n",
       "</table>\n",
       "</div>"
      ],
      "text/plain": [
       "   HVVISITRESULT_NRID  SO0_NRID        AM0_NRID  HVOUTCOME_NRID  \\\n",
       "0            55681456    719952  23186288605042               2   \n",
       "1            55681507   1453609  19946584592834               2   \n",
       "2            55681509   1453614  19946584592834               2   \n",
       "3            55681512   1453602  19946584592834               1   \n",
       "4            55674074   1252497  18934048107254               2   \n",
       "\n",
       "            VISITDATE    DATEONLY  AMOUNT PAYMENTTERM  \n",
       "0  12:20:01,000000000  2019-05-06    16.9        cash  \n",
       "1  12:13:50,000000000  2019-05-06     7.4        cash  \n",
       "2  12:14:08,000000000  2019-05-06    18.9        cash  \n",
       "3  12:16:04,000000000  2019-05-06     0.0         NaN  \n",
       "4  10:41:09,000000000  2019-05-06    34.9         tbp  "
      ]
     },
     "execution_count": 17,
     "metadata": {},
     "output_type": "execute_result"
    }
   ],
   "source": [
    "# inspect first observations of visits dataset\n",
    "visits.head()"
   ]
  },
  {
   "cell_type": "markdown",
   "metadata": {},
   "source": [
    "This table contains one row per visit. For each visit, it shows which customer (CustomerID) has been visited by which sales representative (SalesRepresentativeID) on what day (VisitDate). Furthermore, it also shows the outcome of the visit, the amount that was purchased and the payment term of the purchase."
   ]
  },
  {
   "cell_type": "markdown",
   "metadata": {},
   "source": [
    "First of all, we have to convert 'VisitDate' to pandas Datetime type (hint: use Google to figure out the correct format) "
   ]
  },
  {
   "cell_type": "code",
   "execution_count": 18,
   "metadata": {},
   "outputs": [],
   "source": [
    "# convert VisitDate of visits DataFrame to pandas Datetime type: 12:20:01,000000000\n",
    "visits[\"VISITDATE\"] = pd.to_datetime(visits[\"VISITDATE\"], format=\"%H:%M:%S,000000000\")\n",
    "\n",
    "visits[\"DATEONLY\"] = pd.to_datetime(visits[\"DATEONLY\"], format=\"%Y-%m-%d\")"
   ]
  },
  {
   "cell_type": "markdown",
   "metadata": {},
   "source": [
    "We also need to check whether 'VisitID' and 'CustomerID' are unique. "
   ]
  },
  {
   "cell_type": "code",
   "execution_count": 21,
   "metadata": {},
   "outputs": [
    {
     "data": {
      "text/plain": [
       "True"
      ]
     },
     "execution_count": 21,
     "metadata": {},
     "output_type": "execute_result"
    }
   ],
   "source": [
    "# check if VisitID is unique\n",
    "visits[\"HVVISITRESULT_NRID\"].is_unique"
   ]
  },
  {
   "cell_type": "code",
   "execution_count": 20,
   "metadata": {},
   "outputs": [
    {
     "data": {
      "text/plain": [
       "False"
      ]
     },
     "execution_count": 20,
     "metadata": {},
     "output_type": "execute_result"
    }
   ],
   "source": [
    "# check if CustomerID is unique\n",
    "visits[\"SO0_NRID\"].is_unique"
   ]
  },
  {
   "cell_type": "markdown",
   "metadata": {},
   "source": [
    "As 'VisitID' is unique and 'CustomerID' is not, this means that a customer can be visited multiple times. However, each visit is identified by a unique ID. "
   ]
  },
  {
   "cell_type": "markdown",
   "metadata": {},
   "source": [
    "Finally, let's check the different possible outcomes and the proportion with which they occur. "
   ]
  },
  {
   "cell_type": "code",
   "execution_count": 23,
   "metadata": {},
   "outputs": [
    {
     "data": {
      "text/plain": [
       "0    38.997151\n",
       "2    32.830730\n",
       "1    28.172119\n",
       "Name: HVOUTCOME_NRID, dtype: float64"
      ]
     },
     "execution_count": 23,
     "metadata": {},
     "output_type": "execute_result"
    }
   ],
   "source": [
    "# inspect the proportion of outcomes of the visits\n",
    "visits[\"HVOUTCOME_NRID\"].value_counts(normalize=True)*100"
   ]
  },
  {
   "cell_type": "markdown",
   "metadata": {},
   "source": [
    "## 1.4. VisitDetails"
   ]
  },
  {
   "cell_type": "markdown",
   "metadata": {},
   "source": [
    "Inspect the shape and the first few observations of the visitdetails dataframe"
   ]
  },
  {
   "cell_type": "code",
   "execution_count": 24,
   "metadata": {},
   "outputs": [
    {
     "data": {
      "text/plain": [
       "(126778, 4)"
      ]
     },
     "execution_count": 24,
     "metadata": {},
     "output_type": "execute_result"
    }
   ],
   "source": [
    "# inspect shape\n",
    "visitdetails.shape"
   ]
  },
  {
   "cell_type": "code",
   "execution_count": 25,
   "metadata": {
    "scrolled": false
   },
   "outputs": [
    {
     "data": {
      "text/html": [
       "<div>\n",
       "<style scoped>\n",
       "    .dataframe tbody tr th:only-of-type {\n",
       "        vertical-align: middle;\n",
       "    }\n",
       "\n",
       "    .dataframe tbody tr th {\n",
       "        vertical-align: top;\n",
       "    }\n",
       "\n",
       "    .dataframe thead th {\n",
       "        text-align: right;\n",
       "    }\n",
       "</style>\n",
       "<table border=\"1\" class=\"dataframe\">\n",
       "  <thead>\n",
       "    <tr style=\"text-align: right;\">\n",
       "      <th></th>\n",
       "      <th>VISITRESULTDETAILS_NRID</th>\n",
       "      <th>AR0_NRID</th>\n",
       "      <th>QUANTITY</th>\n",
       "      <th>HVVISITRESULT_NRID</th>\n",
       "    </tr>\n",
       "  </thead>\n",
       "  <tbody>\n",
       "    <tr>\n",
       "      <th>0</th>\n",
       "      <td>56055671</td>\n",
       "      <td>17545160268040</td>\n",
       "      <td>1.0</td>\n",
       "      <td>56055665.0</td>\n",
       "    </tr>\n",
       "    <tr>\n",
       "      <th>1</th>\n",
       "      <td>56055672</td>\n",
       "      <td>23699</td>\n",
       "      <td>2.0</td>\n",
       "      <td>56055665.0</td>\n",
       "    </tr>\n",
       "    <tr>\n",
       "      <th>2</th>\n",
       "      <td>56055675</td>\n",
       "      <td>23721</td>\n",
       "      <td>1.0</td>\n",
       "      <td>56055674.0</td>\n",
       "    </tr>\n",
       "    <tr>\n",
       "      <th>3</th>\n",
       "      <td>56010656</td>\n",
       "      <td>23714</td>\n",
       "      <td>1.0</td>\n",
       "      <td>56010655.0</td>\n",
       "    </tr>\n",
       "    <tr>\n",
       "      <th>4</th>\n",
       "      <td>56009821</td>\n",
       "      <td>23716</td>\n",
       "      <td>1.0</td>\n",
       "      <td>56009820.0</td>\n",
       "    </tr>\n",
       "  </tbody>\n",
       "</table>\n",
       "</div>"
      ],
      "text/plain": [
       "   VISITRESULTDETAILS_NRID        AR0_NRID  QUANTITY  HVVISITRESULT_NRID\n",
       "0                 56055671  17545160268040       1.0          56055665.0\n",
       "1                 56055672           23699       2.0          56055665.0\n",
       "2                 56055675           23721       1.0          56055674.0\n",
       "3                 56010656           23714       1.0          56010655.0\n",
       "4                 56009821           23716       1.0          56009820.0"
      ]
     },
     "execution_count": 25,
     "metadata": {},
     "output_type": "execute_result"
    }
   ],
   "source": [
    "# inspect visitdetails\n",
    "visitdetails.head()"
   ]
  },
  {
   "cell_type": "markdown",
   "metadata": {},
   "source": [
    "Check whether 'VisitDetailID', 'ProductID' and 'VisitID' are unique. "
   ]
  },
  {
   "cell_type": "code",
   "execution_count": 26,
   "metadata": {},
   "outputs": [
    {
     "data": {
      "text/plain": [
       "True"
      ]
     },
     "execution_count": 26,
     "metadata": {},
     "output_type": "execute_result"
    }
   ],
   "source": [
    "# check if VisitDetailID is unique\n",
    "visitdetails[\"VISITRESULTDETAILS_NRID\"].is_unique"
   ]
  },
  {
   "cell_type": "code",
   "execution_count": 27,
   "metadata": {},
   "outputs": [
    {
     "data": {
      "text/plain": [
       "False"
      ]
     },
     "execution_count": 27,
     "metadata": {},
     "output_type": "execute_result"
    }
   ],
   "source": [
    "# check if ProductID is unique\n",
    "visitdetails[\"AR0_NRID\"].is_unique"
   ]
  },
  {
   "cell_type": "code",
   "execution_count": 28,
   "metadata": {},
   "outputs": [
    {
     "data": {
      "text/plain": [
       "False"
      ]
     },
     "execution_count": 28,
     "metadata": {},
     "output_type": "execute_result"
    }
   ],
   "source": [
    "# check if VisitID is unique\n",
    "visitdetails[\"HVVISITRESULT_NRID\"].is_unique"
   ]
  },
  {
   "cell_type": "markdown",
   "metadata": {},
   "source": [
    "As 'VisitDetailID' is unique and the other two variables are not, this means that the dataframe visitdetails contains 1 row per VisitDetail. Each VisitDetail is linked to a visit (VisitID) and a product (ProductID) but each visit can contain multiple VisitDetails. Similarly, products can be linked to several Visitdetails. "
   ]
  },
  {
   "cell_type": "markdown",
   "metadata": {},
   "source": [
    "## 1.5. Routes"
   ]
  },
  {
   "cell_type": "markdown",
   "metadata": {},
   "source": [
    "Inspect the shape and the first few observations of the routes dataframe"
   ]
  },
  {
   "cell_type": "code",
   "execution_count": 29,
   "metadata": {},
   "outputs": [
    {
     "data": {
      "text/plain": [
       "(39, 4)"
      ]
     },
     "execution_count": 29,
     "metadata": {},
     "output_type": "execute_result"
    }
   ],
   "source": [
    "# inspect shape\n",
    "routes.shape"
   ]
  },
  {
   "cell_type": "code",
   "execution_count": 30,
   "metadata": {
    "scrolled": false
   },
   "outputs": [
    {
     "data": {
      "text/html": [
       "<div>\n",
       "<style scoped>\n",
       "    .dataframe tbody tr th:only-of-type {\n",
       "        vertical-align: middle;\n",
       "    }\n",
       "\n",
       "    .dataframe tbody tr th {\n",
       "        vertical-align: top;\n",
       "    }\n",
       "\n",
       "    .dataframe thead th {\n",
       "        text-align: right;\n",
       "    }\n",
       "</style>\n",
       "<table border=\"1\" class=\"dataframe\">\n",
       "  <thead>\n",
       "    <tr style=\"text-align: right;\">\n",
       "      <th></th>\n",
       "      <th>HVROUTETEMPLATE_NRID</th>\n",
       "      <th>REGION</th>\n",
       "      <th>WEEKORDER</th>\n",
       "      <th>HVDAYOFWEEK_NRID</th>\n",
       "    </tr>\n",
       "  </thead>\n",
       "  <tbody>\n",
       "    <tr>\n",
       "      <th>0</th>\n",
       "      <td>70671404.0</td>\n",
       "      <td>C04</td>\n",
       "      <td>1.0</td>\n",
       "      <td>1.0</td>\n",
       "    </tr>\n",
       "    <tr>\n",
       "      <th>1</th>\n",
       "      <td>219018687.0</td>\n",
       "      <td>C04</td>\n",
       "      <td>1.0</td>\n",
       "      <td>2.0</td>\n",
       "    </tr>\n",
       "    <tr>\n",
       "      <th>2</th>\n",
       "      <td>219019324.0</td>\n",
       "      <td>C04</td>\n",
       "      <td>1.0</td>\n",
       "      <td>3.0</td>\n",
       "    </tr>\n",
       "    <tr>\n",
       "      <th>3</th>\n",
       "      <td>219019962.0</td>\n",
       "      <td>C04</td>\n",
       "      <td>1.0</td>\n",
       "      <td>4.0</td>\n",
       "    </tr>\n",
       "    <tr>\n",
       "      <th>4</th>\n",
       "      <td>219020601.0</td>\n",
       "      <td>C04</td>\n",
       "      <td>1.0</td>\n",
       "      <td>5.0</td>\n",
       "    </tr>\n",
       "  </tbody>\n",
       "</table>\n",
       "</div>"
      ],
      "text/plain": [
       "   HVROUTETEMPLATE_NRID REGION  WEEKORDER  HVDAYOFWEEK_NRID\n",
       "0            70671404.0    C04        1.0               1.0\n",
       "1           219018687.0    C04        1.0               2.0\n",
       "2           219019324.0    C04        1.0               3.0\n",
       "3           219019962.0    C04        1.0               4.0\n",
       "4           219020601.0    C04        1.0               5.0"
      ]
     },
     "execution_count": 30,
     "metadata": {},
     "output_type": "execute_result"
    }
   ],
   "source": [
    "# inspect first observations of routes\n",
    "routes.head()"
   ]
  },
  {
   "cell_type": "markdown",
   "metadata": {},
   "source": [
    "# 2. Determine ERD"
   ]
  },
  {
   "cell_type": "markdown",
   "metadata": {},
   "source": [
    "An Entity Relationship Diagram (ERD) represents the entities (in this case, the different dataframes) and the relationshops among these entities. \n",
    "\n",
    "-> It visualizes how the different dataframes are connected with eachother and how the most important variables are related to one another. \n",
    "\n",
    "Gaining such insights in your data is important. For example, when merging different dataframes. "
   ]
  },
  {
   "attachments": {
    "Capture_ERD_exercise.PNG": {
     "image/png": "[encoded data removed]"
    }
   },
   "cell_type": "markdown",
   "metadata": {},
   "source": [
    "![Capture_ERD_exercise.PNG](attachment:Capture_ERD_exercise.PNG)"
   ]
  },
  {
   "cell_type": "markdown",
   "metadata": {},
   "source": [
    "## 2.1. Products and Visitdetails\n",
    " PRODUCT 1,1 ------* VisitDetails\n",
    " In visitderails => visitdetails is unique, but one visitdetails => multiple product ID\n",
    " "
   ]
  },
  {
   "cell_type": "code",
   "execution_count": 28,
   "metadata": {},
   "outputs": [
    {
     "data": {
      "text/html": [
       "<div>\n",
       "<style scoped>\n",
       "    .dataframe tbody tr th:only-of-type {\n",
       "        vertical-align: middle;\n",
       "    }\n",
       "\n",
       "    .dataframe tbody tr th {\n",
       "        vertical-align: top;\n",
       "    }\n",
       "\n",
       "    .dataframe thead th {\n",
       "        text-align: right;\n",
       "    }\n",
       "</style>\n",
       "<table border=\"1\" class=\"dataframe\">\n",
       "  <thead>\n",
       "    <tr style=\"text-align: right;\">\n",
       "      <th></th>\n",
       "      <th>VISITRESULTDETAILS_NRID</th>\n",
       "      <th>AR0_NRID</th>\n",
       "      <th>QUANTITY</th>\n",
       "      <th>HVVISITRESULT_NRID</th>\n",
       "    </tr>\n",
       "  </thead>\n",
       "  <tbody>\n",
       "    <tr>\n",
       "      <th>0</th>\n",
       "      <td>56055671</td>\n",
       "      <td>17545160268040</td>\n",
       "      <td>1.0</td>\n",
       "      <td>56055665.0</td>\n",
       "    </tr>\n",
       "    <tr>\n",
       "      <th>1</th>\n",
       "      <td>56055672</td>\n",
       "      <td>23699</td>\n",
       "      <td>2.0</td>\n",
       "      <td>56055665.0</td>\n",
       "    </tr>\n",
       "    <tr>\n",
       "      <th>2</th>\n",
       "      <td>56055675</td>\n",
       "      <td>23721</td>\n",
       "      <td>1.0</td>\n",
       "      <td>56055674.0</td>\n",
       "    </tr>\n",
       "    <tr>\n",
       "      <th>3</th>\n",
       "      <td>56010656</td>\n",
       "      <td>23714</td>\n",
       "      <td>1.0</td>\n",
       "      <td>56010655.0</td>\n",
       "    </tr>\n",
       "    <tr>\n",
       "      <th>4</th>\n",
       "      <td>56009821</td>\n",
       "      <td>23716</td>\n",
       "      <td>1.0</td>\n",
       "      <td>56009820.0</td>\n",
       "    </tr>\n",
       "  </tbody>\n",
       "</table>\n",
       "</div>"
      ],
      "text/plain": [
       "   VISITRESULTDETAILS_NRID        AR0_NRID  QUANTITY  HVVISITRESULT_NRID\n",
       "0                 56055671  17545160268040       1.0          56055665.0\n",
       "1                 56055672           23699       2.0          56055665.0\n",
       "2                 56055675           23721       1.0          56055674.0\n",
       "3                 56010656           23714       1.0          56010655.0\n",
       "4                 56009821           23716       1.0          56009820.0"
      ]
     },
     "execution_count": 28,
     "metadata": {},
     "output_type": "execute_result"
    }
   ],
   "source": [
    "visitdetails.head()"
   ]
  },
  {
   "cell_type": "code",
   "execution_count": 30,
   "metadata": {},
   "outputs": [
    {
     "name": "stdout",
     "output_type": "stream",
     "text": [
      "ProductID unique in products? True\n",
      "ProductID unique in visitdetails? False\n",
      "all ProductIDs from products accounted for in visitdetails? True\n",
      "all ProductIDs from visitdetails accounted for in products? True\n"
     ]
    }
   ],
   "source": [
    "# The Products and VisitDetails dataset can be linked by the ProductID\n",
    "\n",
    "# check if ProductID is unique in products\n",
    "print(\"ProductID unique in products? %s\" %products[\"AR0_NRID\"].is_unique)\n",
    "\n",
    "# check if ProductID is unique in visitdetails\n",
    "print(\"ProductID unique in visitdetails? %s\" %visitdetails[\"AR0_NRID\"].is_unique)\n",
    "\n",
    "# check if all products from product table are accounted for in visitdetails table\n",
    "print(\"all ProductIDs from products accounted for in visitdetails? %s\" %all(products[\"AR0_NRID\"].isin(visitdetails[\"AR0_NRID\"])))\n",
    "\n",
    "# check if all products from visitdetails table are accounted for in products table\n",
    "print(\"all ProductIDs from visitdetails accounted for in products? %s\" %all(visitdetails[\"AR0_NRID\"].isin(products[\"AR0_NRID\"])))\n"
   ]
  },
  {
   "cell_type": "code",
   "execution_count": null,
   "metadata": {},
   "outputs": [],
   "source": [
    "# get minimum, maxium and average number of visitdetails per product\n",
    "visitdetails_per_products_stats = visitdetails.groupby(\"ProductID\")[\"VisitDetailID\"].count().reset_index()\n",
    "visitdetails_per_products_stats.columns = [\"ProductID\", \"num_visitdetails\"]\n",
    "print(\"minimum number of visitdetails per product: %s\" %min(visitdetails_per_products_stats[\"num_visitdetails\"]))\n",
    "print(\"maximum number of visitdetails per product: %s\" %max(visitdetails_per_products_stats[\"num_visitdetails\"]))\n",
    "print(\"average number of visitdetails per product: %s\" %np.mean(visitdetails_per_products_stats[\"num_visitdetails\"]))"
   ]
  },
  {
   "cell_type": "code",
   "execution_count": null,
   "metadata": {},
   "outputs": [],
   "source": [
    "# every product has 1 to N visitdetails\n",
    "# every visitdetail is linked to one product "
   ]
  },
  {
   "cell_type": "markdown",
   "metadata": {},
   "source": [
    "## 2.2. Visitdetails and Visits\n",
    "\n",
    "Visit 1,1-------* VisitDetails\n",
    "=> 1 visit has 1 to N visitdetails (In visitdetails==> Visitdetail_id is unique, Visit_ID is not unique)\n",
    "=>every visitdetail correspond 1 Visit "
   ]
  },
  {
   "cell_type": "code",
   "execution_count": 33,
   "metadata": {},
   "outputs": [
    {
     "data": {
      "text/html": [
       "<div>\n",
       "<style scoped>\n",
       "    .dataframe tbody tr th:only-of-type {\n",
       "        vertical-align: middle;\n",
       "    }\n",
       "\n",
       "    .dataframe tbody tr th {\n",
       "        vertical-align: top;\n",
       "    }\n",
       "\n",
       "    .dataframe thead th {\n",
       "        text-align: right;\n",
       "    }\n",
       "</style>\n",
       "<table border=\"1\" class=\"dataframe\">\n",
       "  <thead>\n",
       "    <tr style=\"text-align: right;\">\n",
       "      <th></th>\n",
       "      <th>VISITRESULTDETAILS_NRID</th>\n",
       "      <th>AR0_NRID</th>\n",
       "      <th>QUANTITY</th>\n",
       "      <th>HVVISITRESULT_NRID</th>\n",
       "    </tr>\n",
       "  </thead>\n",
       "  <tbody>\n",
       "    <tr>\n",
       "      <th>0</th>\n",
       "      <td>56055671</td>\n",
       "      <td>17545160268040</td>\n",
       "      <td>1.0</td>\n",
       "      <td>56055665.0</td>\n",
       "    </tr>\n",
       "    <tr>\n",
       "      <th>1</th>\n",
       "      <td>56055672</td>\n",
       "      <td>23699</td>\n",
       "      <td>2.0</td>\n",
       "      <td>56055665.0</td>\n",
       "    </tr>\n",
       "    <tr>\n",
       "      <th>2</th>\n",
       "      <td>56055675</td>\n",
       "      <td>23721</td>\n",
       "      <td>1.0</td>\n",
       "      <td>56055674.0</td>\n",
       "    </tr>\n",
       "    <tr>\n",
       "      <th>3</th>\n",
       "      <td>56010656</td>\n",
       "      <td>23714</td>\n",
       "      <td>1.0</td>\n",
       "      <td>56010655.0</td>\n",
       "    </tr>\n",
       "    <tr>\n",
       "      <th>4</th>\n",
       "      <td>56009821</td>\n",
       "      <td>23716</td>\n",
       "      <td>1.0</td>\n",
       "      <td>56009820.0</td>\n",
       "    </tr>\n",
       "  </tbody>\n",
       "</table>\n",
       "</div>"
      ],
      "text/plain": [
       "   VISITRESULTDETAILS_NRID        AR0_NRID  QUANTITY  HVVISITRESULT_NRID\n",
       "0                 56055671  17545160268040       1.0          56055665.0\n",
       "1                 56055672           23699       2.0          56055665.0\n",
       "2                 56055675           23721       1.0          56055674.0\n",
       "3                 56010656           23714       1.0          56010655.0\n",
       "4                 56009821           23716       1.0          56009820.0"
      ]
     },
     "execution_count": 33,
     "metadata": {},
     "output_type": "execute_result"
    }
   ],
   "source": [
    "visitdetails.head()"
   ]
  },
  {
   "cell_type": "code",
   "execution_count": 34,
   "metadata": {},
   "outputs": [
    {
     "name": "stdout",
     "output_type": "stream",
     "text": [
      "VisitID unique in visits? True\n",
      "VisitID unique in visitdetails? False\n",
      "all VisitIDs from visits accounted for in visitdetails? False\n",
      "all VisitIDs from visitdetails accounted for in visits? True\n"
     ]
    }
   ],
   "source": [
    "# The Visits and VisitDetails dataset can be linked by the VisitID\n",
    "\n",
    "# check if VisitID is unique in visits\n",
    "print(\"VisitID unique in visits? %s\" %visits[\"HVVISITRESULT_NRID\"].is_unique)\n",
    "\n",
    "# check if VisitID is unique in visitdetails\n",
    "print(\"VisitID unique in visitdetails? %s\" %visitdetails[\"HVVISITRESULT_NRID\"].is_unique)\n",
    "\n",
    "# check if all visits from visits table are accounted for in visitdetails table\n",
    "print(\"all VisitIDs from visits accounted for in visitdetails? %s\" %all(visits[\"HVVISITRESULT_NRID\"].isin(visitdetails[\"HVVISITRESULT_NRID\"])))\n",
    "\n",
    "# check if all products from visitdetails table are accounted for in products table\n",
    "print(\"all VisitIDs from visitdetails accounted for in visits? %s\" %all(visitdetails[\"HVVISITRESULT_NRID\"].isin(visits[\"HVVISITRESULT_NRID\"])))\n"
   ]
  },
  {
   "cell_type": "code",
   "execution_count": null,
   "metadata": {},
   "outputs": [],
   "source": [
    "# get minimum, maxium and average number of visitdetails per visit\n",
    "visitdetails_per_visit_stats = visitdetails.groupby(\"VisitID\")[\"VisitDetailID\"].count().reset_index()\n",
    "visitdetails_per_visit_stats.columns = [\"VisitID\", \"num_visitdetails\"]\n",
    "print(\"minimum number of visitdetails per visit: %s\" %min(visitdetails_per_visit_stats[\"num_visitdetails\"]))\n",
    "print(\"maximum number of visitdetails per visit: %s\" %max(visitdetails_per_visit_stats[\"num_visitdetails\"]))\n",
    "print(\"average number of visitdetails per visit: %s\" %np.mean(visitdetails_per_visit_stats[\"num_visitdetails\"]))"
   ]
  },
  {
   "cell_type": "code",
   "execution_count": null,
   "metadata": {},
   "outputs": [],
   "source": [
    "# every visit has 0 to N visitdetails\n",
    "# every visitdetail is linked to one visit\n",
    "#有的visit没有details"
   ]
  },
  {
   "cell_type": "markdown",
   "metadata": {},
   "source": [
    "## 2.3. Visits and Customers\n",
    "\n",
    "Customer 1,1-------* VisitDetails\n",
    "In visits, visit_id is unique, but clien_id is not unique( because 1 customer correspond to 1 and N visites)"
   ]
  },
  {
   "cell_type": "code",
   "execution_count": 36,
   "metadata": {},
   "outputs": [
    {
     "data": {
      "text/html": [
       "<div>\n",
       "<style scoped>\n",
       "    .dataframe tbody tr th:only-of-type {\n",
       "        vertical-align: middle;\n",
       "    }\n",
       "\n",
       "    .dataframe tbody tr th {\n",
       "        vertical-align: top;\n",
       "    }\n",
       "\n",
       "    .dataframe thead th {\n",
       "        text-align: right;\n",
       "    }\n",
       "</style>\n",
       "<table border=\"1\" class=\"dataframe\">\n",
       "  <thead>\n",
       "    <tr style=\"text-align: right;\">\n",
       "      <th></th>\n",
       "      <th>HVVISITRESULT_NRID</th>\n",
       "      <th>SO0_NRID</th>\n",
       "      <th>AM0_NRID</th>\n",
       "      <th>HVOUTCOME_NRID</th>\n",
       "      <th>VISITDATE</th>\n",
       "      <th>DATEONLY</th>\n",
       "      <th>AMOUNT</th>\n",
       "      <th>PAYMENTTERM</th>\n",
       "    </tr>\n",
       "  </thead>\n",
       "  <tbody>\n",
       "    <tr>\n",
       "      <th>0</th>\n",
       "      <td>55681456</td>\n",
       "      <td>719952</td>\n",
       "      <td>23186288605042</td>\n",
       "      <td>2</td>\n",
       "      <td>1900-01-01 12:20:01</td>\n",
       "      <td>2019-05-06</td>\n",
       "      <td>16.9</td>\n",
       "      <td>cash</td>\n",
       "    </tr>\n",
       "    <tr>\n",
       "      <th>1</th>\n",
       "      <td>55681507</td>\n",
       "      <td>1453609</td>\n",
       "      <td>19946584592834</td>\n",
       "      <td>2</td>\n",
       "      <td>1900-01-01 12:13:50</td>\n",
       "      <td>2019-05-06</td>\n",
       "      <td>7.4</td>\n",
       "      <td>cash</td>\n",
       "    </tr>\n",
       "    <tr>\n",
       "      <th>2</th>\n",
       "      <td>55681509</td>\n",
       "      <td>1453614</td>\n",
       "      <td>19946584592834</td>\n",
       "      <td>2</td>\n",
       "      <td>1900-01-01 12:14:08</td>\n",
       "      <td>2019-05-06</td>\n",
       "      <td>18.9</td>\n",
       "      <td>cash</td>\n",
       "    </tr>\n",
       "    <tr>\n",
       "      <th>3</th>\n",
       "      <td>55681512</td>\n",
       "      <td>1453602</td>\n",
       "      <td>19946584592834</td>\n",
       "      <td>1</td>\n",
       "      <td>1900-01-01 12:16:04</td>\n",
       "      <td>2019-05-06</td>\n",
       "      <td>0.0</td>\n",
       "      <td>NaN</td>\n",
       "    </tr>\n",
       "    <tr>\n",
       "      <th>4</th>\n",
       "      <td>55674074</td>\n",
       "      <td>1252497</td>\n",
       "      <td>18934048107254</td>\n",
       "      <td>2</td>\n",
       "      <td>1900-01-01 10:41:09</td>\n",
       "      <td>2019-05-06</td>\n",
       "      <td>34.9</td>\n",
       "      <td>tbp</td>\n",
       "    </tr>\n",
       "  </tbody>\n",
       "</table>\n",
       "</div>"
      ],
      "text/plain": [
       "   HVVISITRESULT_NRID  SO0_NRID        AM0_NRID  HVOUTCOME_NRID  \\\n",
       "0            55681456    719952  23186288605042               2   \n",
       "1            55681507   1453609  19946584592834               2   \n",
       "2            55681509   1453614  19946584592834               2   \n",
       "3            55681512   1453602  19946584592834               1   \n",
       "4            55674074   1252497  18934048107254               2   \n",
       "\n",
       "            VISITDATE   DATEONLY  AMOUNT PAYMENTTERM  \n",
       "0 1900-01-01 12:20:01 2019-05-06    16.9        cash  \n",
       "1 1900-01-01 12:13:50 2019-05-06     7.4        cash  \n",
       "2 1900-01-01 12:14:08 2019-05-06    18.9        cash  \n",
       "3 1900-01-01 12:16:04 2019-05-06     0.0         NaN  \n",
       "4 1900-01-01 10:41:09 2019-05-06    34.9         tbp  "
      ]
     },
     "execution_count": 36,
     "metadata": {},
     "output_type": "execute_result"
    }
   ],
   "source": [
    "visits.head()"
   ]
  },
  {
   "cell_type": "code",
   "execution_count": 39,
   "metadata": {
    "scrolled": true
   },
   "outputs": [
    {
     "name": "stdout",
     "output_type": "stream",
     "text": [
      "CustomerID unique in Customers? True\n",
      "CustomerID unique in Visits? False\n",
      "All customerID from customer accounted for in visit? False\n",
      "All customerID from visits accounted for in customer? True\n"
     ]
    }
   ],
   "source": [
    "print(\"CustomerID unique in Customers? %s\" %customers['SO0_NRID'].is_unique)\n",
    "print(\"CustomerID unique in Visits? %s\" %visits['SO0_NRID'].is_unique)\n",
    "print(\"All customerID from customer accounted for in visit? %s\"%all(customers['SO0_NRID'].isin(visits['SO0_NRID'])))\n",
    "print(\"All customerID from visits accounted for in customer? %s\"%all(visits['SO0_NRID'].isin(customers['SO0_NRID'])))"
   ]
  },
  {
   "cell_type": "markdown",
   "metadata": {},
   "source": [
    "有的客户没有visit记录"
   ]
  },
  {
   "cell_type": "markdown",
   "metadata": {},
   "source": [
    "## 2.4. Customers and Routes\n",
    "Customers *----1.1 Route "
   ]
  },
  {
   "cell_type": "code",
   "execution_count": 42,
   "metadata": {},
   "outputs": [
    {
     "name": "stdout",
     "output_type": "stream",
     "text": [
      "RouteID unique in Customers? False\n",
      "RouteID unique in RouteID? True\n",
      "All routeID from routes accounted for in customer? True\n",
      "All routeID from customers accounted for in routes? True\n"
     ]
    }
   ],
   "source": [
    "print(\"RouteID unique in Customers? %s\" %customers['HVROUTETEMPLATE_NRID'].is_unique)\n",
    "print(\"RouteID unique in RouteID? %s\" %routes['HVROUTETEMPLATE_NRID'].is_unique)\n",
    "print(\"All routeID from routes accounted for in customer? %s\"%all(routes['HVROUTETEMPLATE_NRID'].isin(customers['HVROUTETEMPLATE_NRID'])))\n",
    "print(\"All routeID from customers accounted for in routes? %s\"%all(customers['HVROUTETEMPLATE_NRID'].isin(routes['HVROUTETEMPLATE_NRID'])))"
   ]
  },
  {
   "cell_type": "markdown",
   "metadata": {},
   "source": [
    "# 3. Time Window"
   ]
  },
  {
   "cell_type": "markdown",
   "metadata": {},
   "source": [
    "To be able to design our time window, we first have to check for which period of time data is available"
   ]
  },
  {
   "cell_type": "markdown",
   "metadata": {},
   "source": [
    "This window of time needs to be split in the independent period, the gap, and the dependent period. \n",
    "\n",
    "Construct a time window, taking into consideration the following aspects: \n",
    "\n",
    "    (1) we want a dependent period of 1 month (we choose 1 month as this is the time that the sales representatives need to visit all the clients) \n",
    "    (2) the gap should equal 1 day \n",
    "    \n",
    "Hint: It might be useful to draw the time window first, before you start coding. "
   ]
  },
  {
   "attachments": {
    "Schermafbeelding%202020-11-24%20om%2023.43.09.png": {
     "image/png": "[encoded data removed]"
    }
   },
   "cell_type": "markdown",
   "metadata": {},
   "source": [
    "![Schermafbeelding%202020-11-24%20om%2023.43.09.png](attachment:Schermafbeelding%202020-11-24%20om%2023.43.09.png)"
   ]
  },
  {
   "cell_type": "code",
   "execution_count": 31,
   "metadata": {},
   "outputs": [],
   "source": [
    "# END_DEPENDENT :latest Visit date \n",
    "end_dependent=visits['DATEONLY'].max()\n",
    "start_dependent=end_dependent-timedelta(days=30)\n",
    "end_independent=start_dependent-timedelta(days=1)"
   ]
  },
  {
   "cell_type": "markdown",
   "metadata": {},
   "source": [
    "# 4. Data Preparation"
   ]
  },
  {
   "cell_type": "markdown",
   "metadata": {},
   "source": [
    "## 4.1. Customer Selection"
   ]
  },
  {
   "cell_type": "markdown",
   "metadata": {},
   "source": [
    "When computing the dependent and independent variables (features), we can only use data from the respective relevant time periods. \n",
    "\n",
    "In other words, the predictive features should be computed on data that was available in the independent period. The dependent variable (in our case, which product family will be bought next) has to be computed based on data from the dependent period. \n"
   ]
  },
  {
   "cell_type": "code",
   "execution_count": 32,
   "metadata": {},
   "outputs": [
    {
     "data": {
      "text/html": [
       "<div>\n",
       "<style scoped>\n",
       "    .dataframe tbody tr th:only-of-type {\n",
       "        vertical-align: middle;\n",
       "    }\n",
       "\n",
       "    .dataframe tbody tr th {\n",
       "        vertical-align: top;\n",
       "    }\n",
       "\n",
       "    .dataframe thead th {\n",
       "        text-align: right;\n",
       "    }\n",
       "</style>\n",
       "<table border=\"1\" class=\"dataframe\">\n",
       "  <thead>\n",
       "    <tr style=\"text-align: right;\">\n",
       "      <th></th>\n",
       "      <th>HVVISITRESULT_NRID</th>\n",
       "      <th>SO0_NRID</th>\n",
       "      <th>AM0_NRID</th>\n",
       "      <th>HVOUTCOME_NRID</th>\n",
       "      <th>VISITDATE</th>\n",
       "      <th>DATEONLY</th>\n",
       "      <th>AMOUNT</th>\n",
       "      <th>PAYMENTTERM</th>\n",
       "    </tr>\n",
       "  </thead>\n",
       "  <tbody>\n",
       "    <tr>\n",
       "      <th>0</th>\n",
       "      <td>55681456</td>\n",
       "      <td>719952</td>\n",
       "      <td>23186288605042</td>\n",
       "      <td>2</td>\n",
       "      <td>1900-01-01 12:20:01</td>\n",
       "      <td>2019-05-06</td>\n",
       "      <td>16.9</td>\n",
       "      <td>cash</td>\n",
       "    </tr>\n",
       "    <tr>\n",
       "      <th>1</th>\n",
       "      <td>55681507</td>\n",
       "      <td>1453609</td>\n",
       "      <td>19946584592834</td>\n",
       "      <td>2</td>\n",
       "      <td>1900-01-01 12:13:50</td>\n",
       "      <td>2019-05-06</td>\n",
       "      <td>7.4</td>\n",
       "      <td>cash</td>\n",
       "    </tr>\n",
       "    <tr>\n",
       "      <th>2</th>\n",
       "      <td>55681509</td>\n",
       "      <td>1453614</td>\n",
       "      <td>19946584592834</td>\n",
       "      <td>2</td>\n",
       "      <td>1900-01-01 12:14:08</td>\n",
       "      <td>2019-05-06</td>\n",
       "      <td>18.9</td>\n",
       "      <td>cash</td>\n",
       "    </tr>\n",
       "    <tr>\n",
       "      <th>3</th>\n",
       "      <td>55681512</td>\n",
       "      <td>1453602</td>\n",
       "      <td>19946584592834</td>\n",
       "      <td>1</td>\n",
       "      <td>1900-01-01 12:16:04</td>\n",
       "      <td>2019-05-06</td>\n",
       "      <td>0.0</td>\n",
       "      <td>NaN</td>\n",
       "    </tr>\n",
       "    <tr>\n",
       "      <th>4</th>\n",
       "      <td>55674074</td>\n",
       "      <td>1252497</td>\n",
       "      <td>18934048107254</td>\n",
       "      <td>2</td>\n",
       "      <td>1900-01-01 10:41:09</td>\n",
       "      <td>2019-05-06</td>\n",
       "      <td>34.9</td>\n",
       "      <td>tbp</td>\n",
       "    </tr>\n",
       "  </tbody>\n",
       "</table>\n",
       "</div>"
      ],
      "text/plain": [
       "   HVVISITRESULT_NRID  SO0_NRID        AM0_NRID  HVOUTCOME_NRID  \\\n",
       "0            55681456    719952  23186288605042               2   \n",
       "1            55681507   1453609  19946584592834               2   \n",
       "2            55681509   1453614  19946584592834               2   \n",
       "3            55681512   1453602  19946584592834               1   \n",
       "4            55674074   1252497  18934048107254               2   \n",
       "\n",
       "            VISITDATE   DATEONLY  AMOUNT PAYMENTTERM  \n",
       "0 1900-01-01 12:20:01 2019-05-06    16.9        cash  \n",
       "1 1900-01-01 12:13:50 2019-05-06     7.4        cash  \n",
       "2 1900-01-01 12:14:08 2019-05-06    18.9        cash  \n",
       "3 1900-01-01 12:16:04 2019-05-06     0.0         NaN  \n",
       "4 1900-01-01 10:41:09 2019-05-06    34.9         tbp  "
      ]
     },
     "execution_count": 32,
     "metadata": {},
     "output_type": "execute_result"
    }
   ],
   "source": [
    "visits.head()"
   ]
  },
  {
   "cell_type": "code",
   "execution_count": 33,
   "metadata": {},
   "outputs": [],
   "source": [
    "# separate independent from dependent visits\n",
    "visits_indep = visits[(visits[\"DATEONLY\"] < end_independent)&(visits[\"AMOUNT\"]>0)]\n",
    "visits_dep = visits[(visits[\"DATEONLY\"] > start_dependent) & (visits[\"DATEONLY\"] < end_dependent)&(visits[\"AMOUNT\"]>0)]"
   ]
  },
  {
   "cell_type": "markdown",
   "metadata": {},
   "source": [
    "## 4.2. Features"
   ]
  },
  {
   "cell_type": "markdown",
   "metadata": {},
   "source": [
    "### 4.2.1. RFM of Customers "
   ]
  },
  {
   "cell_type": "markdown",
   "metadata": {},
   "source": [
    "The RFM variables represent the recency, frequency and monetary values of actual purchases. Hence, we start by selecting the visits in the independent period that led to a purchase (i.e., Amount > 0)."
   ]
  },
  {
   "cell_type": "markdown",
   "metadata": {},
   "source": [
    "The RFM variables should be computed by customer. Therefore, we need to group the visits by customerID. "
   ]
  },
  {
   "cell_type": "code",
   "execution_count": 34,
   "metadata": {},
   "outputs": [
    {
     "data": {
      "text/html": [
       "<div>\n",
       "<style scoped>\n",
       "    .dataframe tbody tr th:only-of-type {\n",
       "        vertical-align: middle;\n",
       "    }\n",
       "\n",
       "    .dataframe tbody tr th {\n",
       "        vertical-align: top;\n",
       "    }\n",
       "\n",
       "    .dataframe thead th {\n",
       "        text-align: right;\n",
       "    }\n",
       "</style>\n",
       "<table border=\"1\" class=\"dataframe\">\n",
       "  <thead>\n",
       "    <tr style=\"text-align: right;\">\n",
       "      <th></th>\n",
       "      <th>HVVISITRESULT_NRID</th>\n",
       "      <th>SO0_NRID</th>\n",
       "      <th>AM0_NRID</th>\n",
       "      <th>HVOUTCOME_NRID</th>\n",
       "      <th>VISITDATE</th>\n",
       "      <th>DATEONLY</th>\n",
       "      <th>AMOUNT</th>\n",
       "      <th>PAYMENTTERM</th>\n",
       "    </tr>\n",
       "  </thead>\n",
       "  <tbody>\n",
       "    <tr>\n",
       "      <th>0</th>\n",
       "      <td>55681456</td>\n",
       "      <td>719952</td>\n",
       "      <td>23186288605042</td>\n",
       "      <td>2</td>\n",
       "      <td>1900-01-01 12:20:01</td>\n",
       "      <td>2019-05-06</td>\n",
       "      <td>16.9</td>\n",
       "      <td>cash</td>\n",
       "    </tr>\n",
       "    <tr>\n",
       "      <th>1</th>\n",
       "      <td>55681507</td>\n",
       "      <td>1453609</td>\n",
       "      <td>19946584592834</td>\n",
       "      <td>2</td>\n",
       "      <td>1900-01-01 12:13:50</td>\n",
       "      <td>2019-05-06</td>\n",
       "      <td>7.4</td>\n",
       "      <td>cash</td>\n",
       "    </tr>\n",
       "    <tr>\n",
       "      <th>2</th>\n",
       "      <td>55681509</td>\n",
       "      <td>1453614</td>\n",
       "      <td>19946584592834</td>\n",
       "      <td>2</td>\n",
       "      <td>1900-01-01 12:14:08</td>\n",
       "      <td>2019-05-06</td>\n",
       "      <td>18.9</td>\n",
       "      <td>cash</td>\n",
       "    </tr>\n",
       "    <tr>\n",
       "      <th>4</th>\n",
       "      <td>55674074</td>\n",
       "      <td>1252497</td>\n",
       "      <td>18934048107254</td>\n",
       "      <td>2</td>\n",
       "      <td>1900-01-01 10:41:09</td>\n",
       "      <td>2019-05-06</td>\n",
       "      <td>34.9</td>\n",
       "      <td>tbp</td>\n",
       "    </tr>\n",
       "    <tr>\n",
       "      <th>17</th>\n",
       "      <td>55714733</td>\n",
       "      <td>1251884</td>\n",
       "      <td>18934048107254</td>\n",
       "      <td>2</td>\n",
       "      <td>1900-01-01 21:40:35</td>\n",
       "      <td>2019-05-06</td>\n",
       "      <td>8.5</td>\n",
       "      <td>cash</td>\n",
       "    </tr>\n",
       "  </tbody>\n",
       "</table>\n",
       "</div>"
      ],
      "text/plain": [
       "    HVVISITRESULT_NRID  SO0_NRID        AM0_NRID  HVOUTCOME_NRID  \\\n",
       "0             55681456    719952  23186288605042               2   \n",
       "1             55681507   1453609  19946584592834               2   \n",
       "2             55681509   1453614  19946584592834               2   \n",
       "4             55674074   1252497  18934048107254               2   \n",
       "17            55714733   1251884  18934048107254               2   \n",
       "\n",
       "             VISITDATE   DATEONLY  AMOUNT PAYMENTTERM  \n",
       "0  1900-01-01 12:20:01 2019-05-06    16.9        cash  \n",
       "1  1900-01-01 12:13:50 2019-05-06     7.4        cash  \n",
       "2  1900-01-01 12:14:08 2019-05-06    18.9        cash  \n",
       "4  1900-01-01 10:41:09 2019-05-06    34.9         tbp  \n",
       "17 1900-01-01 21:40:35 2019-05-06     8.5        cash  "
      ]
     },
     "execution_count": 34,
     "metadata": {},
     "output_type": "execute_result"
    }
   ],
   "source": [
    "visits_indep.head()"
   ]
  },
  {
   "cell_type": "code",
   "execution_count": 35,
   "metadata": {},
   "outputs": [],
   "source": [
    "# group data by customer\n",
    "recency = visits_indep.groupby(\"SO0_NRID\").agg({'DATEONLY':max}).reset_index()"
   ]
  },
  {
   "cell_type": "code",
   "execution_count": 36,
   "metadata": {},
   "outputs": [
    {
     "data": {
      "text/html": [
       "<div>\n",
       "<style scoped>\n",
       "    .dataframe tbody tr th:only-of-type {\n",
       "        vertical-align: middle;\n",
       "    }\n",
       "\n",
       "    .dataframe tbody tr th {\n",
       "        vertical-align: top;\n",
       "    }\n",
       "\n",
       "    .dataframe thead th {\n",
       "        text-align: right;\n",
       "    }\n",
       "</style>\n",
       "<table border=\"1\" class=\"dataframe\">\n",
       "  <thead>\n",
       "    <tr style=\"text-align: right;\">\n",
       "      <th></th>\n",
       "      <th>SO0_NRID</th>\n",
       "      <th>DATEONLY</th>\n",
       "    </tr>\n",
       "  </thead>\n",
       "  <tbody>\n",
       "    <tr>\n",
       "      <th>0</th>\n",
       "      <td>687782</td>\n",
       "      <td>2020-08-02</td>\n",
       "    </tr>\n",
       "    <tr>\n",
       "      <th>1</th>\n",
       "      <td>718230</td>\n",
       "      <td>2020-10-17</td>\n",
       "    </tr>\n",
       "    <tr>\n",
       "      <th>2</th>\n",
       "      <td>718236</td>\n",
       "      <td>2020-09-05</td>\n",
       "    </tr>\n",
       "    <tr>\n",
       "      <th>3</th>\n",
       "      <td>718247</td>\n",
       "      <td>2020-08-22</td>\n",
       "    </tr>\n",
       "    <tr>\n",
       "      <th>4</th>\n",
       "      <td>718257</td>\n",
       "      <td>2020-10-31</td>\n",
       "    </tr>\n",
       "  </tbody>\n",
       "</table>\n",
       "</div>"
      ],
      "text/plain": [
       "   SO0_NRID   DATEONLY\n",
       "0    687782 2020-08-02\n",
       "1    718230 2020-10-17\n",
       "2    718236 2020-09-05\n",
       "3    718247 2020-08-22\n",
       "4    718257 2020-10-31"
      ]
     },
     "execution_count": 36,
     "metadata": {},
     "output_type": "execute_result"
    }
   ],
   "source": [
    "recency.head()"
   ]
  },
  {
   "cell_type": "markdown",
   "metadata": {},
   "source": [
    "Calculate the recency, i.e. the number of days since the last purchase in the independent period"
   ]
  },
  {
   "cell_type": "code",
   "execution_count": 37,
   "metadata": {},
   "outputs": [
    {
     "data": {
      "text/html": [
       "<div>\n",
       "<style scoped>\n",
       "    .dataframe tbody tr th:only-of-type {\n",
       "        vertical-align: middle;\n",
       "    }\n",
       "\n",
       "    .dataframe tbody tr th {\n",
       "        vertical-align: top;\n",
       "    }\n",
       "\n",
       "    .dataframe thead th {\n",
       "        text-align: right;\n",
       "    }\n",
       "</style>\n",
       "<table border=\"1\" class=\"dataframe\">\n",
       "  <thead>\n",
       "    <tr style=\"text-align: right;\">\n",
       "      <th></th>\n",
       "      <th>SO0_NRID</th>\n",
       "      <th>RECENCY</th>\n",
       "    </tr>\n",
       "  </thead>\n",
       "  <tbody>\n",
       "    <tr>\n",
       "      <th>0</th>\n",
       "      <td>687782</td>\n",
       "      <td>117</td>\n",
       "    </tr>\n",
       "    <tr>\n",
       "      <th>1</th>\n",
       "      <td>718230</td>\n",
       "      <td>41</td>\n",
       "    </tr>\n",
       "    <tr>\n",
       "      <th>2</th>\n",
       "      <td>718236</td>\n",
       "      <td>83</td>\n",
       "    </tr>\n",
       "    <tr>\n",
       "      <th>3</th>\n",
       "      <td>718247</td>\n",
       "      <td>97</td>\n",
       "    </tr>\n",
       "    <tr>\n",
       "      <th>4</th>\n",
       "      <td>718257</td>\n",
       "      <td>27</td>\n",
       "    </tr>\n",
       "  </tbody>\n",
       "</table>\n",
       "</div>"
      ],
      "text/plain": [
       "   SO0_NRID  RECENCY\n",
       "0    687782      117\n",
       "1    718230       41\n",
       "2    718236       83\n",
       "3    718247       97\n",
       "4    718257       27"
      ]
     },
     "execution_count": 37,
     "metadata": {},
     "output_type": "execute_result"
    }
   ],
   "source": [
    "recency['RECENCY']=recency['DATEONLY'].apply(lambda x: (end_independent-x).days)\n",
    "recency=recency.drop('DATEONLY',axis=1)\n",
    "recency.head()"
   ]
  },
  {
   "cell_type": "markdown",
   "metadata": {},
   "source": [
    "Calculate the frequency, i.e. the number of purchases in the independent period"
   ]
  },
  {
   "cell_type": "code",
   "execution_count": 38,
   "metadata": {},
   "outputs": [
    {
     "data": {
      "text/plain": [
       "2    73283\n",
       "Name: HVOUTCOME_NRID, dtype: int64"
      ]
     },
     "execution_count": 38,
     "metadata": {},
     "output_type": "execute_result"
    }
   ],
   "source": [
    "visits_indep['HVOUTCOME_NRID'].value_counts()"
   ]
  },
  {
   "cell_type": "code",
   "execution_count": 39,
   "metadata": {},
   "outputs": [
    {
     "data": {
      "text/html": [
       "<div>\n",
       "<style scoped>\n",
       "    .dataframe tbody tr th:only-of-type {\n",
       "        vertical-align: middle;\n",
       "    }\n",
       "\n",
       "    .dataframe tbody tr th {\n",
       "        vertical-align: top;\n",
       "    }\n",
       "\n",
       "    .dataframe thead th {\n",
       "        text-align: right;\n",
       "    }\n",
       "</style>\n",
       "<table border=\"1\" class=\"dataframe\">\n",
       "  <thead>\n",
       "    <tr style=\"text-align: right;\">\n",
       "      <th></th>\n",
       "      <th>SO0_NRID</th>\n",
       "      <th>FREQUENCY</th>\n",
       "    </tr>\n",
       "  </thead>\n",
       "  <tbody>\n",
       "    <tr>\n",
       "      <th>0</th>\n",
       "      <td>687782</td>\n",
       "      <td>15</td>\n",
       "    </tr>\n",
       "    <tr>\n",
       "      <th>1</th>\n",
       "      <td>718230</td>\n",
       "      <td>20</td>\n",
       "    </tr>\n",
       "    <tr>\n",
       "      <th>2</th>\n",
       "      <td>718236</td>\n",
       "      <td>14</td>\n",
       "    </tr>\n",
       "    <tr>\n",
       "      <th>3</th>\n",
       "      <td>718247</td>\n",
       "      <td>7</td>\n",
       "    </tr>\n",
       "    <tr>\n",
       "      <th>4</th>\n",
       "      <td>718257</td>\n",
       "      <td>30</td>\n",
       "    </tr>\n",
       "  </tbody>\n",
       "</table>\n",
       "</div>"
      ],
      "text/plain": [
       "   SO0_NRID  FREQUENCY\n",
       "0    687782         15\n",
       "1    718230         20\n",
       "2    718236         14\n",
       "3    718247          7\n",
       "4    718257         30"
      ]
     },
     "execution_count": 39,
     "metadata": {},
     "output_type": "execute_result"
    }
   ],
   "source": [
    "frequency=visits_indep.groupby(\"SO0_NRID\").agg({'HVVISITRESULT_NRID':'count'}).reset_index()\n",
    "frequency.columns=['SO0_NRID','FREQUENCY']\n",
    "frequency.head()"
   ]
  },
  {
   "cell_type": "markdown",
   "metadata": {},
   "source": [
    "Calculate the monetary value, i.e. the total amount spent by a customer in the independent period"
   ]
  },
  {
   "cell_type": "code",
   "execution_count": 40,
   "metadata": {},
   "outputs": [
    {
     "data": {
      "text/html": [
       "<div>\n",
       "<style scoped>\n",
       "    .dataframe tbody tr th:only-of-type {\n",
       "        vertical-align: middle;\n",
       "    }\n",
       "\n",
       "    .dataframe tbody tr th {\n",
       "        vertical-align: top;\n",
       "    }\n",
       "\n",
       "    .dataframe thead th {\n",
       "        text-align: right;\n",
       "    }\n",
       "</style>\n",
       "<table border=\"1\" class=\"dataframe\">\n",
       "  <thead>\n",
       "    <tr style=\"text-align: right;\">\n",
       "      <th></th>\n",
       "      <th>SO0_NRID</th>\n",
       "      <th>TOTAL_AMOUNT</th>\n",
       "      <th>AVG_AMOUNT</th>\n",
       "    </tr>\n",
       "  </thead>\n",
       "  <tbody>\n",
       "    <tr>\n",
       "      <th>0</th>\n",
       "      <td>687782</td>\n",
       "      <td>167.0</td>\n",
       "      <td>11.133333</td>\n",
       "    </tr>\n",
       "    <tr>\n",
       "      <th>1</th>\n",
       "      <td>718230</td>\n",
       "      <td>204.9</td>\n",
       "      <td>10.245000</td>\n",
       "    </tr>\n",
       "    <tr>\n",
       "      <th>2</th>\n",
       "      <td>718236</td>\n",
       "      <td>127.5</td>\n",
       "      <td>9.107143</td>\n",
       "    </tr>\n",
       "    <tr>\n",
       "      <th>3</th>\n",
       "      <td>718247</td>\n",
       "      <td>42.6</td>\n",
       "      <td>6.085714</td>\n",
       "    </tr>\n",
       "    <tr>\n",
       "      <th>4</th>\n",
       "      <td>718257</td>\n",
       "      <td>260.3</td>\n",
       "      <td>8.676667</td>\n",
       "    </tr>\n",
       "  </tbody>\n",
       "</table>\n",
       "</div>"
      ],
      "text/plain": [
       "   SO0_NRID  TOTAL_AMOUNT  AVG_AMOUNT\n",
       "0    687782         167.0   11.133333\n",
       "1    718230         204.9   10.245000\n",
       "2    718236         127.5    9.107143\n",
       "3    718247          42.6    6.085714\n",
       "4    718257         260.3    8.676667"
      ]
     },
     "execution_count": 40,
     "metadata": {},
     "output_type": "execute_result"
    }
   ],
   "source": [
    "monetary=visits_indep.groupby(\"SO0_NRID\").agg({'AMOUNT':['sum','mean']}).reset_index()\n",
    "monetary.columns=['SO0_NRID','TOTAL_AMOUNT','AVG_AMOUNT']\n",
    "monetary.head()"
   ]
  },
  {
   "cell_type": "markdown",
   "metadata": {},
   "source": [
    "Finally, we need to merge the RFM variables into one dataframe"
   ]
  },
  {
   "cell_type": "code",
   "execution_count": 41,
   "metadata": {},
   "outputs": [
    {
     "data": {
      "text/html": [
       "<div>\n",
       "<style scoped>\n",
       "    .dataframe tbody tr th:only-of-type {\n",
       "        vertical-align: middle;\n",
       "    }\n",
       "\n",
       "    .dataframe tbody tr th {\n",
       "        vertical-align: top;\n",
       "    }\n",
       "\n",
       "    .dataframe thead th {\n",
       "        text-align: right;\n",
       "    }\n",
       "</style>\n",
       "<table border=\"1\" class=\"dataframe\">\n",
       "  <thead>\n",
       "    <tr style=\"text-align: right;\">\n",
       "      <th></th>\n",
       "      <th>SO0_NRID</th>\n",
       "      <th>RECENCY</th>\n",
       "      <th>FREQUENCY</th>\n",
       "      <th>TOTAL_AMOUNT</th>\n",
       "      <th>AVG_AMOUNT</th>\n",
       "    </tr>\n",
       "  </thead>\n",
       "  <tbody>\n",
       "    <tr>\n",
       "      <th>0</th>\n",
       "      <td>687782</td>\n",
       "      <td>117</td>\n",
       "      <td>15</td>\n",
       "      <td>167.0</td>\n",
       "      <td>11.133333</td>\n",
       "    </tr>\n",
       "    <tr>\n",
       "      <th>1</th>\n",
       "      <td>718230</td>\n",
       "      <td>41</td>\n",
       "      <td>20</td>\n",
       "      <td>204.9</td>\n",
       "      <td>10.245000</td>\n",
       "    </tr>\n",
       "    <tr>\n",
       "      <th>2</th>\n",
       "      <td>718236</td>\n",
       "      <td>83</td>\n",
       "      <td>14</td>\n",
       "      <td>127.5</td>\n",
       "      <td>9.107143</td>\n",
       "    </tr>\n",
       "    <tr>\n",
       "      <th>3</th>\n",
       "      <td>718247</td>\n",
       "      <td>97</td>\n",
       "      <td>7</td>\n",
       "      <td>42.6</td>\n",
       "      <td>6.085714</td>\n",
       "    </tr>\n",
       "    <tr>\n",
       "      <th>4</th>\n",
       "      <td>718257</td>\n",
       "      <td>27</td>\n",
       "      <td>30</td>\n",
       "      <td>260.3</td>\n",
       "      <td>8.676667</td>\n",
       "    </tr>\n",
       "  </tbody>\n",
       "</table>\n",
       "</div>"
      ],
      "text/plain": [
       "   SO0_NRID  RECENCY  FREQUENCY  TOTAL_AMOUNT  AVG_AMOUNT\n",
       "0    687782      117         15         167.0   11.133333\n",
       "1    718230       41         20         204.9   10.245000\n",
       "2    718236       83         14         127.5    9.107143\n",
       "3    718247       97          7          42.6    6.085714\n",
       "4    718257       27         30         260.3    8.676667"
      ]
     },
     "execution_count": 41,
     "metadata": {},
     "output_type": "execute_result"
    }
   ],
   "source": [
    "customer_rfm=pd.merge(recency,frequency,how='inner',on='SO0_NRID').merge(monetary,on='SO0_NRID')\n",
    "customer_rfm.head()"
   ]
  },
  {
   "cell_type": "markdown",
   "metadata": {},
   "source": [
    "### 4.2.2. Product History"
   ]
  },
  {
   "cell_type": "markdown",
   "metadata": {},
   "source": [
    "In addition to the RFM variables, we would also like to use the following variables as predictive features: \n",
    "\n",
    "    (1) The number of products bought in each product family during the independent period \n",
    "    (2) The last product family bought in the independent period "
   ]
  },
  {
   "cell_type": "code",
   "execution_count": 42,
   "metadata": {},
   "outputs": [
    {
     "data": {
      "text/html": [
       "<div>\n",
       "<style scoped>\n",
       "    .dataframe tbody tr th:only-of-type {\n",
       "        vertical-align: middle;\n",
       "    }\n",
       "\n",
       "    .dataframe tbody tr th {\n",
       "        vertical-align: top;\n",
       "    }\n",
       "\n",
       "    .dataframe thead th {\n",
       "        text-align: right;\n",
       "    }\n",
       "</style>\n",
       "<table border=\"1\" class=\"dataframe\">\n",
       "  <thead>\n",
       "    <tr style=\"text-align: right;\">\n",
       "      <th></th>\n",
       "      <th>HVVISITRESULT_NRID</th>\n",
       "      <th>SO0_NRID</th>\n",
       "      <th>AM0_NRID</th>\n",
       "      <th>HVOUTCOME_NRID</th>\n",
       "      <th>VISITDATE</th>\n",
       "      <th>DATEONLY</th>\n",
       "      <th>AMOUNT</th>\n",
       "      <th>PAYMENTTERM</th>\n",
       "    </tr>\n",
       "  </thead>\n",
       "  <tbody>\n",
       "    <tr>\n",
       "      <th>0</th>\n",
       "      <td>55681456</td>\n",
       "      <td>719952</td>\n",
       "      <td>23186288605042</td>\n",
       "      <td>2</td>\n",
       "      <td>1900-01-01 12:20:01</td>\n",
       "      <td>2019-05-06</td>\n",
       "      <td>16.9</td>\n",
       "      <td>cash</td>\n",
       "    </tr>\n",
       "    <tr>\n",
       "      <th>1</th>\n",
       "      <td>55681507</td>\n",
       "      <td>1453609</td>\n",
       "      <td>19946584592834</td>\n",
       "      <td>2</td>\n",
       "      <td>1900-01-01 12:13:50</td>\n",
       "      <td>2019-05-06</td>\n",
       "      <td>7.4</td>\n",
       "      <td>cash</td>\n",
       "    </tr>\n",
       "    <tr>\n",
       "      <th>2</th>\n",
       "      <td>55681509</td>\n",
       "      <td>1453614</td>\n",
       "      <td>19946584592834</td>\n",
       "      <td>2</td>\n",
       "      <td>1900-01-01 12:14:08</td>\n",
       "      <td>2019-05-06</td>\n",
       "      <td>18.9</td>\n",
       "      <td>cash</td>\n",
       "    </tr>\n",
       "    <tr>\n",
       "      <th>4</th>\n",
       "      <td>55674074</td>\n",
       "      <td>1252497</td>\n",
       "      <td>18934048107254</td>\n",
       "      <td>2</td>\n",
       "      <td>1900-01-01 10:41:09</td>\n",
       "      <td>2019-05-06</td>\n",
       "      <td>34.9</td>\n",
       "      <td>tbp</td>\n",
       "    </tr>\n",
       "    <tr>\n",
       "      <th>17</th>\n",
       "      <td>55714733</td>\n",
       "      <td>1251884</td>\n",
       "      <td>18934048107254</td>\n",
       "      <td>2</td>\n",
       "      <td>1900-01-01 21:40:35</td>\n",
       "      <td>2019-05-06</td>\n",
       "      <td>8.5</td>\n",
       "      <td>cash</td>\n",
       "    </tr>\n",
       "  </tbody>\n",
       "</table>\n",
       "</div>"
      ],
      "text/plain": [
       "    HVVISITRESULT_NRID  SO0_NRID        AM0_NRID  HVOUTCOME_NRID  \\\n",
       "0             55681456    719952  23186288605042               2   \n",
       "1             55681507   1453609  19946584592834               2   \n",
       "2             55681509   1453614  19946584592834               2   \n",
       "4             55674074   1252497  18934048107254               2   \n",
       "17            55714733   1251884  18934048107254               2   \n",
       "\n",
       "             VISITDATE   DATEONLY  AMOUNT PAYMENTTERM  \n",
       "0  1900-01-01 12:20:01 2019-05-06    16.9        cash  \n",
       "1  1900-01-01 12:13:50 2019-05-06     7.4        cash  \n",
       "2  1900-01-01 12:14:08 2019-05-06    18.9        cash  \n",
       "4  1900-01-01 10:41:09 2019-05-06    34.9         tbp  \n",
       "17 1900-01-01 21:40:35 2019-05-06     8.5        cash  "
      ]
     },
     "execution_count": 42,
     "metadata": {},
     "output_type": "execute_result"
    }
   ],
   "source": [
    "## visits_indep：\n",
    "visits_indep.head(5)"
   ]
  },
  {
   "cell_type": "code",
   "execution_count": 43,
   "metadata": {},
   "outputs": [
    {
     "data": {
      "text/html": [
       "<div>\n",
       "<style scoped>\n",
       "    .dataframe tbody tr th:only-of-type {\n",
       "        vertical-align: middle;\n",
       "    }\n",
       "\n",
       "    .dataframe tbody tr th {\n",
       "        vertical-align: top;\n",
       "    }\n",
       "\n",
       "    .dataframe thead th {\n",
       "        text-align: right;\n",
       "    }\n",
       "</style>\n",
       "<table border=\"1\" class=\"dataframe\">\n",
       "  <thead>\n",
       "    <tr style=\"text-align: right;\">\n",
       "      <th></th>\n",
       "      <th>VISITRESULTDETAILS_NRID</th>\n",
       "      <th>AR0_NRID</th>\n",
       "      <th>QUANTITY</th>\n",
       "      <th>HVVISITRESULT_NRID</th>\n",
       "    </tr>\n",
       "  </thead>\n",
       "  <tbody>\n",
       "    <tr>\n",
       "      <th>0</th>\n",
       "      <td>56055671</td>\n",
       "      <td>17545160268040</td>\n",
       "      <td>1.0</td>\n",
       "      <td>56055665.0</td>\n",
       "    </tr>\n",
       "    <tr>\n",
       "      <th>1</th>\n",
       "      <td>56055672</td>\n",
       "      <td>23699</td>\n",
       "      <td>2.0</td>\n",
       "      <td>56055665.0</td>\n",
       "    </tr>\n",
       "    <tr>\n",
       "      <th>2</th>\n",
       "      <td>56055675</td>\n",
       "      <td>23721</td>\n",
       "      <td>1.0</td>\n",
       "      <td>56055674.0</td>\n",
       "    </tr>\n",
       "    <tr>\n",
       "      <th>3</th>\n",
       "      <td>56010656</td>\n",
       "      <td>23714</td>\n",
       "      <td>1.0</td>\n",
       "      <td>56010655.0</td>\n",
       "    </tr>\n",
       "    <tr>\n",
       "      <th>4</th>\n",
       "      <td>56009821</td>\n",
       "      <td>23716</td>\n",
       "      <td>1.0</td>\n",
       "      <td>56009820.0</td>\n",
       "    </tr>\n",
       "  </tbody>\n",
       "</table>\n",
       "</div>"
      ],
      "text/plain": [
       "   VISITRESULTDETAILS_NRID        AR0_NRID  QUANTITY  HVVISITRESULT_NRID\n",
       "0                 56055671  17545160268040       1.0          56055665.0\n",
       "1                 56055672           23699       2.0          56055665.0\n",
       "2                 56055675           23721       1.0          56055674.0\n",
       "3                 56010656           23714       1.0          56010655.0\n",
       "4                 56009821           23716       1.0          56009820.0"
      ]
     },
     "execution_count": 43,
     "metadata": {},
     "output_type": "execute_result"
    }
   ],
   "source": [
    "visitdetails.head()"
   ]
  },
  {
   "cell_type": "code",
   "execution_count": 97,
   "metadata": {
    "scrolled": false
   },
   "outputs": [
    {
     "data": {
      "text/html": [
       "<div>\n",
       "<style scoped>\n",
       "    .dataframe tbody tr th:only-of-type {\n",
       "        vertical-align: middle;\n",
       "    }\n",
       "\n",
       "    .dataframe tbody tr th {\n",
       "        vertical-align: top;\n",
       "    }\n",
       "\n",
       "    .dataframe thead th {\n",
       "        text-align: right;\n",
       "    }\n",
       "</style>\n",
       "<table border=\"1\" class=\"dataframe\">\n",
       "  <thead>\n",
       "    <tr style=\"text-align: right;\">\n",
       "      <th></th>\n",
       "      <th>AR0_NRID</th>\n",
       "      <th>DESCRIPTION</th>\n",
       "      <th>CATEGORY</th>\n",
       "      <th>FAMILY</th>\n",
       "      <th>PRICE</th>\n",
       "    </tr>\n",
       "  </thead>\n",
       "  <tbody>\n",
       "    <tr>\n",
       "      <th>0</th>\n",
       "      <td>20742288286838</td>\n",
       "      <td>Dessert Caramel/14</td>\n",
       "      <td>Verkoopsartikel</td>\n",
       "      <td>Cups</td>\n",
       "      <td>10.9</td>\n",
       "    </tr>\n",
       "    <tr>\n",
       "      <th>1</th>\n",
       "      <td>20413488326838</td>\n",
       "      <td>Penalty/16</td>\n",
       "      <td>Verkoopsartikel</td>\n",
       "      <td>Hand Ice</td>\n",
       "      <td>6.5</td>\n",
       "    </tr>\n",
       "    <tr>\n",
       "      <th>2</th>\n",
       "      <td>21515648414638</td>\n",
       "      <td>Kriekentaart</td>\n",
       "      <td>Verkoopsartikel</td>\n",
       "      <td>Coffee</td>\n",
       "      <td>7.9</td>\n",
       "    </tr>\n",
       "    <tr>\n",
       "      <th>3</th>\n",
       "      <td>20296288686840</td>\n",
       "      <td>Expo met zachte wafel/12</td>\n",
       "      <td>Verkoopsartikel</td>\n",
       "      <td>Individual Dessert</td>\n",
       "      <td>7.3</td>\n",
       "    </tr>\n",
       "    <tr>\n",
       "      <th>4</th>\n",
       "      <td>21844652504048</td>\n",
       "      <td>Paaseitjes</td>\n",
       "      <td>Verkoopsartikel</td>\n",
       "      <td>Individual Dessert</td>\n",
       "      <td>7.5</td>\n",
       "    </tr>\n",
       "  </tbody>\n",
       "</table>\n",
       "</div>"
      ],
      "text/plain": [
       "         AR0_NRID               DESCRIPTION         CATEGORY  \\\n",
       "0  20742288286838        Dessert Caramel/14  Verkoopsartikel   \n",
       "1  20413488326838                Penalty/16  Verkoopsartikel   \n",
       "2  21515648414638              Kriekentaart  Verkoopsartikel   \n",
       "3  20296288686840  Expo met zachte wafel/12  Verkoopsartikel   \n",
       "4  21844652504048                Paaseitjes  Verkoopsartikel   \n",
       "\n",
       "               FAMILY  PRICE  \n",
       "0                Cups   10.9  \n",
       "1            Hand Ice    6.5  \n",
       "2              Coffee    7.9  \n",
       "3  Individual Dessert    7.3  \n",
       "4  Individual Dessert    7.5  "
      ]
     },
     "execution_count": 97,
     "metadata": {},
     "output_type": "execute_result"
    }
   ],
   "source": [
    "products.head()"
   ]
  },
  {
   "cell_type": "code",
   "execution_count": 44,
   "metadata": {
    "scrolled": true
   },
   "outputs": [
    {
     "data": {
      "text/html": [
       "<div>\n",
       "<style scoped>\n",
       "    .dataframe tbody tr th:only-of-type {\n",
       "        vertical-align: middle;\n",
       "    }\n",
       "\n",
       "    .dataframe tbody tr th {\n",
       "        vertical-align: top;\n",
       "    }\n",
       "\n",
       "    .dataframe thead th {\n",
       "        text-align: right;\n",
       "    }\n",
       "</style>\n",
       "<table border=\"1\" class=\"dataframe\">\n",
       "  <thead>\n",
       "    <tr style=\"text-align: right;\">\n",
       "      <th></th>\n",
       "      <th>HVVISITRESULT_NRID</th>\n",
       "      <th>SO0_NRID</th>\n",
       "      <th>AM0_NRID</th>\n",
       "      <th>HVOUTCOME_NRID</th>\n",
       "      <th>VISITDATE</th>\n",
       "      <th>DATEONLY</th>\n",
       "      <th>AMOUNT</th>\n",
       "      <th>PAYMENTTERM</th>\n",
       "      <th>VISITRESULTDETAILS_NRID</th>\n",
       "      <th>AR0_NRID</th>\n",
       "      <th>QUANTITY</th>\n",
       "      <th>DESCRIPTION</th>\n",
       "      <th>CATEGORY</th>\n",
       "      <th>FAMILY</th>\n",
       "      <th>PRICE</th>\n",
       "    </tr>\n",
       "  </thead>\n",
       "  <tbody>\n",
       "    <tr>\n",
       "      <th>0</th>\n",
       "      <td>55681456</td>\n",
       "      <td>719952</td>\n",
       "      <td>23186288605042</td>\n",
       "      <td>2</td>\n",
       "      <td>1900-01-01 12:20:01</td>\n",
       "      <td>2019-05-06</td>\n",
       "      <td>16.9</td>\n",
       "      <td>cash</td>\n",
       "      <td>55681457</td>\n",
       "      <td>23678</td>\n",
       "      <td>1.0</td>\n",
       "      <td>2,5 L.Vanille</td>\n",
       "      <td>Verkoopsartikel</td>\n",
       "      <td>Scoop Ice</td>\n",
       "      <td>7.4</td>\n",
       "    </tr>\n",
       "    <tr>\n",
       "      <th>1</th>\n",
       "      <td>55681456</td>\n",
       "      <td>719952</td>\n",
       "      <td>23186288605042</td>\n",
       "      <td>2</td>\n",
       "      <td>1900-01-01 12:20:01</td>\n",
       "      <td>2019-05-06</td>\n",
       "      <td>16.9</td>\n",
       "      <td>cash</td>\n",
       "      <td>55681458</td>\n",
       "      <td>17453864687246</td>\n",
       "      <td>1.0</td>\n",
       "      <td>Cornets d'Amour BrÃ©s 16+4</td>\n",
       "      <td>Verkoopsartikel</td>\n",
       "      <td>Hand Ice</td>\n",
       "      <td>9.5</td>\n",
       "    </tr>\n",
       "    <tr>\n",
       "      <th>2</th>\n",
       "      <td>55681507</td>\n",
       "      <td>1453609</td>\n",
       "      <td>19946584592834</td>\n",
       "      <td>2</td>\n",
       "      <td>1900-01-01 12:13:50</td>\n",
       "      <td>2019-05-06</td>\n",
       "      <td>7.4</td>\n",
       "      <td>cash</td>\n",
       "      <td>55681508</td>\n",
       "      <td>23678</td>\n",
       "      <td>1.0</td>\n",
       "      <td>2,5 L.Vanille</td>\n",
       "      <td>Verkoopsartikel</td>\n",
       "      <td>Scoop Ice</td>\n",
       "      <td>7.4</td>\n",
       "    </tr>\n",
       "    <tr>\n",
       "      <th>3</th>\n",
       "      <td>55681509</td>\n",
       "      <td>1453614</td>\n",
       "      <td>19946584592834</td>\n",
       "      <td>2</td>\n",
       "      <td>1900-01-01 12:14:08</td>\n",
       "      <td>2019-05-06</td>\n",
       "      <td>18.9</td>\n",
       "      <td>cash</td>\n",
       "      <td>55681510</td>\n",
       "      <td>21744156237250</td>\n",
       "      <td>2.0</td>\n",
       "      <td>Donuts Deluxe</td>\n",
       "      <td>Verkoopsartikel</td>\n",
       "      <td>Coffee</td>\n",
       "      <td>5.2</td>\n",
       "    </tr>\n",
       "    <tr>\n",
       "      <th>4</th>\n",
       "      <td>55681509</td>\n",
       "      <td>1453614</td>\n",
       "      <td>19946584592834</td>\n",
       "      <td>2</td>\n",
       "      <td>1900-01-01 12:14:08</td>\n",
       "      <td>2019-05-06</td>\n",
       "      <td>18.9</td>\n",
       "      <td>cash</td>\n",
       "      <td>55681511</td>\n",
       "      <td>23734</td>\n",
       "      <td>1.0</td>\n",
       "      <td>Maxi Vanille/24</td>\n",
       "      <td>Verkoopsartikel</td>\n",
       "      <td>Hand Ice</td>\n",
       "      <td>8.5</td>\n",
       "    </tr>\n",
       "  </tbody>\n",
       "</table>\n",
       "</div>"
      ],
      "text/plain": [
       "   HVVISITRESULT_NRID  SO0_NRID        AM0_NRID  HVOUTCOME_NRID  \\\n",
       "0            55681456    719952  23186288605042               2   \n",
       "1            55681456    719952  23186288605042               2   \n",
       "2            55681507   1453609  19946584592834               2   \n",
       "3            55681509   1453614  19946584592834               2   \n",
       "4            55681509   1453614  19946584592834               2   \n",
       "\n",
       "            VISITDATE   DATEONLY  AMOUNT PAYMENTTERM  VISITRESULTDETAILS_NRID  \\\n",
       "0 1900-01-01 12:20:01 2019-05-06    16.9        cash                 55681457   \n",
       "1 1900-01-01 12:20:01 2019-05-06    16.9        cash                 55681458   \n",
       "2 1900-01-01 12:13:50 2019-05-06     7.4        cash                 55681508   \n",
       "3 1900-01-01 12:14:08 2019-05-06    18.9        cash                 55681510   \n",
       "4 1900-01-01 12:14:08 2019-05-06    18.9        cash                 55681511   \n",
       "\n",
       "         AR0_NRID  QUANTITY                 DESCRIPTION         CATEGORY  \\\n",
       "0           23678       1.0               2,5 L.Vanille  Verkoopsartikel   \n",
       "1  17453864687246       1.0  Cornets d'Amour BrÃ©s 16+4  Verkoopsartikel   \n",
       "2           23678       1.0               2,5 L.Vanille  Verkoopsartikel   \n",
       "3  21744156237250       2.0               Donuts Deluxe  Verkoopsartikel   \n",
       "4           23734       1.0             Maxi Vanille/24  Verkoopsartikel   \n",
       "\n",
       "      FAMILY  PRICE  \n",
       "0  Scoop Ice    7.4  \n",
       "1   Hand Ice    9.5  \n",
       "2  Scoop Ice    7.4  \n",
       "3     Coffee    5.2  \n",
       "4   Hand Ice    8.5  "
      ]
     },
     "execution_count": 44,
     "metadata": {},
     "output_type": "execute_result"
    }
   ],
   "source": [
    "# left merge: visits_indep, visitdetails,products ===> get SO0_NRID,AR0_NRID,FAMILY\n",
    "visit_prod_ind=pd.merge(visits_indep,visitdetails,how='left',on='HVVISITRESULT_NRID').merge(products,how='left',on='AR0_NRID')\n",
    "visit_prod_ind.head()"
   ]
  },
  {
   "cell_type": "code",
   "execution_count": 45,
   "metadata": {
    "scrolled": true
   },
   "outputs": [
    {
     "data": {
      "text/html": [
       "<div>\n",
       "<style scoped>\n",
       "    .dataframe tbody tr th:only-of-type {\n",
       "        vertical-align: middle;\n",
       "    }\n",
       "\n",
       "    .dataframe tbody tr th {\n",
       "        vertical-align: top;\n",
       "    }\n",
       "\n",
       "    .dataframe thead th {\n",
       "        text-align: right;\n",
       "    }\n",
       "</style>\n",
       "<table border=\"1\" class=\"dataframe\">\n",
       "  <thead>\n",
       "    <tr style=\"text-align: right;\">\n",
       "      <th></th>\n",
       "      <th>SO0_NRID</th>\n",
       "      <th>FAMILY</th>\n",
       "      <th>AR0_NRID</th>\n",
       "    </tr>\n",
       "  </thead>\n",
       "  <tbody>\n",
       "    <tr>\n",
       "      <th>0</th>\n",
       "      <td>687782</td>\n",
       "      <td>Assortments</td>\n",
       "      <td>3</td>\n",
       "    </tr>\n",
       "    <tr>\n",
       "      <th>1</th>\n",
       "      <td>687782</td>\n",
       "      <td>Coffee</td>\n",
       "      <td>1</td>\n",
       "    </tr>\n",
       "    <tr>\n",
       "      <th>2</th>\n",
       "      <td>687782</td>\n",
       "      <td>Garniture</td>\n",
       "      <td>1</td>\n",
       "    </tr>\n",
       "    <tr>\n",
       "      <th>3</th>\n",
       "      <td>687782</td>\n",
       "      <td>Hand Ice</td>\n",
       "      <td>7</td>\n",
       "    </tr>\n",
       "    <tr>\n",
       "      <th>4</th>\n",
       "      <td>687782</td>\n",
       "      <td>Scoop Ice</td>\n",
       "      <td>10</td>\n",
       "    </tr>\n",
       "  </tbody>\n",
       "</table>\n",
       "</div>"
      ],
      "text/plain": [
       "   SO0_NRID       FAMILY  AR0_NRID\n",
       "0    687782  Assortments         3\n",
       "1    687782       Coffee         1\n",
       "2    687782    Garniture         1\n",
       "3    687782     Hand Ice         7\n",
       "4    687782    Scoop Ice        10"
      ]
     },
     "execution_count": 45,
     "metadata": {},
     "output_type": "execute_result"
    }
   ],
   "source": [
    "cust_product=visit_prod_ind.groupby(['SO0_NRID','FAMILY']).agg({'AR0_NRID':'count'}).reset_index()\n",
    "cust_product.head()"
   ]
  },
  {
   "cell_type": "code",
   "execution_count": 46,
   "metadata": {
    "scrolled": true
   },
   "outputs": [
    {
     "data": {
      "text/html": [
       "<div>\n",
       "<style scoped>\n",
       "    .dataframe tbody tr th:only-of-type {\n",
       "        vertical-align: middle;\n",
       "    }\n",
       "\n",
       "    .dataframe tbody tr th {\n",
       "        vertical-align: top;\n",
       "    }\n",
       "\n",
       "    .dataframe thead th {\n",
       "        text-align: right;\n",
       "    }\n",
       "</style>\n",
       "<table border=\"1\" class=\"dataframe\">\n",
       "  <thead>\n",
       "    <tr style=\"text-align: right;\">\n",
       "      <th>FAMILY</th>\n",
       "      <th>SO0_NRID</th>\n",
       "      <th>Assortments</th>\n",
       "      <th>BIG</th>\n",
       "      <th>Coffee</th>\n",
       "      <th>Cups</th>\n",
       "      <th>Garniture</th>\n",
       "      <th>Hand Ice</th>\n",
       "      <th>Ice Cakes</th>\n",
       "      <th>Individual Dessert</th>\n",
       "      <th>Meals</th>\n",
       "      <th>POS inside</th>\n",
       "      <th>Scoop Ice</th>\n",
       "    </tr>\n",
       "  </thead>\n",
       "  <tbody>\n",
       "    <tr>\n",
       "      <th>0</th>\n",
       "      <td>687782</td>\n",
       "      <td>3</td>\n",
       "      <td>0</td>\n",
       "      <td>1</td>\n",
       "      <td>0</td>\n",
       "      <td>1</td>\n",
       "      <td>7</td>\n",
       "      <td>0</td>\n",
       "      <td>0</td>\n",
       "      <td>0</td>\n",
       "      <td>0</td>\n",
       "      <td>10</td>\n",
       "    </tr>\n",
       "    <tr>\n",
       "      <th>1</th>\n",
       "      <td>718230</td>\n",
       "      <td>0</td>\n",
       "      <td>0</td>\n",
       "      <td>2</td>\n",
       "      <td>7</td>\n",
       "      <td>0</td>\n",
       "      <td>7</td>\n",
       "      <td>2</td>\n",
       "      <td>6</td>\n",
       "      <td>1</td>\n",
       "      <td>0</td>\n",
       "      <td>1</td>\n",
       "    </tr>\n",
       "    <tr>\n",
       "      <th>2</th>\n",
       "      <td>718236</td>\n",
       "      <td>0</td>\n",
       "      <td>0</td>\n",
       "      <td>0</td>\n",
       "      <td>0</td>\n",
       "      <td>0</td>\n",
       "      <td>10</td>\n",
       "      <td>1</td>\n",
       "      <td>1</td>\n",
       "      <td>0</td>\n",
       "      <td>0</td>\n",
       "      <td>4</td>\n",
       "    </tr>\n",
       "    <tr>\n",
       "      <th>3</th>\n",
       "      <td>718247</td>\n",
       "      <td>1</td>\n",
       "      <td>0</td>\n",
       "      <td>0</td>\n",
       "      <td>0</td>\n",
       "      <td>0</td>\n",
       "      <td>1</td>\n",
       "      <td>0</td>\n",
       "      <td>0</td>\n",
       "      <td>0</td>\n",
       "      <td>0</td>\n",
       "      <td>5</td>\n",
       "    </tr>\n",
       "    <tr>\n",
       "      <th>4</th>\n",
       "      <td>718257</td>\n",
       "      <td>1</td>\n",
       "      <td>0</td>\n",
       "      <td>0</td>\n",
       "      <td>1</td>\n",
       "      <td>0</td>\n",
       "      <td>29</td>\n",
       "      <td>0</td>\n",
       "      <td>1</td>\n",
       "      <td>0</td>\n",
       "      <td>0</td>\n",
       "      <td>0</td>\n",
       "    </tr>\n",
       "  </tbody>\n",
       "</table>\n",
       "</div>"
      ],
      "text/plain": [
       "FAMILY  SO0_NRID  Assortments  BIG  Coffee  Cups  Garniture  Hand Ice  \\\n",
       "0         687782            3    0       1     0          1         7   \n",
       "1         718230            0    0       2     7          0         7   \n",
       "2         718236            0    0       0     0          0        10   \n",
       "3         718247            1    0       0     0          0         1   \n",
       "4         718257            1    0       0     1          0        29   \n",
       "\n",
       "FAMILY  Ice Cakes  Individual Dessert  Meals  POS inside  Scoop Ice  \n",
       "0               0                   0      0           0         10  \n",
       "1               2                   6      1           0          1  \n",
       "2               1                   1      0           0          4  \n",
       "3               0                   0      0           0          5  \n",
       "4               0                   1      0           0          0  "
      ]
     },
     "execution_count": 46,
     "metadata": {},
     "output_type": "execute_result"
    }
   ],
   "source": [
    "cust_pro_amount=cust_product.pivot_table(index='SO0_NRID',columns='FAMILY',values='AR0_NRID',fill_value=0).reset_index()\n",
    "cust_pro_amount.head()"
   ]
  },
  {
   "cell_type": "markdown",
   "metadata": {},
   "source": [
    "The information we need to compute these variables can be found in the visitdetails dataframe. In other words, we need to extract the information related to the visits in the independent period from the visitdetails dataframe."
   ]
  },
  {
   "cell_type": "code",
   "execution_count": 47,
   "metadata": {
    "scrolled": true
   },
   "outputs": [
    {
     "data": {
      "text/html": [
       "<div>\n",
       "<style scoped>\n",
       "    .dataframe tbody tr th:only-of-type {\n",
       "        vertical-align: middle;\n",
       "    }\n",
       "\n",
       "    .dataframe tbody tr th {\n",
       "        vertical-align: top;\n",
       "    }\n",
       "\n",
       "    .dataframe thead th {\n",
       "        text-align: right;\n",
       "    }\n",
       "</style>\n",
       "<table border=\"1\" class=\"dataframe\">\n",
       "  <thead>\n",
       "    <tr style=\"text-align: right;\">\n",
       "      <th></th>\n",
       "      <th>SO0_NRID</th>\n",
       "      <th>LAST_FAMILY</th>\n",
       "    </tr>\n",
       "  </thead>\n",
       "  <tbody>\n",
       "    <tr>\n",
       "      <th>0</th>\n",
       "      <td>875096</td>\n",
       "      <td>Scoop Ice</td>\n",
       "    </tr>\n",
       "    <tr>\n",
       "      <th>2</th>\n",
       "      <td>22594788446036</td>\n",
       "      <td>Scoop Ice</td>\n",
       "    </tr>\n",
       "    <tr>\n",
       "      <th>3</th>\n",
       "      <td>22594788446036</td>\n",
       "      <td>Ice Cakes</td>\n",
       "    </tr>\n",
       "    <tr>\n",
       "      <th>4</th>\n",
       "      <td>22594788446036</td>\n",
       "      <td>Hand Ice</td>\n",
       "    </tr>\n",
       "    <tr>\n",
       "      <th>5</th>\n",
       "      <td>1253653</td>\n",
       "      <td>Ice Cakes</td>\n",
       "    </tr>\n",
       "    <tr>\n",
       "      <th>...</th>\n",
       "      <td>...</td>\n",
       "      <td>...</td>\n",
       "    </tr>\n",
       "    <tr>\n",
       "      <th>7947</th>\n",
       "      <td>56961121</td>\n",
       "      <td>Ice Cakes</td>\n",
       "    </tr>\n",
       "    <tr>\n",
       "      <th>7948</th>\n",
       "      <td>56961121</td>\n",
       "      <td>Meals</td>\n",
       "    </tr>\n",
       "    <tr>\n",
       "      <th>7949</th>\n",
       "      <td>56961121</td>\n",
       "      <td>Coffee</td>\n",
       "    </tr>\n",
       "    <tr>\n",
       "      <th>7950</th>\n",
       "      <td>56961121</td>\n",
       "      <td>Individual Dessert</td>\n",
       "    </tr>\n",
       "    <tr>\n",
       "      <th>7951</th>\n",
       "      <td>725014</td>\n",
       "      <td>Hand Ice</td>\n",
       "    </tr>\n",
       "  </tbody>\n",
       "</table>\n",
       "<p>6623 rows × 2 columns</p>\n",
       "</div>"
      ],
      "text/plain": [
       "            SO0_NRID         LAST_FAMILY\n",
       "0             875096           Scoop Ice\n",
       "2     22594788446036           Scoop Ice\n",
       "3     22594788446036           Ice Cakes\n",
       "4     22594788446036            Hand Ice\n",
       "5            1253653           Ice Cakes\n",
       "...              ...                 ...\n",
       "7947        56961121           Ice Cakes\n",
       "7948        56961121               Meals\n",
       "7949        56961121              Coffee\n",
       "7950        56961121  Individual Dessert\n",
       "7951          725014            Hand Ice\n",
       "\n",
       "[6623 rows x 2 columns]"
      ]
     },
     "execution_count": 47,
     "metadata": {},
     "output_type": "execute_result"
    }
   ],
   "source": [
    "# The last product family bought in the independent period \n",
    "# last visit_date\n",
    "max_visit_date=visits_indep.groupby('SO0_NRID').agg({'DATEONLY':max}).reset_index()\n",
    "last_product=pd.merge(visits_indep,max_visit_date,how='inner',on=['SO0_NRID','DATEONLY']).merge(visitdetails,how='left',on='HVVISITRESULT_NRID').merge(products,how='left',on='AR0_NRID')\n",
    "last_product=last_product[['SO0_NRID','FAMILY']].drop_duplicates()\n",
    "last_product.columns=['SO0_NRID','LAST_FAMILY']\n",
    "last_product"
   ]
  },
  {
   "cell_type": "code",
   "execution_count": 48,
   "metadata": {},
   "outputs": [
    {
     "data": {
      "text/html": [
       "<div>\n",
       "<style scoped>\n",
       "    .dataframe tbody tr th:only-of-type {\n",
       "        vertical-align: middle;\n",
       "    }\n",
       "\n",
       "    .dataframe tbody tr th {\n",
       "        vertical-align: top;\n",
       "    }\n",
       "\n",
       "    .dataframe thead th {\n",
       "        text-align: right;\n",
       "    }\n",
       "</style>\n",
       "<table border=\"1\" class=\"dataframe\">\n",
       "  <thead>\n",
       "    <tr style=\"text-align: right;\">\n",
       "      <th></th>\n",
       "      <th>SO0_NRID</th>\n",
       "      <th>RECENCY</th>\n",
       "      <th>FREQUENCY</th>\n",
       "      <th>TOTAL_AMOUNT</th>\n",
       "      <th>AVG_AMOUNT</th>\n",
       "      <th>Assortments</th>\n",
       "      <th>BIG</th>\n",
       "      <th>Coffee</th>\n",
       "      <th>Cups</th>\n",
       "      <th>Garniture</th>\n",
       "      <th>Hand Ice</th>\n",
       "      <th>Ice Cakes</th>\n",
       "      <th>Individual Dessert</th>\n",
       "      <th>Meals</th>\n",
       "      <th>POS inside</th>\n",
       "      <th>Scoop Ice</th>\n",
       "      <th>LAST_FAMILY</th>\n",
       "    </tr>\n",
       "  </thead>\n",
       "  <tbody>\n",
       "    <tr>\n",
       "      <th>0</th>\n",
       "      <td>687782</td>\n",
       "      <td>117</td>\n",
       "      <td>15</td>\n",
       "      <td>167.0</td>\n",
       "      <td>11.133333</td>\n",
       "      <td>3</td>\n",
       "      <td>0</td>\n",
       "      <td>1</td>\n",
       "      <td>0</td>\n",
       "      <td>1</td>\n",
       "      <td>7</td>\n",
       "      <td>0</td>\n",
       "      <td>0</td>\n",
       "      <td>0</td>\n",
       "      <td>0</td>\n",
       "      <td>10</td>\n",
       "      <td>Scoop Ice</td>\n",
       "    </tr>\n",
       "    <tr>\n",
       "      <th>1</th>\n",
       "      <td>718230</td>\n",
       "      <td>41</td>\n",
       "      <td>20</td>\n",
       "      <td>204.9</td>\n",
       "      <td>10.245000</td>\n",
       "      <td>0</td>\n",
       "      <td>0</td>\n",
       "      <td>2</td>\n",
       "      <td>7</td>\n",
       "      <td>0</td>\n",
       "      <td>7</td>\n",
       "      <td>2</td>\n",
       "      <td>6</td>\n",
       "      <td>1</td>\n",
       "      <td>0</td>\n",
       "      <td>1</td>\n",
       "      <td>Cups</td>\n",
       "    </tr>\n",
       "    <tr>\n",
       "      <th>2</th>\n",
       "      <td>718236</td>\n",
       "      <td>83</td>\n",
       "      <td>14</td>\n",
       "      <td>127.5</td>\n",
       "      <td>9.107143</td>\n",
       "      <td>0</td>\n",
       "      <td>0</td>\n",
       "      <td>0</td>\n",
       "      <td>0</td>\n",
       "      <td>0</td>\n",
       "      <td>10</td>\n",
       "      <td>1</td>\n",
       "      <td>1</td>\n",
       "      <td>0</td>\n",
       "      <td>0</td>\n",
       "      <td>4</td>\n",
       "      <td>Hand Ice</td>\n",
       "    </tr>\n",
       "    <tr>\n",
       "      <th>3</th>\n",
       "      <td>718247</td>\n",
       "      <td>97</td>\n",
       "      <td>7</td>\n",
       "      <td>42.6</td>\n",
       "      <td>6.085714</td>\n",
       "      <td>1</td>\n",
       "      <td>0</td>\n",
       "      <td>0</td>\n",
       "      <td>0</td>\n",
       "      <td>0</td>\n",
       "      <td>1</td>\n",
       "      <td>0</td>\n",
       "      <td>0</td>\n",
       "      <td>0</td>\n",
       "      <td>0</td>\n",
       "      <td>5</td>\n",
       "      <td>Scoop Ice</td>\n",
       "    </tr>\n",
       "    <tr>\n",
       "      <th>4</th>\n",
       "      <td>718257</td>\n",
       "      <td>27</td>\n",
       "      <td>30</td>\n",
       "      <td>260.3</td>\n",
       "      <td>8.676667</td>\n",
       "      <td>1</td>\n",
       "      <td>0</td>\n",
       "      <td>0</td>\n",
       "      <td>1</td>\n",
       "      <td>0</td>\n",
       "      <td>29</td>\n",
       "      <td>0</td>\n",
       "      <td>1</td>\n",
       "      <td>0</td>\n",
       "      <td>0</td>\n",
       "      <td>0</td>\n",
       "      <td>Hand Ice</td>\n",
       "    </tr>\n",
       "  </tbody>\n",
       "</table>\n",
       "</div>"
      ],
      "text/plain": [
       "   SO0_NRID  RECENCY  FREQUENCY  TOTAL_AMOUNT  AVG_AMOUNT  Assortments  BIG  \\\n",
       "0    687782      117         15         167.0   11.133333            3    0   \n",
       "1    718230       41         20         204.9   10.245000            0    0   \n",
       "2    718236       83         14         127.5    9.107143            0    0   \n",
       "3    718247       97          7          42.6    6.085714            1    0   \n",
       "4    718257       27         30         260.3    8.676667            1    0   \n",
       "\n",
       "   Coffee  Cups  Garniture  Hand Ice  Ice Cakes  Individual Dessert  Meals  \\\n",
       "0       1     0          1         7          0                   0      0   \n",
       "1       2     7          0         7          2                   6      1   \n",
       "2       0     0          0        10          1                   1      0   \n",
       "3       0     0          0         1          0                   0      0   \n",
       "4       0     1          0        29          0                   1      0   \n",
       "\n",
       "   POS inside  Scoop Ice LAST_FAMILY  \n",
       "0           0         10   Scoop Ice  \n",
       "1           0          1        Cups  \n",
       "2           0          4    Hand Ice  \n",
       "3           0          5   Scoop Ice  \n",
       "4           0          0    Hand Ice  "
      ]
     },
     "execution_count": 48,
     "metadata": {},
     "output_type": "execute_result"
    }
   ],
   "source": [
    "ind_table=pd.merge(customer_rfm,cust_pro_amount,how='left',on='SO0_NRID').merge(last_product,on='SO0_NRID')\n",
    "ind_table.head()"
   ]
  },
  {
   "cell_type": "markdown",
   "metadata": {},
   "source": [
    "## 4.3. Dependent Variable"
   ]
  },
  {
   "cell_type": "markdown",
   "metadata": {},
   "source": [
    "As we want to predict which product (or product family: see later) a customer is most likely to buy next, our dependent variable will be the first product (or product family) that a customer has bought in the dependent period. "
   ]
  },
  {
   "cell_type": "markdown",
   "metadata": {},
   "source": [
    "The information we need can be found in the visitdetails dataframe."
   ]
  },
  {
   "cell_type": "code",
   "execution_count": 49,
   "metadata": {},
   "outputs": [
    {
     "data": {
      "text/html": [
       "<div>\n",
       "<style scoped>\n",
       "    .dataframe tbody tr th:only-of-type {\n",
       "        vertical-align: middle;\n",
       "    }\n",
       "\n",
       "    .dataframe tbody tr th {\n",
       "        vertical-align: top;\n",
       "    }\n",
       "\n",
       "    .dataframe thead th {\n",
       "        text-align: right;\n",
       "    }\n",
       "</style>\n",
       "<table border=\"1\" class=\"dataframe\">\n",
       "  <thead>\n",
       "    <tr style=\"text-align: right;\">\n",
       "      <th></th>\n",
       "      <th>VISITRESULTDETAILS_NRID</th>\n",
       "      <th>AR0_NRID</th>\n",
       "      <th>QUANTITY</th>\n",
       "      <th>HVVISITRESULT_NRID</th>\n",
       "    </tr>\n",
       "  </thead>\n",
       "  <tbody>\n",
       "    <tr>\n",
       "      <th>0</th>\n",
       "      <td>56055671</td>\n",
       "      <td>17545160268040</td>\n",
       "      <td>1.0</td>\n",
       "      <td>56055665.0</td>\n",
       "    </tr>\n",
       "    <tr>\n",
       "      <th>1</th>\n",
       "      <td>56055672</td>\n",
       "      <td>23699</td>\n",
       "      <td>2.0</td>\n",
       "      <td>56055665.0</td>\n",
       "    </tr>\n",
       "    <tr>\n",
       "      <th>2</th>\n",
       "      <td>56055675</td>\n",
       "      <td>23721</td>\n",
       "      <td>1.0</td>\n",
       "      <td>56055674.0</td>\n",
       "    </tr>\n",
       "    <tr>\n",
       "      <th>3</th>\n",
       "      <td>56010656</td>\n",
       "      <td>23714</td>\n",
       "      <td>1.0</td>\n",
       "      <td>56010655.0</td>\n",
       "    </tr>\n",
       "    <tr>\n",
       "      <th>4</th>\n",
       "      <td>56009821</td>\n",
       "      <td>23716</td>\n",
       "      <td>1.0</td>\n",
       "      <td>56009820.0</td>\n",
       "    </tr>\n",
       "  </tbody>\n",
       "</table>\n",
       "</div>"
      ],
      "text/plain": [
       "   VISITRESULTDETAILS_NRID        AR0_NRID  QUANTITY  HVVISITRESULT_NRID\n",
       "0                 56055671  17545160268040       1.0          56055665.0\n",
       "1                 56055672           23699       2.0          56055665.0\n",
       "2                 56055675           23721       1.0          56055674.0\n",
       "3                 56010656           23714       1.0          56010655.0\n",
       "4                 56009821           23716       1.0          56009820.0"
      ]
     },
     "execution_count": 49,
     "metadata": {},
     "output_type": "execute_result"
    }
   ],
   "source": [
    "visitdetails.head()"
   ]
  },
  {
   "cell_type": "code",
   "execution_count": 50,
   "metadata": {
    "scrolled": true
   },
   "outputs": [
    {
     "data": {
      "text/html": [
       "<div>\n",
       "<style scoped>\n",
       "    .dataframe tbody tr th:only-of-type {\n",
       "        vertical-align: middle;\n",
       "    }\n",
       "\n",
       "    .dataframe tbody tr th {\n",
       "        vertical-align: top;\n",
       "    }\n",
       "\n",
       "    .dataframe thead th {\n",
       "        text-align: right;\n",
       "    }\n",
       "</style>\n",
       "<table border=\"1\" class=\"dataframe\">\n",
       "  <thead>\n",
       "    <tr style=\"text-align: right;\">\n",
       "      <th></th>\n",
       "      <th>HVVISITRESULT_NRID</th>\n",
       "      <th>SO0_NRID</th>\n",
       "      <th>AM0_NRID</th>\n",
       "      <th>HVOUTCOME_NRID</th>\n",
       "      <th>VISITDATE</th>\n",
       "      <th>DATEONLY</th>\n",
       "      <th>AMOUNT</th>\n",
       "      <th>PAYMENTTERM</th>\n",
       "      <th>VISITRESULTDETAILS_NRID</th>\n",
       "      <th>AR0_NRID</th>\n",
       "      <th>QUANTITY</th>\n",
       "      <th>DESCRIPTION</th>\n",
       "      <th>CATEGORY</th>\n",
       "      <th>FAMILY</th>\n",
       "      <th>PRICE</th>\n",
       "    </tr>\n",
       "  </thead>\n",
       "  <tbody>\n",
       "    <tr>\n",
       "      <th>0</th>\n",
       "      <td>55681456</td>\n",
       "      <td>719952</td>\n",
       "      <td>23186288605042</td>\n",
       "      <td>2</td>\n",
       "      <td>1900-01-01 12:20:01</td>\n",
       "      <td>2019-05-06</td>\n",
       "      <td>16.9</td>\n",
       "      <td>cash</td>\n",
       "      <td>55681457</td>\n",
       "      <td>23678</td>\n",
       "      <td>1.0</td>\n",
       "      <td>2,5 L.Vanille</td>\n",
       "      <td>Verkoopsartikel</td>\n",
       "      <td>Scoop Ice</td>\n",
       "      <td>7.4</td>\n",
       "    </tr>\n",
       "    <tr>\n",
       "      <th>1</th>\n",
       "      <td>55681456</td>\n",
       "      <td>719952</td>\n",
       "      <td>23186288605042</td>\n",
       "      <td>2</td>\n",
       "      <td>1900-01-01 12:20:01</td>\n",
       "      <td>2019-05-06</td>\n",
       "      <td>16.9</td>\n",
       "      <td>cash</td>\n",
       "      <td>55681458</td>\n",
       "      <td>17453864687246</td>\n",
       "      <td>1.0</td>\n",
       "      <td>Cornets d'Amour BrÃ©s 16+4</td>\n",
       "      <td>Verkoopsartikel</td>\n",
       "      <td>Hand Ice</td>\n",
       "      <td>9.5</td>\n",
       "    </tr>\n",
       "    <tr>\n",
       "      <th>2</th>\n",
       "      <td>55681507</td>\n",
       "      <td>1453609</td>\n",
       "      <td>19946584592834</td>\n",
       "      <td>2</td>\n",
       "      <td>1900-01-01 12:13:50</td>\n",
       "      <td>2019-05-06</td>\n",
       "      <td>7.4</td>\n",
       "      <td>cash</td>\n",
       "      <td>55681508</td>\n",
       "      <td>23678</td>\n",
       "      <td>1.0</td>\n",
       "      <td>2,5 L.Vanille</td>\n",
       "      <td>Verkoopsartikel</td>\n",
       "      <td>Scoop Ice</td>\n",
       "      <td>7.4</td>\n",
       "    </tr>\n",
       "    <tr>\n",
       "      <th>3</th>\n",
       "      <td>55681509</td>\n",
       "      <td>1453614</td>\n",
       "      <td>19946584592834</td>\n",
       "      <td>2</td>\n",
       "      <td>1900-01-01 12:14:08</td>\n",
       "      <td>2019-05-06</td>\n",
       "      <td>18.9</td>\n",
       "      <td>cash</td>\n",
       "      <td>55681510</td>\n",
       "      <td>21744156237250</td>\n",
       "      <td>2.0</td>\n",
       "      <td>Donuts Deluxe</td>\n",
       "      <td>Verkoopsartikel</td>\n",
       "      <td>Coffee</td>\n",
       "      <td>5.2</td>\n",
       "    </tr>\n",
       "    <tr>\n",
       "      <th>4</th>\n",
       "      <td>55681509</td>\n",
       "      <td>1453614</td>\n",
       "      <td>19946584592834</td>\n",
       "      <td>2</td>\n",
       "      <td>1900-01-01 12:14:08</td>\n",
       "      <td>2019-05-06</td>\n",
       "      <td>18.9</td>\n",
       "      <td>cash</td>\n",
       "      <td>55681511</td>\n",
       "      <td>23734</td>\n",
       "      <td>1.0</td>\n",
       "      <td>Maxi Vanille/24</td>\n",
       "      <td>Verkoopsartikel</td>\n",
       "      <td>Hand Ice</td>\n",
       "      <td>8.5</td>\n",
       "    </tr>\n",
       "  </tbody>\n",
       "</table>\n",
       "</div>"
      ],
      "text/plain": [
       "   HVVISITRESULT_NRID  SO0_NRID        AM0_NRID  HVOUTCOME_NRID  \\\n",
       "0            55681456    719952  23186288605042               2   \n",
       "1            55681456    719952  23186288605042               2   \n",
       "2            55681507   1453609  19946584592834               2   \n",
       "3            55681509   1453614  19946584592834               2   \n",
       "4            55681509   1453614  19946584592834               2   \n",
       "\n",
       "            VISITDATE   DATEONLY  AMOUNT PAYMENTTERM  VISITRESULTDETAILS_NRID  \\\n",
       "0 1900-01-01 12:20:01 2019-05-06    16.9        cash                 55681457   \n",
       "1 1900-01-01 12:20:01 2019-05-06    16.9        cash                 55681458   \n",
       "2 1900-01-01 12:13:50 2019-05-06     7.4        cash                 55681508   \n",
       "3 1900-01-01 12:14:08 2019-05-06    18.9        cash                 55681510   \n",
       "4 1900-01-01 12:14:08 2019-05-06    18.9        cash                 55681511   \n",
       "\n",
       "         AR0_NRID  QUANTITY                 DESCRIPTION         CATEGORY  \\\n",
       "0           23678       1.0               2,5 L.Vanille  Verkoopsartikel   \n",
       "1  17453864687246       1.0  Cornets d'Amour BrÃ©s 16+4  Verkoopsartikel   \n",
       "2           23678       1.0               2,5 L.Vanille  Verkoopsartikel   \n",
       "3  21744156237250       2.0               Donuts Deluxe  Verkoopsartikel   \n",
       "4           23734       1.0             Maxi Vanille/24  Verkoopsartikel   \n",
       "\n",
       "      FAMILY  PRICE  \n",
       "0  Scoop Ice    7.4  \n",
       "1   Hand Ice    9.5  \n",
       "2  Scoop Ice    7.4  \n",
       "3     Coffee    5.2  \n",
       "4   Hand Ice    8.5  "
      ]
     },
     "execution_count": 50,
     "metadata": {},
     "output_type": "execute_result"
    }
   ],
   "source": [
    "prod_ind=pd.merge(visits_indep,visitdetails,on='HVVISITRESULT_NRID',how='left').merge(products,on='AR0_NRID',how='left')\n",
    "prod_ind.head()"
   ]
  },
  {
   "cell_type": "markdown",
   "metadata": {},
   "source": [
    "get the family of first product for the first order: "
   ]
  },
  {
   "cell_type": "code",
   "execution_count": 51,
   "metadata": {},
   "outputs": [
    {
     "data": {
      "text/html": [
       "<div>\n",
       "<style scoped>\n",
       "    .dataframe tbody tr th:only-of-type {\n",
       "        vertical-align: middle;\n",
       "    }\n",
       "\n",
       "    .dataframe tbody tr th {\n",
       "        vertical-align: top;\n",
       "    }\n",
       "\n",
       "    .dataframe thead th {\n",
       "        text-align: right;\n",
       "    }\n",
       "</style>\n",
       "<table border=\"1\" class=\"dataframe\">\n",
       "  <thead>\n",
       "    <tr style=\"text-align: right;\">\n",
       "      <th></th>\n",
       "      <th>SO0_NRID</th>\n",
       "      <th>FIRST_FAMILY</th>\n",
       "    </tr>\n",
       "  </thead>\n",
       "  <tbody>\n",
       "    <tr>\n",
       "      <th>0</th>\n",
       "      <td>687782</td>\n",
       "      <td>Hand Ice</td>\n",
       "    </tr>\n",
       "    <tr>\n",
       "      <th>3</th>\n",
       "      <td>718230</td>\n",
       "      <td>Individual Dessert</td>\n",
       "    </tr>\n",
       "    <tr>\n",
       "      <th>5</th>\n",
       "      <td>718236</td>\n",
       "      <td>Hand Ice</td>\n",
       "    </tr>\n",
       "    <tr>\n",
       "      <th>6</th>\n",
       "      <td>718247</td>\n",
       "      <td>Scoop Ice</td>\n",
       "    </tr>\n",
       "    <tr>\n",
       "      <th>7</th>\n",
       "      <td>718257</td>\n",
       "      <td>Hand Ice</td>\n",
       "    </tr>\n",
       "  </tbody>\n",
       "</table>\n",
       "</div>"
      ],
      "text/plain": [
       "   SO0_NRID        FIRST_FAMILY\n",
       "0    687782            Hand Ice\n",
       "3    718230  Individual Dessert\n",
       "5    718236            Hand Ice\n",
       "6    718247           Scoop Ice\n",
       "7    718257            Hand Ice"
      ]
     },
     "execution_count": 51,
     "metadata": {},
     "output_type": "execute_result"
    }
   ],
   "source": [
    "first_transaction=prod_ind.groupby('SO0_NRID').agg({'DATEONLY':min}).reset_index()\n",
    "first_product=pd.merge(first_transaction,prod_ind,on=['SO0_NRID','DATEONLY'])[['SO0_NRID','FAMILY']]\n",
    "first_product=first_product.groupby('SO0_NRID').head(1)\n",
    "first_product.columns=['SO0_NRID','FIRST_FAMILY']\n",
    "first_product.head()"
   ]
  },
  {
   "cell_type": "markdown",
   "metadata": {},
   "source": [
    "Visually inspect the distribution of first bought products in the dependent period. \n",
    "\n",
    "So the x-axis should contain the different products, whereas the y-axis will represent the number of times a product was bought as first product in the dependent period. "
   ]
  },
  {
   "cell_type": "code",
   "execution_count": 54,
   "metadata": {},
   "outputs": [
    {
     "data": {
      "text/html": [
       "<div>\n",
       "<style scoped>\n",
       "    .dataframe tbody tr th:only-of-type {\n",
       "        vertical-align: middle;\n",
       "    }\n",
       "\n",
       "    .dataframe tbody tr th {\n",
       "        vertical-align: top;\n",
       "    }\n",
       "\n",
       "    .dataframe thead th {\n",
       "        text-align: right;\n",
       "    }\n",
       "</style>\n",
       "<table border=\"1\" class=\"dataframe\">\n",
       "  <thead>\n",
       "    <tr style=\"text-align: right;\">\n",
       "      <th></th>\n",
       "      <th>FAMILY</th>\n",
       "      <th>NUMBER</th>\n",
       "    </tr>\n",
       "  </thead>\n",
       "  <tbody>\n",
       "    <tr>\n",
       "      <th>0</th>\n",
       "      <td>Assortments</td>\n",
       "      <td>308</td>\n",
       "    </tr>\n",
       "    <tr>\n",
       "      <th>1</th>\n",
       "      <td>BIG</td>\n",
       "      <td>60</td>\n",
       "    </tr>\n",
       "    <tr>\n",
       "      <th>2</th>\n",
       "      <td>Coffee</td>\n",
       "      <td>158</td>\n",
       "    </tr>\n",
       "    <tr>\n",
       "      <th>3</th>\n",
       "      <td>Cups</td>\n",
       "      <td>507</td>\n",
       "    </tr>\n",
       "    <tr>\n",
       "      <th>4</th>\n",
       "      <td>Garniture</td>\n",
       "      <td>59</td>\n",
       "    </tr>\n",
       "  </tbody>\n",
       "</table>\n",
       "</div>"
      ],
      "text/plain": [
       "        FAMILY  NUMBER\n",
       "0  Assortments     308\n",
       "1          BIG      60\n",
       "2       Coffee     158\n",
       "3         Cups     507\n",
       "4    Garniture      59"
      ]
     },
     "execution_count": 54,
     "metadata": {},
     "output_type": "execute_result"
    }
   ],
   "source": [
    "first_product_dist=first_product.groupby('FIRST_FAMILY').agg({'SO0_NRID':'count'}).reset_index()\n",
    "first_product_dist.columns=['FAMILY','NUMBER']\n",
    "first_product_dist.head()"
   ]
  },
  {
   "cell_type": "code",
   "execution_count": 55,
   "metadata": {},
   "outputs": [
    {
     "data": {
      "text/plain": [
       "11"
      ]
     },
     "execution_count": 55,
     "metadata": {},
     "output_type": "execute_result"
    }
   ],
   "source": [
    "len(first_product_dist['NUMBER'])"
   ]
  },
  {
   "cell_type": "code",
   "execution_count": 56,
   "metadata": {},
   "outputs": [
    {
     "data": {
      "image/png": "[encoded data removed]",
      "text/plain": [
       "<Figure size 1152x432 with 1 Axes>"
      ]
     },
     "metadata": {
      "needs_background": "light"
     },
     "output_type": "display_data"
    }
   ],
   "source": [
    "plt.figure(figsize=(16,6))\n",
    "plt.bar(range(len(first_product_dist['NUMBER'])),first_product_dist['NUMBER'])\n",
    "plt.xticks(range(len(first_product_dist['NUMBER'])),first_product_dist['FAMILY'],rotation=90)\n",
    "plt.xlabel('products')\n",
    "plt.ylabel('number of times ')\n",
    "plt.title('Number of times a product was bought as first product')\n",
    "plt.show()"
   ]
  },
  {
   "cell_type": "markdown",
   "metadata": {},
   "source": [
    "# 5.  Basetable"
   ]
  },
  {
   "cell_type": "markdown",
   "metadata": {},
   "source": [
    "To create the final basetable, we still need to complete the following steps: \n",
    "\n",
    "    (1) Merge the necessary datasets \n",
    "    (2) Split the data into training, validation and test set (60-20-20)\n",
    "    (3) Seperate the sets into the features on the one hand, and the dependent variable on the other hand\n",
    "    (4) Standardize the numeric features \n",
    "    (5) Create dummy variables for categorical features such as 'last_family_indep'\n",
    "    (6) Encode the categorical dependent variable (first_product_dep_thresh) into numbers"
   ]
  },
  {
   "cell_type": "markdown",
   "metadata": {},
   "source": [
    "## 5.1. Merge datasets"
   ]
  },
  {
   "cell_type": "code",
   "execution_count": 57,
   "metadata": {},
   "outputs": [
    {
     "data": {
      "text/html": [
       "<div>\n",
       "<style scoped>\n",
       "    .dataframe tbody tr th:only-of-type {\n",
       "        vertical-align: middle;\n",
       "    }\n",
       "\n",
       "    .dataframe tbody tr th {\n",
       "        vertical-align: top;\n",
       "    }\n",
       "\n",
       "    .dataframe thead th {\n",
       "        text-align: right;\n",
       "    }\n",
       "</style>\n",
       "<table border=\"1\" class=\"dataframe\">\n",
       "  <thead>\n",
       "    <tr style=\"text-align: right;\">\n",
       "      <th></th>\n",
       "      <th>RECENCY</th>\n",
       "      <th>FREQUENCY</th>\n",
       "      <th>TOTAL_AMOUNT</th>\n",
       "      <th>AVG_AMOUNT</th>\n",
       "      <th>Assortments</th>\n",
       "      <th>BIG</th>\n",
       "      <th>Coffee</th>\n",
       "      <th>Cups</th>\n",
       "      <th>Garniture</th>\n",
       "      <th>Hand Ice</th>\n",
       "      <th>Ice Cakes</th>\n",
       "      <th>Individual Dessert</th>\n",
       "      <th>Meals</th>\n",
       "      <th>POS inside</th>\n",
       "      <th>Scoop Ice</th>\n",
       "      <th>LAST_FAMILY</th>\n",
       "      <th>FIRST_FAMILY</th>\n",
       "    </tr>\n",
       "  </thead>\n",
       "  <tbody>\n",
       "    <tr>\n",
       "      <th>0</th>\n",
       "      <td>117</td>\n",
       "      <td>15</td>\n",
       "      <td>167.0</td>\n",
       "      <td>11.133333</td>\n",
       "      <td>3</td>\n",
       "      <td>0</td>\n",
       "      <td>1</td>\n",
       "      <td>0</td>\n",
       "      <td>1</td>\n",
       "      <td>7</td>\n",
       "      <td>0</td>\n",
       "      <td>0</td>\n",
       "      <td>0</td>\n",
       "      <td>0</td>\n",
       "      <td>10</td>\n",
       "      <td>Scoop Ice</td>\n",
       "      <td>Hand Ice</td>\n",
       "    </tr>\n",
       "    <tr>\n",
       "      <th>1</th>\n",
       "      <td>41</td>\n",
       "      <td>20</td>\n",
       "      <td>204.9</td>\n",
       "      <td>10.245000</td>\n",
       "      <td>0</td>\n",
       "      <td>0</td>\n",
       "      <td>2</td>\n",
       "      <td>7</td>\n",
       "      <td>0</td>\n",
       "      <td>7</td>\n",
       "      <td>2</td>\n",
       "      <td>6</td>\n",
       "      <td>1</td>\n",
       "      <td>0</td>\n",
       "      <td>1</td>\n",
       "      <td>Cups</td>\n",
       "      <td>Individual Dessert</td>\n",
       "    </tr>\n",
       "    <tr>\n",
       "      <th>2</th>\n",
       "      <td>83</td>\n",
       "      <td>14</td>\n",
       "      <td>127.5</td>\n",
       "      <td>9.107143</td>\n",
       "      <td>0</td>\n",
       "      <td>0</td>\n",
       "      <td>0</td>\n",
       "      <td>0</td>\n",
       "      <td>0</td>\n",
       "      <td>10</td>\n",
       "      <td>1</td>\n",
       "      <td>1</td>\n",
       "      <td>0</td>\n",
       "      <td>0</td>\n",
       "      <td>4</td>\n",
       "      <td>Hand Ice</td>\n",
       "      <td>Hand Ice</td>\n",
       "    </tr>\n",
       "    <tr>\n",
       "      <th>3</th>\n",
       "      <td>97</td>\n",
       "      <td>7</td>\n",
       "      <td>42.6</td>\n",
       "      <td>6.085714</td>\n",
       "      <td>1</td>\n",
       "      <td>0</td>\n",
       "      <td>0</td>\n",
       "      <td>0</td>\n",
       "      <td>0</td>\n",
       "      <td>1</td>\n",
       "      <td>0</td>\n",
       "      <td>0</td>\n",
       "      <td>0</td>\n",
       "      <td>0</td>\n",
       "      <td>5</td>\n",
       "      <td>Scoop Ice</td>\n",
       "      <td>Scoop Ice</td>\n",
       "    </tr>\n",
       "    <tr>\n",
       "      <th>4</th>\n",
       "      <td>27</td>\n",
       "      <td>30</td>\n",
       "      <td>260.3</td>\n",
       "      <td>8.676667</td>\n",
       "      <td>1</td>\n",
       "      <td>0</td>\n",
       "      <td>0</td>\n",
       "      <td>1</td>\n",
       "      <td>0</td>\n",
       "      <td>29</td>\n",
       "      <td>0</td>\n",
       "      <td>1</td>\n",
       "      <td>0</td>\n",
       "      <td>0</td>\n",
       "      <td>0</td>\n",
       "      <td>Hand Ice</td>\n",
       "      <td>Hand Ice</td>\n",
       "    </tr>\n",
       "  </tbody>\n",
       "</table>\n",
       "</div>"
      ],
      "text/plain": [
       "   RECENCY  FREQUENCY  TOTAL_AMOUNT  AVG_AMOUNT  Assortments  BIG  Coffee  \\\n",
       "0      117         15         167.0   11.133333            3    0       1   \n",
       "1       41         20         204.9   10.245000            0    0       2   \n",
       "2       83         14         127.5    9.107143            0    0       0   \n",
       "3       97          7          42.6    6.085714            1    0       0   \n",
       "4       27         30         260.3    8.676667            1    0       0   \n",
       "\n",
       "   Cups  Garniture  Hand Ice  Ice Cakes  Individual Dessert  Meals  \\\n",
       "0     0          1         7          0                   0      0   \n",
       "1     7          0         7          2                   6      1   \n",
       "2     0          0        10          1                   1      0   \n",
       "3     0          0         1          0                   0      0   \n",
       "4     1          0        29          0                   1      0   \n",
       "\n",
       "   POS inside  Scoop Ice LAST_FAMILY        FIRST_FAMILY  \n",
       "0           0         10   Scoop Ice            Hand Ice  \n",
       "1           0          1        Cups  Individual Dessert  \n",
       "2           0          4    Hand Ice            Hand Ice  \n",
       "3           0          5   Scoop Ice           Scoop Ice  \n",
       "4           0          0    Hand Ice            Hand Ice  "
      ]
     },
     "execution_count": 57,
     "metadata": {},
     "output_type": "execute_result"
    }
   ],
   "source": [
    "# basetable :first_product\n",
    "basetable=pd.merge(ind_table,first_product,how='inner',on='SO0_NRID')\n",
    "basetable=basetable.drop('SO0_NRID',axis=1)\n",
    "basetable.head()"
   ]
  },
  {
   "cell_type": "markdown",
   "metadata": {},
   "source": [
    "## 5.2. Train - Validation -Test split\n",
    "#### Train(60%) - Validation (0.2) - test set (0.2)"
   ]
  },
  {
   "cell_type": "code",
   "execution_count": 58,
   "metadata": {},
   "outputs": [],
   "source": [
    "# split data into training, validation and test set (60-20-20)\n",
    "train,val_test=train_test_split(basetable,test_size=0.4,random_state=21)\n",
    "val,test=train_test_split(val_test,test_size=0.5,random_state=57)\n",
    "\n"
   ]
  },
  {
   "cell_type": "markdown",
   "metadata": {},
   "source": [
    "## 5.3. Separate the dependent variable and the features (optional)\n",
    "\n",
    "### Y's: FIRST_FAMILY   X's: basetable.drop['FIRST_FAMILY','']"
   ]
  },
  {
   "cell_type": "code",
   "execution_count": 59,
   "metadata": {
    "scrolled": true
   },
   "outputs": [
    {
     "data": {
      "text/html": [
       "<div>\n",
       "<style scoped>\n",
       "    .dataframe tbody tr th:only-of-type {\n",
       "        vertical-align: middle;\n",
       "    }\n",
       "\n",
       "    .dataframe tbody tr th {\n",
       "        vertical-align: top;\n",
       "    }\n",
       "\n",
       "    .dataframe thead th {\n",
       "        text-align: right;\n",
       "    }\n",
       "</style>\n",
       "<table border=\"1\" class=\"dataframe\">\n",
       "  <thead>\n",
       "    <tr style=\"text-align: right;\">\n",
       "      <th></th>\n",
       "      <th>RECENCY</th>\n",
       "      <th>FREQUENCY</th>\n",
       "      <th>TOTAL_AMOUNT</th>\n",
       "      <th>AVG_AMOUNT</th>\n",
       "      <th>Assortments</th>\n",
       "      <th>BIG</th>\n",
       "      <th>Coffee</th>\n",
       "      <th>Cups</th>\n",
       "      <th>Garniture</th>\n",
       "      <th>Hand Ice</th>\n",
       "      <th>Ice Cakes</th>\n",
       "      <th>Individual Dessert</th>\n",
       "      <th>Meals</th>\n",
       "      <th>POS inside</th>\n",
       "      <th>Scoop Ice</th>\n",
       "      <th>LAST_FAMILY</th>\n",
       "      <th>FIRST_FAMILY</th>\n",
       "    </tr>\n",
       "  </thead>\n",
       "  <tbody>\n",
       "    <tr>\n",
       "      <th>6106</th>\n",
       "      <td>599</td>\n",
       "      <td>3</td>\n",
       "      <td>29.8</td>\n",
       "      <td>9.933333</td>\n",
       "      <td>0</td>\n",
       "      <td>0</td>\n",
       "      <td>1</td>\n",
       "      <td>0</td>\n",
       "      <td>0</td>\n",
       "      <td>2</td>\n",
       "      <td>0</td>\n",
       "      <td>0</td>\n",
       "      <td>1</td>\n",
       "      <td>0</td>\n",
       "      <td>0</td>\n",
       "      <td>Hand Ice</td>\n",
       "      <td>Coffee</td>\n",
       "    </tr>\n",
       "    <tr>\n",
       "      <th>3385</th>\n",
       "      <td>90</td>\n",
       "      <td>9</td>\n",
       "      <td>62.5</td>\n",
       "      <td>6.944444</td>\n",
       "      <td>0</td>\n",
       "      <td>0</td>\n",
       "      <td>0</td>\n",
       "      <td>3</td>\n",
       "      <td>0</td>\n",
       "      <td>2</td>\n",
       "      <td>0</td>\n",
       "      <td>0</td>\n",
       "      <td>0</td>\n",
       "      <td>0</td>\n",
       "      <td>5</td>\n",
       "      <td>Scoop Ice</td>\n",
       "      <td>Scoop Ice</td>\n",
       "    </tr>\n",
       "    <tr>\n",
       "      <th>600</th>\n",
       "      <td>172</td>\n",
       "      <td>10</td>\n",
       "      <td>174.0</td>\n",
       "      <td>17.400000</td>\n",
       "      <td>0</td>\n",
       "      <td>0</td>\n",
       "      <td>4</td>\n",
       "      <td>0</td>\n",
       "      <td>0</td>\n",
       "      <td>2</td>\n",
       "      <td>3</td>\n",
       "      <td>1</td>\n",
       "      <td>12</td>\n",
       "      <td>0</td>\n",
       "      <td>0</td>\n",
       "      <td>Hand Ice</td>\n",
       "      <td>Coffee</td>\n",
       "    </tr>\n",
       "    <tr>\n",
       "      <th>1287</th>\n",
       "      <td>10</td>\n",
       "      <td>33</td>\n",
       "      <td>589.2</td>\n",
       "      <td>17.854545</td>\n",
       "      <td>6</td>\n",
       "      <td>1</td>\n",
       "      <td>1</td>\n",
       "      <td>37</td>\n",
       "      <td>4</td>\n",
       "      <td>9</td>\n",
       "      <td>7</td>\n",
       "      <td>0</td>\n",
       "      <td>0</td>\n",
       "      <td>0</td>\n",
       "      <td>14</td>\n",
       "      <td>Hand Ice</td>\n",
       "      <td>Cups</td>\n",
       "    </tr>\n",
       "    <tr>\n",
       "      <th>2631</th>\n",
       "      <td>138</td>\n",
       "      <td>6</td>\n",
       "      <td>71.8</td>\n",
       "      <td>11.966667</td>\n",
       "      <td>1</td>\n",
       "      <td>0</td>\n",
       "      <td>0</td>\n",
       "      <td>0</td>\n",
       "      <td>0</td>\n",
       "      <td>1</td>\n",
       "      <td>1</td>\n",
       "      <td>0</td>\n",
       "      <td>1</td>\n",
       "      <td>0</td>\n",
       "      <td>4</td>\n",
       "      <td>Hand Ice</td>\n",
       "      <td>Assortments</td>\n",
       "    </tr>\n",
       "  </tbody>\n",
       "</table>\n",
       "</div>"
      ],
      "text/plain": [
       "      RECENCY  FREQUENCY  TOTAL_AMOUNT  AVG_AMOUNT  Assortments  BIG  Coffee  \\\n",
       "6106      599          3          29.8    9.933333            0    0       1   \n",
       "3385       90          9          62.5    6.944444            0    0       0   \n",
       "600       172         10         174.0   17.400000            0    0       4   \n",
       "1287       10         33         589.2   17.854545            6    1       1   \n",
       "2631      138          6          71.8   11.966667            1    0       0   \n",
       "\n",
       "      Cups  Garniture  Hand Ice  Ice Cakes  Individual Dessert  Meals  \\\n",
       "6106     0          0         2          0                   0      1   \n",
       "3385     3          0         2          0                   0      0   \n",
       "600      0          0         2          3                   1     12   \n",
       "1287    37          4         9          7                   0      0   \n",
       "2631     0          0         1          1                   0      1   \n",
       "\n",
       "      POS inside  Scoop Ice LAST_FAMILY FIRST_FAMILY  \n",
       "6106           0          0    Hand Ice       Coffee  \n",
       "3385           0          5   Scoop Ice    Scoop Ice  \n",
       "600            0          0    Hand Ice       Coffee  \n",
       "1287           0         14    Hand Ice         Cups  \n",
       "2631           0          4    Hand Ice  Assortments  "
      ]
     },
     "execution_count": 59,
     "metadata": {},
     "output_type": "execute_result"
    }
   ],
   "source": [
    "train.head()"
   ]
  },
  {
   "cell_type": "code",
   "execution_count": 60,
   "metadata": {},
   "outputs": [],
   "source": [
    "X_train=train.drop('FIRST_FAMILY',axis=1)\n",
    "Y_train=train['FIRST_FAMILY']\n",
    "\n",
    "X_val=val.drop('FIRST_FAMILY',axis=1)\n",
    "Y_val=val['FIRST_FAMILY']\n",
    "\n",
    "X_test=test.drop('FIRST_FAMILY',axis=1)\n",
    "Y_test=test['FIRST_FAMILY']"
   ]
  },
  {
   "cell_type": "markdown",
   "metadata": {},
   "source": [
    "## 5.4. Standardization"
   ]
  },
  {
   "cell_type": "code",
   "execution_count": 61,
   "metadata": {},
   "outputs": [],
   "source": [
    "# standardize the numeric features: RECENCY FREQUENCY TOTAL_AMOUNT AVG_AMOUNT\n",
    "from sklearn.preprocessing import MinMaxScaler\n",
    "scalar=MinMaxScaler()\n",
    "scalar.fit(X_train[['RECENCY','FREQUENCY','TOTAL_AMOUNT','AVG_AMOUNT']])\n",
    "X_train[['RECENCY','FREQUENCY','TOTAL_AMOUNT','AVG_AMOUNT']]=scalar.transform(X_train[['RECENCY','FREQUENCY','TOTAL_AMOUNT','AVG_AMOUNT']])\n",
    "X_test[['RECENCY','FREQUENCY','TOTAL_AMOUNT','AVG_AMOUNT']]=scalar.transform(X_test[['RECENCY','FREQUENCY','TOTAL_AMOUNT','AVG_AMOUNT']])\n",
    "X_val[['RECENCY','FREQUENCY','TOTAL_AMOUNT','AVG_AMOUNT']]=scalar.transform(X_val[['RECENCY','FREQUENCY','TOTAL_AMOUNT','AVG_AMOUNT']])\n"
   ]
  },
  {
   "cell_type": "code",
   "execution_count": 62,
   "metadata": {},
   "outputs": [
    {
     "data": {
      "text/html": [
       "<div>\n",
       "<style scoped>\n",
       "    .dataframe tbody tr th:only-of-type {\n",
       "        vertical-align: middle;\n",
       "    }\n",
       "\n",
       "    .dataframe tbody tr th {\n",
       "        vertical-align: top;\n",
       "    }\n",
       "\n",
       "    .dataframe thead th {\n",
       "        text-align: right;\n",
       "    }\n",
       "</style>\n",
       "<table border=\"1\" class=\"dataframe\">\n",
       "  <thead>\n",
       "    <tr style=\"text-align: right;\">\n",
       "      <th></th>\n",
       "      <th>RECENCY</th>\n",
       "      <th>FREQUENCY</th>\n",
       "      <th>TOTAL_AMOUNT</th>\n",
       "      <th>AVG_AMOUNT</th>\n",
       "    </tr>\n",
       "  </thead>\n",
       "  <tbody>\n",
       "    <tr>\n",
       "      <th>count</th>\n",
       "      <td>3973.000000</td>\n",
       "      <td>3973.000000</td>\n",
       "      <td>3973.000000</td>\n",
       "      <td>3973.000000</td>\n",
       "    </tr>\n",
       "    <tr>\n",
       "      <th>mean</th>\n",
       "      <td>0.125571</td>\n",
       "      <td>0.131867</td>\n",
       "      <td>0.014846</td>\n",
       "      <td>0.026387</td>\n",
       "    </tr>\n",
       "    <tr>\n",
       "      <th>std</th>\n",
       "      <td>0.171500</td>\n",
       "      <td>0.107913</td>\n",
       "      <td>0.034379</td>\n",
       "      <td>0.038575</td>\n",
       "    </tr>\n",
       "    <tr>\n",
       "      <th>min</th>\n",
       "      <td>0.000000</td>\n",
       "      <td>0.000000</td>\n",
       "      <td>0.000000</td>\n",
       "      <td>0.000000</td>\n",
       "    </tr>\n",
       "    <tr>\n",
       "      <th>25%</th>\n",
       "      <td>0.021834</td>\n",
       "      <td>0.051020</td>\n",
       "      <td>0.004940</td>\n",
       "      <td>0.015252</td>\n",
       "    </tr>\n",
       "    <tr>\n",
       "      <th>50%</th>\n",
       "      <td>0.065502</td>\n",
       "      <td>0.112245</td>\n",
       "      <td>0.009472</td>\n",
       "      <td>0.019484</td>\n",
       "    </tr>\n",
       "    <tr>\n",
       "      <th>75%</th>\n",
       "      <td>0.155750</td>\n",
       "      <td>0.193878</td>\n",
       "      <td>0.017022</td>\n",
       "      <td>0.025959</td>\n",
       "    </tr>\n",
       "    <tr>\n",
       "      <th>max</th>\n",
       "      <td>1.000000</td>\n",
       "      <td>1.000000</td>\n",
       "      <td>1.000000</td>\n",
       "      <td>1.000000</td>\n",
       "    </tr>\n",
       "  </tbody>\n",
       "</table>\n",
       "</div>"
      ],
      "text/plain": [
       "           RECENCY    FREQUENCY  TOTAL_AMOUNT   AVG_AMOUNT\n",
       "count  3973.000000  3973.000000   3973.000000  3973.000000\n",
       "mean      0.125571     0.131867      0.014846     0.026387\n",
       "std       0.171500     0.107913      0.034379     0.038575\n",
       "min       0.000000     0.000000      0.000000     0.000000\n",
       "25%       0.021834     0.051020      0.004940     0.015252\n",
       "50%       0.065502     0.112245      0.009472     0.019484\n",
       "75%       0.155750     0.193878      0.017022     0.025959\n",
       "max       1.000000     1.000000      1.000000     1.000000"
      ]
     },
     "execution_count": 62,
     "metadata": {},
     "output_type": "execute_result"
    }
   ],
   "source": [
    "X_train[['RECENCY','FREQUENCY','TOTAL_AMOUNT','AVG_AMOUNT']].describe()"
   ]
  },
  {
   "cell_type": "markdown",
   "metadata": {},
   "source": [
    "## 5.5. Dummy variables"
   ]
  },
  {
   "cell_type": "code",
   "execution_count": 63,
   "metadata": {
    "scrolled": true
   },
   "outputs": [
    {
     "data": {
      "text/html": [
       "<div>\n",
       "<style scoped>\n",
       "    .dataframe tbody tr th:only-of-type {\n",
       "        vertical-align: middle;\n",
       "    }\n",
       "\n",
       "    .dataframe tbody tr th {\n",
       "        vertical-align: top;\n",
       "    }\n",
       "\n",
       "    .dataframe thead th {\n",
       "        text-align: right;\n",
       "    }\n",
       "</style>\n",
       "<table border=\"1\" class=\"dataframe\">\n",
       "  <thead>\n",
       "    <tr style=\"text-align: right;\">\n",
       "      <th></th>\n",
       "      <th>RECENCY</th>\n",
       "      <th>FREQUENCY</th>\n",
       "      <th>TOTAL_AMOUNT</th>\n",
       "      <th>AVG_AMOUNT</th>\n",
       "      <th>Assortments</th>\n",
       "      <th>BIG</th>\n",
       "      <th>Coffee</th>\n",
       "      <th>Cups</th>\n",
       "      <th>Garniture</th>\n",
       "      <th>Hand Ice</th>\n",
       "      <th>...</th>\n",
       "      <th>LAST_FAMILY_Assortments</th>\n",
       "      <th>LAST_FAMILY_BIG</th>\n",
       "      <th>LAST_FAMILY_Coffee</th>\n",
       "      <th>LAST_FAMILY_Cups</th>\n",
       "      <th>LAST_FAMILY_Garniture</th>\n",
       "      <th>LAST_FAMILY_Hand Ice</th>\n",
       "      <th>LAST_FAMILY_Ice Cakes</th>\n",
       "      <th>LAST_FAMILY_Individual Dessert</th>\n",
       "      <th>LAST_FAMILY_Meals</th>\n",
       "      <th>LAST_FAMILY_Scoop Ice</th>\n",
       "    </tr>\n",
       "  </thead>\n",
       "  <tbody>\n",
       "    <tr>\n",
       "      <th>4675</th>\n",
       "      <td>0.104803</td>\n",
       "      <td>0.010204</td>\n",
       "      <td>0.002526</td>\n",
       "      <td>0.031168</td>\n",
       "      <td>0</td>\n",
       "      <td>0</td>\n",
       "      <td>0</td>\n",
       "      <td>4</td>\n",
       "      <td>0</td>\n",
       "      <td>0</td>\n",
       "      <td>...</td>\n",
       "      <td>0</td>\n",
       "      <td>0</td>\n",
       "      <td>0</td>\n",
       "      <td>1</td>\n",
       "      <td>0</td>\n",
       "      <td>0</td>\n",
       "      <td>0</td>\n",
       "      <td>0</td>\n",
       "      <td>0</td>\n",
       "      <td>0</td>\n",
       "    </tr>\n",
       "    <tr>\n",
       "      <th>5202</th>\n",
       "      <td>0.065502</td>\n",
       "      <td>0.142857</td>\n",
       "      <td>0.019182</td>\n",
       "      <td>0.031104</td>\n",
       "      <td>0</td>\n",
       "      <td>0</td>\n",
       "      <td>0</td>\n",
       "      <td>5</td>\n",
       "      <td>0</td>\n",
       "      <td>14</td>\n",
       "      <td>...</td>\n",
       "      <td>0</td>\n",
       "      <td>0</td>\n",
       "      <td>0</td>\n",
       "      <td>0</td>\n",
       "      <td>0</td>\n",
       "      <td>1</td>\n",
       "      <td>0</td>\n",
       "      <td>0</td>\n",
       "      <td>0</td>\n",
       "      <td>0</td>\n",
       "    </tr>\n",
       "    <tr>\n",
       "      <th>2758</th>\n",
       "      <td>0.016012</td>\n",
       "      <td>0.081633</td>\n",
       "      <td>0.008106</td>\n",
       "      <td>0.021662</td>\n",
       "      <td>0</td>\n",
       "      <td>0</td>\n",
       "      <td>0</td>\n",
       "      <td>1</td>\n",
       "      <td>0</td>\n",
       "      <td>12</td>\n",
       "      <td>...</td>\n",
       "      <td>0</td>\n",
       "      <td>0</td>\n",
       "      <td>0</td>\n",
       "      <td>0</td>\n",
       "      <td>0</td>\n",
       "      <td>1</td>\n",
       "      <td>0</td>\n",
       "      <td>0</td>\n",
       "      <td>0</td>\n",
       "      <td>0</td>\n",
       "    </tr>\n",
       "    <tr>\n",
       "      <th>5640</th>\n",
       "      <td>0.176128</td>\n",
       "      <td>0.040816</td>\n",
       "      <td>0.005953</td>\n",
       "      <td>0.029032</td>\n",
       "      <td>0</td>\n",
       "      <td>0</td>\n",
       "      <td>0</td>\n",
       "      <td>3</td>\n",
       "      <td>0</td>\n",
       "      <td>7</td>\n",
       "      <td>...</td>\n",
       "      <td>0</td>\n",
       "      <td>0</td>\n",
       "      <td>0</td>\n",
       "      <td>1</td>\n",
       "      <td>0</td>\n",
       "      <td>0</td>\n",
       "      <td>0</td>\n",
       "      <td>0</td>\n",
       "      <td>0</td>\n",
       "      <td>0</td>\n",
       "    </tr>\n",
       "    <tr>\n",
       "      <th>3251</th>\n",
       "      <td>0.033479</td>\n",
       "      <td>0.112245</td>\n",
       "      <td>0.009324</td>\n",
       "      <td>0.018527</td>\n",
       "      <td>0</td>\n",
       "      <td>0</td>\n",
       "      <td>0</td>\n",
       "      <td>1</td>\n",
       "      <td>0</td>\n",
       "      <td>5</td>\n",
       "      <td>...</td>\n",
       "      <td>0</td>\n",
       "      <td>0</td>\n",
       "      <td>0</td>\n",
       "      <td>0</td>\n",
       "      <td>0</td>\n",
       "      <td>1</td>\n",
       "      <td>0</td>\n",
       "      <td>0</td>\n",
       "      <td>0</td>\n",
       "      <td>0</td>\n",
       "    </tr>\n",
       "  </tbody>\n",
       "</table>\n",
       "<p>5 rows × 25 columns</p>\n",
       "</div>"
      ],
      "text/plain": [
       "       RECENCY  FREQUENCY  TOTAL_AMOUNT  AVG_AMOUNT  Assortments  BIG  Coffee  \\\n",
       "4675  0.104803   0.010204      0.002526    0.031168            0    0       0   \n",
       "5202  0.065502   0.142857      0.019182    0.031104            0    0       0   \n",
       "2758  0.016012   0.081633      0.008106    0.021662            0    0       0   \n",
       "5640  0.176128   0.040816      0.005953    0.029032            0    0       0   \n",
       "3251  0.033479   0.112245      0.009324    0.018527            0    0       0   \n",
       "\n",
       "      Cups  Garniture  Hand Ice  ...  LAST_FAMILY_Assortments  \\\n",
       "4675     4          0         0  ...                        0   \n",
       "5202     5          0        14  ...                        0   \n",
       "2758     1          0        12  ...                        0   \n",
       "5640     3          0         7  ...                        0   \n",
       "3251     1          0         5  ...                        0   \n",
       "\n",
       "      LAST_FAMILY_BIG  LAST_FAMILY_Coffee  LAST_FAMILY_Cups  \\\n",
       "4675                0                   0                 1   \n",
       "5202                0                   0                 0   \n",
       "2758                0                   0                 0   \n",
       "5640                0                   0                 1   \n",
       "3251                0                   0                 0   \n",
       "\n",
       "      LAST_FAMILY_Garniture  LAST_FAMILY_Hand Ice  LAST_FAMILY_Ice Cakes  \\\n",
       "4675                      0                     0                      0   \n",
       "5202                      0                     1                      0   \n",
       "2758                      0                     1                      0   \n",
       "5640                      0                     0                      0   \n",
       "3251                      0                     1                      0   \n",
       "\n",
       "      LAST_FAMILY_Individual Dessert  LAST_FAMILY_Meals  LAST_FAMILY_Scoop Ice  \n",
       "4675                               0                  0                      0  \n",
       "5202                               0                  0                      0  \n",
       "2758                               0                  0                      0  \n",
       "5640                               0                  0                      0  \n",
       "3251                               0                  0                      0  \n",
       "\n",
       "[5 rows x 25 columns]"
      ]
     },
     "execution_count": 63,
     "metadata": {},
     "output_type": "execute_result"
    }
   ],
   "source": [
    "# create dummy variables for categorical features :X_train['LAST_FAMILY']\n",
    "X_train=pd.get_dummies(X_train)\n",
    "X_test=pd.get_dummies(X_test)\n",
    "X_val=pd.get_dummies(X_val)\n",
    "X_val.head()"
   ]
  },
  {
   "cell_type": "markdown",
   "metadata": {},
   "source": [
    "Note: Why is it important to use reindex after applying get_dummies on the validation and test dataset? \n",
    "\n",
    "When you apply the get_dummies() on the validation and test dataset, you will lose the non-existing levels (i.e., the categories that are present in the training dataset but perhaps not in the validation and/or test dataset) of the train dataset. However, it is important to feed your model with the same columns of the train dataset. Therefore it is important to use the reindex function."
   ]
  },
  {
   "cell_type": "code",
   "execution_count": 64,
   "metadata": {},
   "outputs": [
    {
     "data": {
      "text/html": [
       "<div>\n",
       "<style scoped>\n",
       "    .dataframe tbody tr th:only-of-type {\n",
       "        vertical-align: middle;\n",
       "    }\n",
       "\n",
       "    .dataframe tbody tr th {\n",
       "        vertical-align: top;\n",
       "    }\n",
       "\n",
       "    .dataframe thead th {\n",
       "        text-align: right;\n",
       "    }\n",
       "</style>\n",
       "<table border=\"1\" class=\"dataframe\">\n",
       "  <thead>\n",
       "    <tr style=\"text-align: right;\">\n",
       "      <th></th>\n",
       "      <th>RECENCY</th>\n",
       "      <th>FREQUENCY</th>\n",
       "      <th>TOTAL_AMOUNT</th>\n",
       "      <th>AVG_AMOUNT</th>\n",
       "      <th>Assortments</th>\n",
       "      <th>BIG</th>\n",
       "      <th>Coffee</th>\n",
       "      <th>Cups</th>\n",
       "      <th>Garniture</th>\n",
       "      <th>Hand Ice</th>\n",
       "      <th>...</th>\n",
       "      <th>LAST_FAMILY_BIG</th>\n",
       "      <th>LAST_FAMILY_Coffee</th>\n",
       "      <th>LAST_FAMILY_Cups</th>\n",
       "      <th>LAST_FAMILY_Garniture</th>\n",
       "      <th>LAST_FAMILY_Hand Ice</th>\n",
       "      <th>LAST_FAMILY_Ice Cakes</th>\n",
       "      <th>LAST_FAMILY_Individual Dessert</th>\n",
       "      <th>LAST_FAMILY_Meals</th>\n",
       "      <th>LAST_FAMILY_POS inside</th>\n",
       "      <th>LAST_FAMILY_Scoop Ice</th>\n",
       "    </tr>\n",
       "  </thead>\n",
       "  <tbody>\n",
       "    <tr>\n",
       "      <th>4675</th>\n",
       "      <td>0.104803</td>\n",
       "      <td>0.010204</td>\n",
       "      <td>0.002526</td>\n",
       "      <td>0.031168</td>\n",
       "      <td>0</td>\n",
       "      <td>0</td>\n",
       "      <td>0</td>\n",
       "      <td>4</td>\n",
       "      <td>0</td>\n",
       "      <td>0</td>\n",
       "      <td>...</td>\n",
       "      <td>0</td>\n",
       "      <td>0</td>\n",
       "      <td>1</td>\n",
       "      <td>0</td>\n",
       "      <td>0</td>\n",
       "      <td>0</td>\n",
       "      <td>0</td>\n",
       "      <td>0</td>\n",
       "      <td>0</td>\n",
       "      <td>0</td>\n",
       "    </tr>\n",
       "    <tr>\n",
       "      <th>5202</th>\n",
       "      <td>0.065502</td>\n",
       "      <td>0.142857</td>\n",
       "      <td>0.019182</td>\n",
       "      <td>0.031104</td>\n",
       "      <td>0</td>\n",
       "      <td>0</td>\n",
       "      <td>0</td>\n",
       "      <td>5</td>\n",
       "      <td>0</td>\n",
       "      <td>14</td>\n",
       "      <td>...</td>\n",
       "      <td>0</td>\n",
       "      <td>0</td>\n",
       "      <td>0</td>\n",
       "      <td>0</td>\n",
       "      <td>1</td>\n",
       "      <td>0</td>\n",
       "      <td>0</td>\n",
       "      <td>0</td>\n",
       "      <td>0</td>\n",
       "      <td>0</td>\n",
       "    </tr>\n",
       "    <tr>\n",
       "      <th>2758</th>\n",
       "      <td>0.016012</td>\n",
       "      <td>0.081633</td>\n",
       "      <td>0.008106</td>\n",
       "      <td>0.021662</td>\n",
       "      <td>0</td>\n",
       "      <td>0</td>\n",
       "      <td>0</td>\n",
       "      <td>1</td>\n",
       "      <td>0</td>\n",
       "      <td>12</td>\n",
       "      <td>...</td>\n",
       "      <td>0</td>\n",
       "      <td>0</td>\n",
       "      <td>0</td>\n",
       "      <td>0</td>\n",
       "      <td>1</td>\n",
       "      <td>0</td>\n",
       "      <td>0</td>\n",
       "      <td>0</td>\n",
       "      <td>0</td>\n",
       "      <td>0</td>\n",
       "    </tr>\n",
       "    <tr>\n",
       "      <th>5640</th>\n",
       "      <td>0.176128</td>\n",
       "      <td>0.040816</td>\n",
       "      <td>0.005953</td>\n",
       "      <td>0.029032</td>\n",
       "      <td>0</td>\n",
       "      <td>0</td>\n",
       "      <td>0</td>\n",
       "      <td>3</td>\n",
       "      <td>0</td>\n",
       "      <td>7</td>\n",
       "      <td>...</td>\n",
       "      <td>0</td>\n",
       "      <td>0</td>\n",
       "      <td>1</td>\n",
       "      <td>0</td>\n",
       "      <td>0</td>\n",
       "      <td>0</td>\n",
       "      <td>0</td>\n",
       "      <td>0</td>\n",
       "      <td>0</td>\n",
       "      <td>0</td>\n",
       "    </tr>\n",
       "    <tr>\n",
       "      <th>3251</th>\n",
       "      <td>0.033479</td>\n",
       "      <td>0.112245</td>\n",
       "      <td>0.009324</td>\n",
       "      <td>0.018527</td>\n",
       "      <td>0</td>\n",
       "      <td>0</td>\n",
       "      <td>0</td>\n",
       "      <td>1</td>\n",
       "      <td>0</td>\n",
       "      <td>5</td>\n",
       "      <td>...</td>\n",
       "      <td>0</td>\n",
       "      <td>0</td>\n",
       "      <td>0</td>\n",
       "      <td>0</td>\n",
       "      <td>1</td>\n",
       "      <td>0</td>\n",
       "      <td>0</td>\n",
       "      <td>0</td>\n",
       "      <td>0</td>\n",
       "      <td>0</td>\n",
       "    </tr>\n",
       "  </tbody>\n",
       "</table>\n",
       "<p>5 rows × 26 columns</p>\n",
       "</div>"
      ],
      "text/plain": [
       "       RECENCY  FREQUENCY  TOTAL_AMOUNT  AVG_AMOUNT  Assortments  BIG  Coffee  \\\n",
       "4675  0.104803   0.010204      0.002526    0.031168            0    0       0   \n",
       "5202  0.065502   0.142857      0.019182    0.031104            0    0       0   \n",
       "2758  0.016012   0.081633      0.008106    0.021662            0    0       0   \n",
       "5640  0.176128   0.040816      0.005953    0.029032            0    0       0   \n",
       "3251  0.033479   0.112245      0.009324    0.018527            0    0       0   \n",
       "\n",
       "      Cups  Garniture  Hand Ice  ...  LAST_FAMILY_BIG  LAST_FAMILY_Coffee  \\\n",
       "4675     4          0         0  ...                0                   0   \n",
       "5202     5          0        14  ...                0                   0   \n",
       "2758     1          0        12  ...                0                   0   \n",
       "5640     3          0         7  ...                0                   0   \n",
       "3251     1          0         5  ...                0                   0   \n",
       "\n",
       "      LAST_FAMILY_Cups  LAST_FAMILY_Garniture  LAST_FAMILY_Hand Ice  \\\n",
       "4675                 1                      0                     0   \n",
       "5202                 0                      0                     1   \n",
       "2758                 0                      0                     1   \n",
       "5640                 1                      0                     0   \n",
       "3251                 0                      0                     1   \n",
       "\n",
       "      LAST_FAMILY_Ice Cakes  LAST_FAMILY_Individual Dessert  \\\n",
       "4675                      0                               0   \n",
       "5202                      0                               0   \n",
       "2758                      0                               0   \n",
       "5640                      0                               0   \n",
       "3251                      0                               0   \n",
       "\n",
       "      LAST_FAMILY_Meals  LAST_FAMILY_POS inside  LAST_FAMILY_Scoop Ice  \n",
       "4675                  0                       0                      0  \n",
       "5202                  0                       0                      0  \n",
       "2758                  0                       0                      0  \n",
       "5640                  0                       0                      0  \n",
       "3251                  0                       0                      0  \n",
       "\n",
       "[5 rows x 26 columns]"
      ]
     },
     "execution_count": 64,
     "metadata": {},
     "output_type": "execute_result"
    }
   ],
   "source": [
    "#index:按照X—train的columns => 如果索引在原数据中没有匹配，则以0（而不是NaN)填充。\n",
    "X_test=X_test.reindex(columns=X_train.columns,fill_value=0)\n",
    "X_val=X_val.reindex(columns=X_train.columns,fill_value=0)\n",
    "X_val.head()"
   ]
  },
  {
   "cell_type": "markdown",
   "metadata": {},
   "source": [
    "## 5.6. Encode dependent variable"
   ]
  },
  {
   "cell_type": "code",
   "execution_count": 65,
   "metadata": {},
   "outputs": [
    {
     "data": {
      "text/plain": [
       "Scoop Ice             1349\n",
       "Hand Ice              1346\n",
       "Cups                   385\n",
       "Assortments            242\n",
       "Individual Dessert     173\n",
       "Ice Cakes              163\n",
       "Coffee                 129\n",
       "Meals                   63\n",
       "Garniture               58\n",
       "BIG                     46\n",
       "Name: FIRST_FAMILY, dtype: int64"
      ]
     },
     "execution_count": 65,
     "metadata": {},
     "output_type": "execute_result"
    }
   ],
   "source": [
    "\n",
    "Y_train.value_counts()"
   ]
  },
  {
   "cell_type": "code",
   "execution_count": 66,
   "metadata": {},
   "outputs": [
    {
     "data": {
      "text/plain": [
       "4675                  Cups\n",
       "5202                  Cups\n",
       "2758              Hand Ice\n",
       "5640              Hand Ice\n",
       "3251             Scoop Ice\n",
       "               ...        \n",
       "2858              Hand Ice\n",
       "3805                 Meals\n",
       "2769           Assortments\n",
       "4624              Hand Ice\n",
       "5251    Individual Dessert\n",
       "Name: FIRST_FAMILY, Length: 1325, dtype: object"
      ]
     },
     "execution_count": 66,
     "metadata": {},
     "output_type": "execute_result"
    }
   ],
   "source": [
    "Y_val"
   ]
  },
  {
   "cell_type": "code",
   "execution_count": 67,
   "metadata": {},
   "outputs": [],
   "source": [
    "# encode the categorical dependent variable into numbers :  只有First product family \n",
    "from sklearn.preprocessing import LabelEncoder\n",
    "\n",
    "encoder=LabelEncoder()\n",
    "#Y_train should be converted to str \n",
    "encoder.fit(Y_train.astype(str))\n",
    "\n",
    "Y_test=Y_test.map(lambda x:'<unknown>' if x not in encoder.classes_ else x)\n",
    "Y_val=Y_val.map(lambda x:'<unknown>' if x not in encoder.classes_ else x)\n",
    "encoder.classes_=np.append(encoder.classes_,'<unknown>')\n",
    "\n",
    "\n"
   ]
  },
  {
   "cell_type": "code",
   "execution_count": 68,
   "metadata": {},
   "outputs": [],
   "source": [
    "# transform both training and testing data\n",
    "Y_train=encoder.transform(Y_train.astype(str))\n",
    "Y_test=encoder.transform(Y_test.astype(str))\n",
    "Y_val=encoder.transform(Y_val.astype(str))"
   ]
  },
  {
   "cell_type": "markdown",
   "metadata": {},
   "source": [
    "## 5.7 missing values imputation:"
   ]
  },
  {
   "cell_type": "code",
   "execution_count": 69,
   "metadata": {
    "scrolled": true
   },
   "outputs": [
    {
     "data": {
      "text/plain": [
       "RECENCY                           0.0\n",
       "FREQUENCY                         0.0\n",
       "TOTAL_AMOUNT                      0.0\n",
       "AVG_AMOUNT                        0.0\n",
       "Assortments                       0.0\n",
       "BIG                               0.0\n",
       "Coffee                            0.0\n",
       "Cups                              0.0\n",
       "Garniture                         0.0\n",
       "Hand Ice                          0.0\n",
       "Ice Cakes                         0.0\n",
       "Individual Dessert                0.0\n",
       "Meals                             0.0\n",
       "POS inside                        0.0\n",
       "Scoop Ice                         0.0\n",
       "LAST_FAMILY_Assortments           0.0\n",
       "LAST_FAMILY_BIG                   0.0\n",
       "LAST_FAMILY_Coffee                0.0\n",
       "LAST_FAMILY_Cups                  0.0\n",
       "LAST_FAMILY_Garniture             0.0\n",
       "LAST_FAMILY_Hand Ice              0.0\n",
       "LAST_FAMILY_Ice Cakes             0.0\n",
       "LAST_FAMILY_Individual Dessert    0.0\n",
       "LAST_FAMILY_Meals                 0.0\n",
       "LAST_FAMILY_POS inside            0.0\n",
       "LAST_FAMILY_Scoop Ice             0.0\n",
       "dtype: float64"
      ]
     },
     "execution_count": 69,
     "metadata": {},
     "output_type": "execute_result"
    }
   ],
   "source": [
    "X_train.isnull().sum()/len(X_train)"
   ]
  },
  {
   "cell_type": "markdown",
   "metadata": {},
   "source": [
    "In previous cases, our dependent variable was a binary variable. For example, in the case of churn, we modelled whether someone was likely to churn (1) or not (0). To do so, we used a logistic regression. \n",
    "\n",
    "In a cross-sell case, the goal is to predict which product the customer is most likely to buy next. Hence, there are more than two possible discrete outcomes, i.e. the dependent variable consists of more than two categories. This is called a multiclass classification problem. \n",
    "\n",
    "To solve this, we will use 2 different algorithms (multinomial logistic regression and k-nearest neighbours) and compare these to the baseline (i.e., random) model. "
   ]
  },
  {
   "cell_type": "markdown",
   "metadata": {},
   "source": [
    "## 6.1. Multinomial"
   ]
  },
  {
   "cell_type": "markdown",
   "metadata": {},
   "source": [
    "A multinomial logistic regression generalizes logistic regression to multiclass problems (the dependent variable consists of K instead of 2 categories). \n",
    "\n",
    "Regression models are based on equations (you do not have to know the mathematics behind these equations!)\n",
    "\n",
    "For a logistic regression, we have 1 equation that models the likelihood of something happening (1) relative to not (0). \n",
    "\n",
    "For a multinomial logistic regression, we have K-1 equations. Each equation models the likelihood of a certain scenario happening relative to a baseline. \n",
    "\n",
    "An example will make this clearer: Suppose we want to predict if someone's favourite colour is red, green or blue. As we have three categories, the multinomial logistic regression will consist of 2 equations. Suppose blue is our baseline, then we will have the following equations: \n",
    "\n",
    "        (1) Equation 1: Likelihood that someone's favourite colour will be red relative to blue.\n",
    "        (2) Equation 2: Likelihood that someone's favourite colour will be green relative to blue. \n",
    "\n",
    "Finally, the outcome of a multinomial logistic regression consists of the likelihoods of the different possible outcomes. The outcome with the highest likelihood, will be the predicted outcome.  "
   ]
  },
  {
   "cell_type": "markdown",
   "metadata": {},
   "source": [
    "Create a predictive model using a multinomial logistic regression (the number of iterations should equal 1000)"
   ]
  },
  {
   "cell_type": "code",
   "execution_count": 70,
   "metadata": {},
   "outputs": [
    {
     "data": {
      "text/plain": [
       "LogisticRegression(max_iter=1000, multi_class='multinomial')"
      ]
     },
     "execution_count": 70,
     "metadata": {},
     "output_type": "execute_result"
    }
   ],
   "source": [
    "# Define the multinomial logistic regression:\n",
    "lr=LogisticRegression(multi_class='multinomial',solver='lbfgs',max_iter=1000)\n",
    "lr.fit(X_train,Y_train)"
   ]
  },
  {
   "cell_type": "code",
   "execution_count": 71,
   "metadata": {},
   "outputs": [
    {
     "data": {
      "text/plain": [
       "array([5, 5, 5, 9, 5, 5, 9, 9, 5])"
      ]
     },
     "execution_count": 71,
     "metadata": {},
     "output_type": "execute_result"
    }
   ],
   "source": [
    "# make predictions on validation set\n",
    "mlr_val_preds = lr.predict(X_val)\n",
    "mlr_val_preds[1:10]\n"
   ]
  },
  {
   "cell_type": "markdown",
   "metadata": {},
   "source": [
    "Calculate the accuracy of the model "
   ]
  },
  {
   "cell_type": "code",
   "execution_count": 72,
   "metadata": {},
   "outputs": [
    {
     "name": "stdout",
     "output_type": "stream",
     "text": [
      "accuracy:0.5305660377358491\n"
     ]
    }
   ],
   "source": [
    "print('accuracy:%s'%accuracy_score(Y_val,mlr_val_preds))"
   ]
  },
  {
   "cell_type": "markdown",
   "metadata": {},
   "source": [
    "Create a barplot of the predicted outcomes. \n",
    "\n",
    "Thus the x-axis should contain the products and the y-axis should represent the number of times a product has been predicted as the outcome. "
   ]
  },
  {
   "cell_type": "code",
   "execution_count": 73,
   "metadata": {},
   "outputs": [
    {
     "name": "stdout",
     "output_type": "stream",
     "text": [
      "[0 1 2 3 5 6 7 8 9] [ 46   3  23  60 618  18  16   1 540]\n"
     ]
    }
   ],
   "source": [
    "# predicted label & counts\n",
    "labs, counts = np.unique(mlr_val_preds, return_counts=True)\n",
    "print(labs, counts)"
   ]
  },
  {
   "cell_type": "code",
   "execution_count": 74,
   "metadata": {},
   "outputs": [
    {
     "name": "stdout",
     "output_type": "stream",
     "text": [
      "Assortments\n",
      "BIG\n",
      "Coffee\n",
      "Cups\n",
      "Hand Ice\n",
      "Ice Cakes\n",
      "Individual Dessert\n",
      "Meals\n",
      "Scoop Ice\n"
     ]
    }
   ],
   "source": [
    "# get all labels by looping through data and applying classes_()\n",
    "for lab in labs:\n",
    "    print(encoder.classes_[lab])"
   ]
  },
  {
   "cell_type": "code",
   "execution_count": 75,
   "metadata": {},
   "outputs": [
    {
     "data": {
      "image/png": "[encoded data removed]",
      "text/plain": [
       "<Figure size 936x360 with 1 Axes>"
      ]
     },
     "metadata": {
      "needs_background": "light"
     },
     "output_type": "display_data"
    }
   ],
   "source": [
    "plt.figure(figsize=(13,5))\n",
    "#y axis：counts\n",
    "plt.bar(range(len(labs)),counts)\n",
    "#change the name on the x axis \n",
    "plt.xticks(range(len(labs)),[encoder.classes_[lab] for lab in labs])\n",
    "plt.xlabel('products')\n",
    "plt.ylabel('number of times')\n",
    "plt.show()"
   ]
  },
  {
   "cell_type": "markdown",
   "metadata": {},
   "source": [
    "Similarly, create a barplot of the true outcomes. "
   ]
  },
  {
   "cell_type": "code",
   "execution_count": 76,
   "metadata": {},
   "outputs": [
    {
     "data": {
      "image/png": "[encoded data removed]",
      "text/plain": [
       "<Figure size 936x360 with 1 Axes>"
      ]
     },
     "metadata": {
      "needs_background": "light"
     },
     "output_type": "display_data"
    }
   ],
   "source": [
    "true_y,counts_y=np.unique(Y_val,return_counts=True)\n",
    "\n",
    "plt.figure(figsize=(13,5))\n",
    "#Y axis\n",
    "plt.bar(range(len(true_y)),counts_y)\n",
    "plt.xticks(range(len(true_y)),[encoder.classes_[i] for i in true_y])\n",
    "plt.show()"
   ]
  },
  {
   "cell_type": "markdown",
   "metadata": {},
   "source": [
    "## 6.2. KNN"
   ]
  },
  {
   "cell_type": "markdown",
   "metadata": {},
   "source": [
    "K-Nearest Neighbours (KNN) is an algorithm that can be used for classification as well as regression problems. \n",
    "\n",
    "KNN is based on the idea that similar things are close to eachother. In other words, observations with the same outcome will be close to each other in terms of distance. \n",
    "\n",
    "(Remember that observations can be represented by vectors in space -> Hence, the distance between two observations can be calculated as the distance between the two vectors representing them)\n",
    "\n",
    "The KNN algorithm goes as follows. For each new observation: \n",
    "\n",
    "    (1) Compute the distance between the new observation and all observations in the training set.\n",
    "    (2) Take the K closest training observations, i.e. those with the smallest distance to the new observation. These are the K-nearest neighbours. \n",
    "    (3) Take the label (i.e., dependent variable or true outcome) of those training observations. \n",
    "    (4) The predicted outcome for the new observation is the mode (=the one that occurs the most) of the K true outcomes. \n",
    "   "
   ]
  },
  {
   "attachments": {
    "Schermafbeelding%202020-11-24%20om%2023.38.31.png": {
     "image/png": "[encoded data removed]"
    }
   },
   "cell_type": "markdown",
   "metadata": {},
   "source": [
    "![Schermafbeelding%202020-11-24%20om%2023.38.31.png](attachment:Schermafbeelding%202020-11-24%20om%2023.38.31.png)"
   ]
  },
  {
   "cell_type": "markdown",
   "metadata": {},
   "source": [
    "Create a predictive model using the KNN algorithm with K=20"
   ]
  },
  {
   "cell_type": "code",
   "execution_count": 77,
   "metadata": {
    "scrolled": true
   },
   "outputs": [
    {
     "data": {
      "text/html": [
       "<div>\n",
       "<style scoped>\n",
       "    .dataframe tbody tr th:only-of-type {\n",
       "        vertical-align: middle;\n",
       "    }\n",
       "\n",
       "    .dataframe tbody tr th {\n",
       "        vertical-align: top;\n",
       "    }\n",
       "\n",
       "    .dataframe thead th {\n",
       "        text-align: right;\n",
       "    }\n",
       "</style>\n",
       "<table border=\"1\" class=\"dataframe\">\n",
       "  <thead>\n",
       "    <tr style=\"text-align: right;\">\n",
       "      <th></th>\n",
       "      <th>RECENCY</th>\n",
       "      <th>FREQUENCY</th>\n",
       "      <th>TOTAL_AMOUNT</th>\n",
       "      <th>AVG_AMOUNT</th>\n",
       "      <th>Assortments</th>\n",
       "      <th>BIG</th>\n",
       "      <th>Coffee</th>\n",
       "      <th>Cups</th>\n",
       "      <th>Garniture</th>\n",
       "      <th>Hand Ice</th>\n",
       "      <th>...</th>\n",
       "      <th>LAST_FAMILY_BIG</th>\n",
       "      <th>LAST_FAMILY_Coffee</th>\n",
       "      <th>LAST_FAMILY_Cups</th>\n",
       "      <th>LAST_FAMILY_Garniture</th>\n",
       "      <th>LAST_FAMILY_Hand Ice</th>\n",
       "      <th>LAST_FAMILY_Ice Cakes</th>\n",
       "      <th>LAST_FAMILY_Individual Dessert</th>\n",
       "      <th>LAST_FAMILY_Meals</th>\n",
       "      <th>LAST_FAMILY_POS inside</th>\n",
       "      <th>LAST_FAMILY_Scoop Ice</th>\n",
       "    </tr>\n",
       "  </thead>\n",
       "  <tbody>\n",
       "    <tr>\n",
       "      <th>6106</th>\n",
       "      <td>0.868996</td>\n",
       "      <td>0.020408</td>\n",
       "      <td>0.002055</td>\n",
       "      <td>0.016482</td>\n",
       "      <td>0</td>\n",
       "      <td>0</td>\n",
       "      <td>1</td>\n",
       "      <td>0</td>\n",
       "      <td>0</td>\n",
       "      <td>2</td>\n",
       "      <td>...</td>\n",
       "      <td>0</td>\n",
       "      <td>0</td>\n",
       "      <td>0</td>\n",
       "      <td>0</td>\n",
       "      <td>1</td>\n",
       "      <td>0</td>\n",
       "      <td>0</td>\n",
       "      <td>0</td>\n",
       "      <td>0</td>\n",
       "      <td>0</td>\n",
       "    </tr>\n",
       "    <tr>\n",
       "      <th>3385</th>\n",
       "      <td>0.128093</td>\n",
       "      <td>0.081633</td>\n",
       "      <td>0.004356</td>\n",
       "      <td>0.011204</td>\n",
       "      <td>0</td>\n",
       "      <td>0</td>\n",
       "      <td>0</td>\n",
       "      <td>3</td>\n",
       "      <td>0</td>\n",
       "      <td>2</td>\n",
       "      <td>...</td>\n",
       "      <td>0</td>\n",
       "      <td>0</td>\n",
       "      <td>0</td>\n",
       "      <td>0</td>\n",
       "      <td>0</td>\n",
       "      <td>0</td>\n",
       "      <td>0</td>\n",
       "      <td>0</td>\n",
       "      <td>0</td>\n",
       "      <td>1</td>\n",
       "    </tr>\n",
       "    <tr>\n",
       "      <th>600</th>\n",
       "      <td>0.247453</td>\n",
       "      <td>0.091837</td>\n",
       "      <td>0.012202</td>\n",
       "      <td>0.029667</td>\n",
       "      <td>0</td>\n",
       "      <td>0</td>\n",
       "      <td>4</td>\n",
       "      <td>0</td>\n",
       "      <td>0</td>\n",
       "      <td>2</td>\n",
       "      <td>...</td>\n",
       "      <td>0</td>\n",
       "      <td>0</td>\n",
       "      <td>0</td>\n",
       "      <td>0</td>\n",
       "      <td>1</td>\n",
       "      <td>0</td>\n",
       "      <td>0</td>\n",
       "      <td>0</td>\n",
       "      <td>0</td>\n",
       "      <td>0</td>\n",
       "    </tr>\n",
       "    <tr>\n",
       "      <th>1287</th>\n",
       "      <td>0.011645</td>\n",
       "      <td>0.326531</td>\n",
       "      <td>0.041419</td>\n",
       "      <td>0.030470</td>\n",
       "      <td>6</td>\n",
       "      <td>1</td>\n",
       "      <td>1</td>\n",
       "      <td>37</td>\n",
       "      <td>4</td>\n",
       "      <td>9</td>\n",
       "      <td>...</td>\n",
       "      <td>0</td>\n",
       "      <td>0</td>\n",
       "      <td>0</td>\n",
       "      <td>0</td>\n",
       "      <td>1</td>\n",
       "      <td>0</td>\n",
       "      <td>0</td>\n",
       "      <td>0</td>\n",
       "      <td>0</td>\n",
       "      <td>0</td>\n",
       "    </tr>\n",
       "    <tr>\n",
       "      <th>2631</th>\n",
       "      <td>0.197962</td>\n",
       "      <td>0.051020</td>\n",
       "      <td>0.005010</td>\n",
       "      <td>0.020073</td>\n",
       "      <td>1</td>\n",
       "      <td>0</td>\n",
       "      <td>0</td>\n",
       "      <td>0</td>\n",
       "      <td>0</td>\n",
       "      <td>1</td>\n",
       "      <td>...</td>\n",
       "      <td>0</td>\n",
       "      <td>0</td>\n",
       "      <td>0</td>\n",
       "      <td>0</td>\n",
       "      <td>1</td>\n",
       "      <td>0</td>\n",
       "      <td>0</td>\n",
       "      <td>0</td>\n",
       "      <td>0</td>\n",
       "      <td>0</td>\n",
       "    </tr>\n",
       "  </tbody>\n",
       "</table>\n",
       "<p>5 rows × 26 columns</p>\n",
       "</div>"
      ],
      "text/plain": [
       "       RECENCY  FREQUENCY  TOTAL_AMOUNT  AVG_AMOUNT  Assortments  BIG  Coffee  \\\n",
       "6106  0.868996   0.020408      0.002055    0.016482            0    0       1   \n",
       "3385  0.128093   0.081633      0.004356    0.011204            0    0       0   \n",
       "600   0.247453   0.091837      0.012202    0.029667            0    0       4   \n",
       "1287  0.011645   0.326531      0.041419    0.030470            6    1       1   \n",
       "2631  0.197962   0.051020      0.005010    0.020073            1    0       0   \n",
       "\n",
       "      Cups  Garniture  Hand Ice  ...  LAST_FAMILY_BIG  LAST_FAMILY_Coffee  \\\n",
       "6106     0          0         2  ...                0                   0   \n",
       "3385     3          0         2  ...                0                   0   \n",
       "600      0          0         2  ...                0                   0   \n",
       "1287    37          4         9  ...                0                   0   \n",
       "2631     0          0         1  ...                0                   0   \n",
       "\n",
       "      LAST_FAMILY_Cups  LAST_FAMILY_Garniture  LAST_FAMILY_Hand Ice  \\\n",
       "6106                 0                      0                     1   \n",
       "3385                 0                      0                     0   \n",
       "600                  0                      0                     1   \n",
       "1287                 0                      0                     1   \n",
       "2631                 0                      0                     1   \n",
       "\n",
       "      LAST_FAMILY_Ice Cakes  LAST_FAMILY_Individual Dessert  \\\n",
       "6106                      0                               0   \n",
       "3385                      0                               0   \n",
       "600                       0                               0   \n",
       "1287                      0                               0   \n",
       "2631                      0                               0   \n",
       "\n",
       "      LAST_FAMILY_Meals  LAST_FAMILY_POS inside  LAST_FAMILY_Scoop Ice  \n",
       "6106                  0                       0                      0  \n",
       "3385                  0                       0                      1  \n",
       "600                   0                       0                      0  \n",
       "1287                  0                       0                      0  \n",
       "2631                  0                       0                      0  \n",
       "\n",
       "[5 rows x 26 columns]"
      ]
     },
     "execution_count": 77,
     "metadata": {},
     "output_type": "execute_result"
    }
   ],
   "source": [
    "X_train.head()"
   ]
  },
  {
   "cell_type": "code",
   "execution_count": 78,
   "metadata": {},
   "outputs": [
    {
     "data": {
      "text/plain": [
       "array([9, 5, 9, ..., 5, 5, 5])"
      ]
     },
     "execution_count": 78,
     "metadata": {},
     "output_type": "execute_result"
    }
   ],
   "source": [
    "knn=KNeighborsClassifier(n_neighbors=20)\n",
    "knn.fit(X_train[['RECENCY','FREQUENCY','TOTAL_AMOUNT','AVG_AMOUNT']],Y_train)\n",
    "#get prediction:\n",
    "knn_pred=knn.predict(X_val[['RECENCY','FREQUENCY','TOTAL_AMOUNT','AVG_AMOUNT']])\n",
    "knn_pred"
   ]
  },
  {
   "cell_type": "markdown",
   "metadata": {},
   "source": [
    "Compute the accuracy of the predictive model "
   ]
  },
  {
   "cell_type": "code",
   "execution_count": 79,
   "metadata": {},
   "outputs": [
    {
     "name": "stdout",
     "output_type": "stream",
     "text": [
      "KNN val accuracy: 35.094339622641506 %\n"
     ]
    }
   ],
   "source": [
    "# get accuracy\n",
    "knn_val_acc = accuracy_score(Y_val, knn_pred)\n",
    "# check\n",
    "print(\"KNN val accuracy: %s %%\" %(knn_val_acc * 100))"
   ]
  },
  {
   "cell_type": "markdown",
   "metadata": {},
   "source": [
    "## 6.3. Random"
   ]
  },
  {
   "cell_type": "markdown",
   "metadata": {},
   "source": [
    "Compute the predictions of a random model. This is our baseline model against which we can compare the other models. "
   ]
  },
  {
   "cell_type": "code",
   "execution_count": 80,
   "metadata": {},
   "outputs": [],
   "source": [
    "#get most bought product \n",
    "most_bought_product = np.unique(Y_train)[np.argmax(np.unique(Y_train, return_counts=True)[1])]\n",
    "# make val predictions\n",
    "random_val_preds = [most_bought_product for i in range(len(X_val))]"
   ]
  },
  {
   "cell_type": "code",
   "execution_count": 81,
   "metadata": {},
   "outputs": [
    {
     "name": "stdout",
     "output_type": "stream",
     "text": [
      "random val accuracy: 34.71698113207547 %\n"
     ]
    }
   ],
   "source": [
    "# get accuracy\n",
    "random_val_acc = accuracy_score(Y_val, random_val_preds)\n",
    "# check\n",
    "print(\"random val accuracy: %s %%\" %(random_val_acc * 100))"
   ]
  },
  {
   "cell_type": "markdown",
   "metadata": {},
   "source": [
    "## 7. Model Evaluation"
   ]
  },
  {
   "cell_type": "markdown",
   "metadata": {},
   "source": [
    "As a final step, create the final model and calculate its accuracy. "
   ]
  },
  {
   "cell_type": "code",
   "execution_count": 82,
   "metadata": {},
   "outputs": [],
   "source": [
    "# join train and val\n",
    "train_big_X = pd.concat([X_train, X_val], axis=0)\n",
    "train_big_y = np.concatenate([Y_train, Y_val], axis=0)"
   ]
  },
  {
   "cell_type": "code",
   "execution_count": 83,
   "metadata": {},
   "outputs": [],
   "source": [
    "# define multinomial logistic regression model\n",
    "mlr_model = LogisticRegression(max_iter=1000, multi_class=\"multinomial\", solver=\"lbfgs\")\n",
    "# fit model on training set\n",
    "mlr_model.fit(train_big_X, train_big_y)\n",
    "# make predictions on test set\n",
    "mlr_test_preds = mlr_model.predict(X_test)"
   ]
  },
  {
   "cell_type": "code",
   "execution_count": 84,
   "metadata": {},
   "outputs": [
    {
     "name": "stdout",
     "output_type": "stream",
     "text": [
      "multilogit val accuracy: 51.62264150943396\n"
     ]
    }
   ],
   "source": [
    "# get accuracy\n",
    "mlr_test_acc = accuracy_score(Y_test, mlr_test_preds)\n",
    "# check\n",
    "print(\"multilogit val accuracy: %s\" %(mlr_test_acc * 100))"
   ]
  },
  {
   "cell_type": "markdown",
   "metadata": {},
   "source": [
    "Create a barplot of the predicted outcomes."
   ]
  },
  {
   "cell_type": "code",
   "execution_count": 86,
   "metadata": {},
   "outputs": [
    {
     "data": {
      "image/png": "[encoded data removed]",
      "text/plain": [
       "<Figure size 432x288 with 1 Axes>"
      ]
     },
     "metadata": {
      "needs_background": "light"
     },
     "output_type": "display_data"
    }
   ],
   "source": [
    "# get predicted labels and counts\n",
    "labs, counts = np.unique(mlr_test_preds, return_counts=True)\n",
    "plt.bar(range(len(labs)), counts)\n",
    "plt.xticks(range(len(labs)), [encoder.classes_[lab] for lab in labs], rotation=90)\n",
    "plt.show()"
   ]
  },
  {
   "cell_type": "code",
   "execution_count": null,
   "metadata": {},
   "outputs": [],
   "source": []
  }
 ],
 "metadata": {
  "kernelspec": {
   "display_name": "Python 3 (ipykernel)",
   "language": "python",
   "name": "python3"
  },
  "language_info": {
   "codemirror_mode": {
    "name": "ipython",
    "version": 3
   },
   "file_extension": ".py",
   "mimetype": "text/x-python",
   "name": "python",
   "nbconvert_exporter": "python",
   "pygments_lexer": "ipython3",
   "version": "3.8.8"
  }
 },
 "nbformat": 4,
 "nbformat_minor": 2
}
